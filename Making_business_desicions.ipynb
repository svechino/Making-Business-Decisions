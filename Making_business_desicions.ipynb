{
 "cells": [
  {
   "cell_type": "code",
   "execution_count": 4,
   "metadata": {},
   "outputs": [],
   "source": [
    "import pandas as pd\n",
    "import scipy.stats as stats\n",
    "import datetime as dt\n",
    "import numpy as np\n",
    "import matplotlib.pyplot as plt\n",
    "import math as mth\n",
    "from scipy import stats as st\n",
    "import seaborn as sns\n",
    "%matplotlib inline"
   ]
  },
  {
   "cell_type": "code",
   "execution_count": 5,
   "metadata": {},
   "outputs": [],
   "source": [
    "#import chart_studio.plotly as py\n",
    "#import cufflinks as cf\n",
    "import seaborn as sns\n",
    "#import plotly.express as px\n",
    "%matplotlib inline\n",
    "#from plotly.offline import download_plotlyjs, init_notebook_mode, plot, iplot\n",
    "#init_notebook_mode(connected=True)\n",
    "#cf.go_offline()\n",
    "#import plotly.graph_objects as go"
   ]
  },
  {
   "cell_type": "code",
   "execution_count": 6,
   "metadata": {},
   "outputs": [],
   "source": [
    "from IPython.core.interactiveshell import InteractiveShell\n",
    "InteractiveShell.ast_node_interactivity = \"all\""
   ]
  },
  {
   "cell_type": "code",
   "execution_count": 7,
   "metadata": {},
   "outputs": [],
   "source": [
    "import sys\n",
    "import warnings\n",
    "if not sys.warnoptions:\n",
    "    warnings.simplefilter(\"ignore\")"
   ]
  },
  {
   "cell_type": "markdown",
   "metadata": {},
   "source": [
    "# Project description"
   ]
  },
  {
   "cell_type": "markdown",
   "metadata": {},
   "source": [
    "Team-project with marketing department on boosting revenue for big online store. The main goal of the project is to define the most promising hypothesis in terms of increasing revenue of the store, launch an A/B test, and analyze the results. \n",
    "\n",
    "Outline of analysis\n",
    "\n",
    "- Loading the data, checking for duplicates and mismatched values, converting data types to the necessary formats. \n",
    "- Prioritizing hypotheses using ICE and RICE methods, ranging priority. \n",
    "- Launching an A/B test.\n",
    "- Analyzing the results of the A/B test: calculation of basic indicators for conversion rate and average order size, comparing results for both groups, testing hypothesis using statistical tests.\n",
    "- Summurizing results of our analysis and making recommendation on the A/B test continuance"
   ]
  },
  {
   "cell_type": "markdown",
   "metadata": {},
   "source": [
    "# Download data"
   ]
  },
  {
   "cell_type": "markdown",
   "metadata": {},
   "source": [
    "In this part of our project we will load the files with data and will preprocess the data. "
   ]
  },
  {
   "cell_type": "code",
   "execution_count": 8,
   "metadata": {},
   "outputs": [
    {
     "data": {
      "text/html": [
       "<div>\n",
       "<style scoped>\n",
       "    .dataframe tbody tr th:only-of-type {\n",
       "        vertical-align: middle;\n",
       "    }\n",
       "\n",
       "    .dataframe tbody tr th {\n",
       "        vertical-align: top;\n",
       "    }\n",
       "\n",
       "    .dataframe thead th {\n",
       "        text-align: right;\n",
       "    }\n",
       "</style>\n",
       "<table border=\"1\" class=\"dataframe\">\n",
       "  <thead>\n",
       "    <tr style=\"text-align: right;\">\n",
       "      <th></th>\n",
       "      <th>Hypothesis;Reach;Impact;Confidence;Effort</th>\n",
       "    </tr>\n",
       "  </thead>\n",
       "  <tbody>\n",
       "    <tr>\n",
       "      <th>0</th>\n",
       "      <td>Add two new channels for attracting traffic. T...</td>\n",
       "    </tr>\n",
       "    <tr>\n",
       "      <th>1</th>\n",
       "      <td>Launch your own delivery service. This will sh...</td>\n",
       "    </tr>\n",
       "    <tr>\n",
       "      <th>2</th>\n",
       "      <td>Add product recommendation blocks to the store...</td>\n",
       "    </tr>\n",
       "    <tr>\n",
       "      <th>3</th>\n",
       "      <td>Change the category structure. This will incre...</td>\n",
       "    </tr>\n",
       "    <tr>\n",
       "      <th>4</th>\n",
       "      <td>Change the background color on the main page. ...</td>\n",
       "    </tr>\n",
       "  </tbody>\n",
       "</table>\n",
       "</div>"
      ],
      "text/plain": [
       "           Hypothesis;Reach;Impact;Confidence;Effort\n",
       "0  Add two new channels for attracting traffic. T...\n",
       "1  Launch your own delivery service. This will sh...\n",
       "2  Add product recommendation blocks to the store...\n",
       "3  Change the category structure. This will incre...\n",
       "4  Change the background color on the main page. ..."
      ]
     },
     "execution_count": 8,
     "metadata": {},
     "output_type": "execute_result"
    }
   ],
   "source": [
    "hypotheses = pd.read_csv('hypotheses_us.csv')\n",
    "hypotheses.head()"
   ]
  },
  {
   "cell_type": "markdown",
   "metadata": {},
   "source": [
    "We have a problem with this dataframe, we need to divide the data to the columns, so that it would be more convenient for further analysis. "
   ]
  },
  {
   "cell_type": "code",
   "execution_count": 9,
   "metadata": {},
   "outputs": [
    {
     "name": "stdout",
     "output_type": "stream",
     "text": [
      "<class 'pandas.core.frame.DataFrame'>\n",
      "RangeIndex: 9 entries, 0 to 8\n",
      "Data columns (total 5 columns):\n",
      " #   Column      Non-Null Count  Dtype \n",
      "---  ------      --------------  ----- \n",
      " 0   hypothesis  9 non-null      object\n",
      " 1   reach       9 non-null      int32 \n",
      " 2   impact      9 non-null      int32 \n",
      " 3   confidence  9 non-null      int32 \n",
      " 4   effort      9 non-null      int32 \n",
      "dtypes: int32(4), object(1)\n",
      "memory usage: 344.0+ bytes\n"
     ]
    }
   ],
   "source": [
    "# We will divide our data to several columns and rename them:\n",
    "hypotheses = hypotheses['Hypothesis;Reach;Impact;Confidence;Effort'].str.split(';', expand=True)\n",
    "hypotheses.columns = ['hypothesis', 'reach', 'impact', 'confidence', 'effort']\n",
    "# We will convert numerical data:\n",
    "hypotheses['reach'] = hypotheses['reach'].astype('int')\n",
    "hypotheses['impact'] = hypotheses['impact'].astype('int')\n",
    "hypotheses['confidence'] = hypotheses['confidence'].astype('int')\n",
    "hypotheses['effort'] = hypotheses['effort'].astype('int')\n",
    "hypotheses.info()"
   ]
  },
  {
   "cell_type": "code",
   "execution_count": 10,
   "metadata": {},
   "outputs": [
    {
     "data": {
      "text/html": [
       "<div>\n",
       "<style scoped>\n",
       "    .dataframe tbody tr th:only-of-type {\n",
       "        vertical-align: middle;\n",
       "    }\n",
       "\n",
       "    .dataframe tbody tr th {\n",
       "        vertical-align: top;\n",
       "    }\n",
       "\n",
       "    .dataframe thead th {\n",
       "        text-align: right;\n",
       "    }\n",
       "</style>\n",
       "<table border=\"1\" class=\"dataframe\">\n",
       "  <thead>\n",
       "    <tr style=\"text-align: right;\">\n",
       "      <th></th>\n",
       "      <th>transactionId</th>\n",
       "      <th>visitorId</th>\n",
       "      <th>date</th>\n",
       "      <th>revenue</th>\n",
       "      <th>group</th>\n",
       "    </tr>\n",
       "  </thead>\n",
       "  <tbody>\n",
       "    <tr>\n",
       "      <th>0</th>\n",
       "      <td>3667963787</td>\n",
       "      <td>3312258926</td>\n",
       "      <td>2019-08-15</td>\n",
       "      <td>30.4</td>\n",
       "      <td>B</td>\n",
       "    </tr>\n",
       "    <tr>\n",
       "      <th>1</th>\n",
       "      <td>2804400009</td>\n",
       "      <td>3642806036</td>\n",
       "      <td>2019-08-15</td>\n",
       "      <td>15.2</td>\n",
       "      <td>B</td>\n",
       "    </tr>\n",
       "    <tr>\n",
       "      <th>2</th>\n",
       "      <td>2961555356</td>\n",
       "      <td>4069496402</td>\n",
       "      <td>2019-08-15</td>\n",
       "      <td>10.2</td>\n",
       "      <td>A</td>\n",
       "    </tr>\n",
       "    <tr>\n",
       "      <th>3</th>\n",
       "      <td>3797467345</td>\n",
       "      <td>1196621759</td>\n",
       "      <td>2019-08-15</td>\n",
       "      <td>155.1</td>\n",
       "      <td>B</td>\n",
       "    </tr>\n",
       "    <tr>\n",
       "      <th>4</th>\n",
       "      <td>2282983706</td>\n",
       "      <td>2322279887</td>\n",
       "      <td>2019-08-15</td>\n",
       "      <td>40.5</td>\n",
       "      <td>B</td>\n",
       "    </tr>\n",
       "  </tbody>\n",
       "</table>\n",
       "</div>"
      ],
      "text/plain": [
       "   transactionId   visitorId        date  revenue group\n",
       "0     3667963787  3312258926  2019-08-15     30.4     B\n",
       "1     2804400009  3642806036  2019-08-15     15.2     B\n",
       "2     2961555356  4069496402  2019-08-15     10.2     A\n",
       "3     3797467345  1196621759  2019-08-15    155.1     B\n",
       "4     2282983706  2322279887  2019-08-15     40.5     B"
      ]
     },
     "execution_count": 10,
     "metadata": {},
     "output_type": "execute_result"
    },
    {
     "name": "stdout",
     "output_type": "stream",
     "text": [
      "<class 'pandas.core.frame.DataFrame'>\n",
      "RangeIndex: 1197 entries, 0 to 1196\n",
      "Data columns (total 5 columns):\n",
      " #   Column         Non-Null Count  Dtype  \n",
      "---  ------         --------------  -----  \n",
      " 0   transactionId  1197 non-null   int64  \n",
      " 1   visitorId      1197 non-null   int64  \n",
      " 2   date           1197 non-null   object \n",
      " 3   revenue        1197 non-null   float64\n",
      " 4   group          1197 non-null   object \n",
      "dtypes: float64(1), int64(2), object(2)\n",
      "memory usage: 46.9+ KB\n"
     ]
    }
   ],
   "source": [
    "orders = pd.read_csv('orders_us.csv')\n",
    "orders.head()\n",
    "orders.info()"
   ]
  },
  {
   "cell_type": "code",
   "execution_count": 11,
   "metadata": {},
   "outputs": [
    {
     "data": {
      "text/html": [
       "<div>\n",
       "<style scoped>\n",
       "    .dataframe tbody tr th:only-of-type {\n",
       "        vertical-align: middle;\n",
       "    }\n",
       "\n",
       "    .dataframe tbody tr th {\n",
       "        vertical-align: top;\n",
       "    }\n",
       "\n",
       "    .dataframe thead th {\n",
       "        text-align: right;\n",
       "    }\n",
       "</style>\n",
       "<table border=\"1\" class=\"dataframe\">\n",
       "  <thead>\n",
       "    <tr style=\"text-align: right;\">\n",
       "      <th></th>\n",
       "      <th>transactionId</th>\n",
       "      <th>visitorId</th>\n",
       "      <th>date</th>\n",
       "      <th>revenue</th>\n",
       "      <th>group</th>\n",
       "    </tr>\n",
       "  </thead>\n",
       "  <tbody>\n",
       "    <tr>\n",
       "      <th>0</th>\n",
       "      <td>3667963787</td>\n",
       "      <td>3312258926</td>\n",
       "      <td>2019-08-15</td>\n",
       "      <td>30.4</td>\n",
       "      <td>B</td>\n",
       "    </tr>\n",
       "    <tr>\n",
       "      <th>1</th>\n",
       "      <td>2804400009</td>\n",
       "      <td>3642806036</td>\n",
       "      <td>2019-08-15</td>\n",
       "      <td>15.2</td>\n",
       "      <td>B</td>\n",
       "    </tr>\n",
       "    <tr>\n",
       "      <th>2</th>\n",
       "      <td>2961555356</td>\n",
       "      <td>4069496402</td>\n",
       "      <td>2019-08-15</td>\n",
       "      <td>10.2</td>\n",
       "      <td>A</td>\n",
       "    </tr>\n",
       "    <tr>\n",
       "      <th>3</th>\n",
       "      <td>3797467345</td>\n",
       "      <td>1196621759</td>\n",
       "      <td>2019-08-15</td>\n",
       "      <td>155.1</td>\n",
       "      <td>B</td>\n",
       "    </tr>\n",
       "    <tr>\n",
       "      <th>4</th>\n",
       "      <td>2282983706</td>\n",
       "      <td>2322279887</td>\n",
       "      <td>2019-08-15</td>\n",
       "      <td>40.5</td>\n",
       "      <td>B</td>\n",
       "    </tr>\n",
       "  </tbody>\n",
       "</table>\n",
       "</div>"
      ],
      "text/plain": [
       "   transactionId   visitorId       date  revenue group\n",
       "0     3667963787  3312258926 2019-08-15     30.4     B\n",
       "1     2804400009  3642806036 2019-08-15     15.2     B\n",
       "2     2961555356  4069496402 2019-08-15     10.2     A\n",
       "3     3797467345  1196621759 2019-08-15    155.1     B\n",
       "4     2282983706  2322279887 2019-08-15     40.5     B"
      ]
     },
     "execution_count": 11,
     "metadata": {},
     "output_type": "execute_result"
    }
   ],
   "source": [
    "# Converting date to the datetime format: \n",
    "orders['date'] = orders['date'].map(\n",
    "    lambda x: dt.datetime.strptime(x, '%Y-%m-%d')\n",
    ")\n",
    "orders.head()"
   ]
  },
  {
   "cell_type": "code",
   "execution_count": 12,
   "metadata": {},
   "outputs": [
    {
     "data": {
      "text/plain": [
       "Timestamp('2019-08-01 00:00:00')"
      ]
     },
     "execution_count": 12,
     "metadata": {},
     "output_type": "execute_result"
    },
    {
     "data": {
      "text/plain": [
       "Timestamp('2019-08-31 00:00:00')"
      ]
     },
     "execution_count": 12,
     "metadata": {},
     "output_type": "execute_result"
    }
   ],
   "source": [
    "orders['date'].min()\n",
    "orders['date'].max()"
   ]
  },
  {
   "cell_type": "code",
   "execution_count": 13,
   "metadata": {},
   "outputs": [
    {
     "name": "stdout",
     "output_type": "stream",
     "text": [
      "<class 'pandas.core.frame.DataFrame'>\n",
      "Int64Index: 1197 entries, 0 to 1196\n",
      "Data columns (total 5 columns):\n",
      " #   Column         Non-Null Count  Dtype         \n",
      "---  ------         --------------  -----         \n",
      " 0   transactionId  1197 non-null   int64         \n",
      " 1   visitorId      1197 non-null   int64         \n",
      " 2   date           1197 non-null   datetime64[ns]\n",
      " 3   revenue        1197 non-null   float64       \n",
      " 4   group          1197 non-null   object        \n",
      "dtypes: datetime64[ns](1), float64(1), int64(2), object(1)\n",
      "memory usage: 56.1+ KB\n"
     ]
    }
   ],
   "source": [
    "orders = orders.drop_duplicates()\n",
    "orders.info()"
   ]
  },
  {
   "cell_type": "markdown",
   "metadata": {},
   "source": [
    "We will check if we have any users that present in both groups. "
   ]
  },
  {
   "cell_type": "code",
   "execution_count": 14,
   "metadata": {},
   "outputs": [
    {
     "data": {
      "text/plain": [
       "92"
      ]
     },
     "execution_count": 14,
     "metadata": {},
     "output_type": "execute_result"
    }
   ],
   "source": [
    "ordersA = orders[orders['group']=='A']\n",
    "ordersB = orders[orders['group']=='B']\n",
    "group_A = ordersA['visitorId'].unique()\n",
    "users_duplicates_orders = ordersB[ordersB['visitorId'].isin(group_A)]\n",
    "len(users_duplicates_orders)"
   ]
  },
  {
   "cell_type": "markdown",
   "metadata": {},
   "source": [
    "We do have common users in both groups. Since we don't have possibility to define to each of the group the user belongs, we should completly remove them from both groups, otherwise we would not be able to analyze results correctly. "
   ]
  },
  {
   "cell_type": "code",
   "execution_count": 15,
   "metadata": {},
   "outputs": [
    {
     "data": {
      "text/plain": [
       "1016"
      ]
     },
     "execution_count": 15,
     "metadata": {},
     "output_type": "execute_result"
    }
   ],
   "source": [
    "# We will remove users that are signed in both groups: \n",
    "orders_filt = orders[~orders['visitorId'].isin(users_duplicates_orders['visitorId'])]\n",
    "len(orders_filt)"
   ]
  },
  {
   "cell_type": "code",
   "execution_count": 16,
   "metadata": {},
   "outputs": [
    {
     "name": "stdout",
     "output_type": "stream",
     "text": [
      "<class 'pandas.core.frame.DataFrame'>\n",
      "Int64Index: 1016 entries, 0 to 1196\n",
      "Data columns (total 5 columns):\n",
      " #   Column         Non-Null Count  Dtype         \n",
      "---  ------         --------------  -----         \n",
      " 0   transactionId  1016 non-null   int64         \n",
      " 1   visitorId      1016 non-null   int64         \n",
      " 2   date           1016 non-null   datetime64[ns]\n",
      " 3   revenue        1016 non-null   float64       \n",
      " 4   group          1016 non-null   object        \n",
      "dtypes: datetime64[ns](1), float64(1), int64(2), object(1)\n",
      "memory usage: 47.6+ KB\n"
     ]
    }
   ],
   "source": [
    "orders_filt.info()"
   ]
  },
  {
   "cell_type": "code",
   "execution_count": 17,
   "metadata": {},
   "outputs": [],
   "source": [
    "orders_A = orders_filt[orders_filt['group']=='A']\n",
    "orders_B = orders_filt[orders_filt['group']=='B']"
   ]
  },
  {
   "cell_type": "code",
   "execution_count": 18,
   "metadata": {},
   "outputs": [
    {
     "data": {
      "text/html": [
       "<div>\n",
       "<style scoped>\n",
       "    .dataframe tbody tr th:only-of-type {\n",
       "        vertical-align: middle;\n",
       "    }\n",
       "\n",
       "    .dataframe tbody tr th {\n",
       "        vertical-align: top;\n",
       "    }\n",
       "\n",
       "    .dataframe thead th {\n",
       "        text-align: right;\n",
       "    }\n",
       "</style>\n",
       "<table border=\"1\" class=\"dataframe\">\n",
       "  <thead>\n",
       "    <tr style=\"text-align: right;\">\n",
       "      <th></th>\n",
       "      <th>date</th>\n",
       "      <th>group</th>\n",
       "      <th>visits</th>\n",
       "    </tr>\n",
       "  </thead>\n",
       "  <tbody>\n",
       "    <tr>\n",
       "      <th>0</th>\n",
       "      <td>2019-08-01</td>\n",
       "      <td>A</td>\n",
       "      <td>719</td>\n",
       "    </tr>\n",
       "    <tr>\n",
       "      <th>1</th>\n",
       "      <td>2019-08-02</td>\n",
       "      <td>A</td>\n",
       "      <td>619</td>\n",
       "    </tr>\n",
       "    <tr>\n",
       "      <th>2</th>\n",
       "      <td>2019-08-03</td>\n",
       "      <td>A</td>\n",
       "      <td>507</td>\n",
       "    </tr>\n",
       "    <tr>\n",
       "      <th>3</th>\n",
       "      <td>2019-08-04</td>\n",
       "      <td>A</td>\n",
       "      <td>717</td>\n",
       "    </tr>\n",
       "    <tr>\n",
       "      <th>4</th>\n",
       "      <td>2019-08-05</td>\n",
       "      <td>A</td>\n",
       "      <td>756</td>\n",
       "    </tr>\n",
       "  </tbody>\n",
       "</table>\n",
       "</div>"
      ],
      "text/plain": [
       "         date group  visits\n",
       "0  2019-08-01     A     719\n",
       "1  2019-08-02     A     619\n",
       "2  2019-08-03     A     507\n",
       "3  2019-08-04     A     717\n",
       "4  2019-08-05     A     756"
      ]
     },
     "execution_count": 18,
     "metadata": {},
     "output_type": "execute_result"
    },
    {
     "name": "stdout",
     "output_type": "stream",
     "text": [
      "<class 'pandas.core.frame.DataFrame'>\n",
      "RangeIndex: 62 entries, 0 to 61\n",
      "Data columns (total 3 columns):\n",
      " #   Column  Non-Null Count  Dtype \n",
      "---  ------  --------------  ----- \n",
      " 0   date    62 non-null     object\n",
      " 1   group   62 non-null     object\n",
      " 2   visits  62 non-null     int64 \n",
      "dtypes: int64(1), object(2)\n",
      "memory usage: 1.6+ KB\n"
     ]
    }
   ],
   "source": [
    "visits = pd.read_csv('visits_us.csv')\n",
    "visits.head()\n",
    "visits.info()"
   ]
  },
  {
   "cell_type": "code",
   "execution_count": 19,
   "metadata": {},
   "outputs": [
    {
     "data": {
      "text/html": [
       "<div>\n",
       "<style scoped>\n",
       "    .dataframe tbody tr th:only-of-type {\n",
       "        vertical-align: middle;\n",
       "    }\n",
       "\n",
       "    .dataframe tbody tr th {\n",
       "        vertical-align: top;\n",
       "    }\n",
       "\n",
       "    .dataframe thead th {\n",
       "        text-align: right;\n",
       "    }\n",
       "</style>\n",
       "<table border=\"1\" class=\"dataframe\">\n",
       "  <thead>\n",
       "    <tr style=\"text-align: right;\">\n",
       "      <th></th>\n",
       "      <th>date</th>\n",
       "      <th>group</th>\n",
       "      <th>visits</th>\n",
       "    </tr>\n",
       "  </thead>\n",
       "  <tbody>\n",
       "    <tr>\n",
       "      <th>0</th>\n",
       "      <td>2019-08-01</td>\n",
       "      <td>A</td>\n",
       "      <td>719</td>\n",
       "    </tr>\n",
       "    <tr>\n",
       "      <th>1</th>\n",
       "      <td>2019-08-02</td>\n",
       "      <td>A</td>\n",
       "      <td>619</td>\n",
       "    </tr>\n",
       "    <tr>\n",
       "      <th>2</th>\n",
       "      <td>2019-08-03</td>\n",
       "      <td>A</td>\n",
       "      <td>507</td>\n",
       "    </tr>\n",
       "    <tr>\n",
       "      <th>3</th>\n",
       "      <td>2019-08-04</td>\n",
       "      <td>A</td>\n",
       "      <td>717</td>\n",
       "    </tr>\n",
       "    <tr>\n",
       "      <th>4</th>\n",
       "      <td>2019-08-05</td>\n",
       "      <td>A</td>\n",
       "      <td>756</td>\n",
       "    </tr>\n",
       "  </tbody>\n",
       "</table>\n",
       "</div>"
      ],
      "text/plain": [
       "        date group  visits\n",
       "0 2019-08-01     A     719\n",
       "1 2019-08-02     A     619\n",
       "2 2019-08-03     A     507\n",
       "3 2019-08-04     A     717\n",
       "4 2019-08-05     A     756"
      ]
     },
     "execution_count": 19,
     "metadata": {},
     "output_type": "execute_result"
    }
   ],
   "source": [
    "# Converting date to the datetime format: \n",
    "visits['date'] = visits['date'].map(\n",
    "    lambda x: dt.datetime.strptime(x, '%Y-%m-%d')\n",
    ")\n",
    "visits.head()"
   ]
  },
  {
   "cell_type": "code",
   "execution_count": 20,
   "metadata": {},
   "outputs": [
    {
     "name": "stdout",
     "output_type": "stream",
     "text": [
      "<class 'pandas.core.frame.DataFrame'>\n",
      "RangeIndex: 62 entries, 0 to 61\n",
      "Data columns (total 3 columns):\n",
      " #   Column  Non-Null Count  Dtype         \n",
      "---  ------  --------------  -----         \n",
      " 0   date    62 non-null     datetime64[ns]\n",
      " 1   group   62 non-null     object        \n",
      " 2   visits  62 non-null     int64         \n",
      "dtypes: datetime64[ns](1), int64(1), object(1)\n",
      "memory usage: 1.6+ KB\n"
     ]
    }
   ],
   "source": [
    "visits.info()"
   ]
  },
  {
   "cell_type": "markdown",
   "metadata": {},
   "source": [
    "In this part we loaded the data, checked for the duplicates, converted data to the needed formats. We have founded that some of our users belonged to two groupes. It is impossible for us to define to each of the group these users indeed belong. We removed these users from the dataset in order to get correct resuls of analysis. \n",
    "Now we are ready to start analysis and working with hypotheses. "
   ]
  },
  {
   "cell_type": "markdown",
   "metadata": {},
   "source": [
    "# Part 1. Prioritizing Hypotheses"
   ]
  },
  {
   "cell_type": "markdown",
   "metadata": {},
   "source": [
    "We will use following parameters for rating our hypotheses in calculating ICE score: \n",
    "Impact — how strongly this update will affect the users, their experience, and their satisfaction with the product\n",
    "Confidence — how sure you are that your product will affect them in this way\n",
    "Effort — how much will it cost to test the hypothesis"
   ]
  },
  {
   "cell_type": "code",
   "execution_count": 21,
   "metadata": {},
   "outputs": [
    {
     "data": {
      "text/html": [
       "<div>\n",
       "<style scoped>\n",
       "    .dataframe tbody tr th:only-of-type {\n",
       "        vertical-align: middle;\n",
       "    }\n",
       "\n",
       "    .dataframe tbody tr th {\n",
       "        vertical-align: top;\n",
       "    }\n",
       "\n",
       "    .dataframe thead th {\n",
       "        text-align: right;\n",
       "    }\n",
       "</style>\n",
       "<table border=\"1\" class=\"dataframe\">\n",
       "  <thead>\n",
       "    <tr style=\"text-align: right;\">\n",
       "      <th></th>\n",
       "      <th>hypothesis</th>\n",
       "      <th>reach</th>\n",
       "      <th>impact</th>\n",
       "      <th>confidence</th>\n",
       "      <th>effort</th>\n",
       "      <th>ice_score</th>\n",
       "    </tr>\n",
       "  </thead>\n",
       "  <tbody>\n",
       "    <tr>\n",
       "      <th>8</th>\n",
       "      <td>Launch a promotion that gives users discounts on their birthdays</td>\n",
       "      <td>1</td>\n",
       "      <td>9</td>\n",
       "      <td>9</td>\n",
       "      <td>5</td>\n",
       "      <td>16.0</td>\n",
       "    </tr>\n",
       "    <tr>\n",
       "      <th>0</th>\n",
       "      <td>Add two new channels for attracting traffic. This will bring 30% more users</td>\n",
       "      <td>3</td>\n",
       "      <td>10</td>\n",
       "      <td>8</td>\n",
       "      <td>6</td>\n",
       "      <td>13.0</td>\n",
       "    </tr>\n",
       "    <tr>\n",
       "      <th>7</th>\n",
       "      <td>Add a subscription form to all the main pages. This will help you compile a mailing list</td>\n",
       "      <td>10</td>\n",
       "      <td>7</td>\n",
       "      <td>8</td>\n",
       "      <td>5</td>\n",
       "      <td>11.0</td>\n",
       "    </tr>\n",
       "    <tr>\n",
       "      <th>6</th>\n",
       "      <td>Show banners with current offers and sales on the main page. This will boost conversion</td>\n",
       "      <td>5</td>\n",
       "      <td>3</td>\n",
       "      <td>8</td>\n",
       "      <td>3</td>\n",
       "      <td>8.0</td>\n",
       "    </tr>\n",
       "    <tr>\n",
       "      <th>2</th>\n",
       "      <td>Add product recommendation blocks to the store's site. This will increase conversion and average purchase size</td>\n",
       "      <td>8</td>\n",
       "      <td>3</td>\n",
       "      <td>7</td>\n",
       "      <td>3</td>\n",
       "      <td>7.0</td>\n",
       "    </tr>\n",
       "    <tr>\n",
       "      <th>1</th>\n",
       "      <td>Launch your own delivery service. This will shorten delivery time</td>\n",
       "      <td>2</td>\n",
       "      <td>5</td>\n",
       "      <td>4</td>\n",
       "      <td>10</td>\n",
       "      <td>2.0</td>\n",
       "    </tr>\n",
       "    <tr>\n",
       "      <th>3</th>\n",
       "      <td>Change the category structure. This will increase conversion since users will find the products they want more quickly</td>\n",
       "      <td>8</td>\n",
       "      <td>3</td>\n",
       "      <td>3</td>\n",
       "      <td>8</td>\n",
       "      <td>1.0</td>\n",
       "    </tr>\n",
       "    <tr>\n",
       "      <th>4</th>\n",
       "      <td>Change the background color on the main page. This will increase user engagement</td>\n",
       "      <td>3</td>\n",
       "      <td>1</td>\n",
       "      <td>1</td>\n",
       "      <td>1</td>\n",
       "      <td>1.0</td>\n",
       "    </tr>\n",
       "    <tr>\n",
       "      <th>5</th>\n",
       "      <td>Add a customer review page. This will increase the number of orders</td>\n",
       "      <td>3</td>\n",
       "      <td>2</td>\n",
       "      <td>2</td>\n",
       "      <td>3</td>\n",
       "      <td>1.0</td>\n",
       "    </tr>\n",
       "  </tbody>\n",
       "</table>\n",
       "</div>"
      ],
      "text/plain": [
       "                                                                                                               hypothesis  \\\n",
       "8                                                        Launch a promotion that gives users discounts on their birthdays   \n",
       "0                                             Add two new channels for attracting traffic. This will bring 30% more users   \n",
       "7                                Add a subscription form to all the main pages. This will help you compile a mailing list   \n",
       "6                                 Show banners with current offers and sales on the main page. This will boost conversion   \n",
       "2          Add product recommendation blocks to the store's site. This will increase conversion and average purchase size   \n",
       "1                                                       Launch your own delivery service. This will shorten delivery time   \n",
       "3  Change the category structure. This will increase conversion since users will find the products they want more quickly   \n",
       "4                                        Change the background color on the main page. This will increase user engagement   \n",
       "5                                                     Add a customer review page. This will increase the number of orders   \n",
       "\n",
       "   reach  impact  confidence  effort  ice_score  \n",
       "8      1       9           9       5       16.0  \n",
       "0      3      10           8       6       13.0  \n",
       "7     10       7           8       5       11.0  \n",
       "6      5       3           8       3        8.0  \n",
       "2      8       3           7       3        7.0  \n",
       "1      2       5           4      10        2.0  \n",
       "3      8       3           3       8        1.0  \n",
       "4      3       1           1       1        1.0  \n",
       "5      3       2           2       3        1.0  "
      ]
     },
     "execution_count": 21,
     "metadata": {},
     "output_type": "execute_result"
    }
   ],
   "source": [
    "# We will calculate ICE and RICE parameter for each hypothese: \n",
    "hypotheses['ice_score'] = ((hypotheses['impact']*hypotheses['confidence'])/hypotheses['effort']).round()\n",
    "pd.options.display.max_colwidth = 210\n",
    "hypotheses.sort_values(by='ice_score', ascending=False)\n"
   ]
  },
  {
   "cell_type": "markdown",
   "metadata": {},
   "source": [
    "Hypothese \"Lanuch a promotion\" has the highest ice score, followed by hypothese \"Add two new channels for attracting traffic\" and \"Add a subscription form to all the main pages\". "
   ]
  },
  {
   "cell_type": "markdown",
   "metadata": {},
   "source": [
    "We will use following parameters for rating our hypotheses in calculating RICE score: \n",
    "Reach — how many users will be affected by the update you want to introduce\n",
    "Impact — how strongly this update will affect the users, their experience, and their satisfaction with the product\n",
    "Confidence — how sure you are that your product will affect them in this way\n",
    "Effort — how much will it cost to test the hypothesi"
   ]
  },
  {
   "cell_type": "code",
   "execution_count": 22,
   "metadata": {},
   "outputs": [
    {
     "data": {
      "text/html": [
       "<div>\n",
       "<style scoped>\n",
       "    .dataframe tbody tr th:only-of-type {\n",
       "        vertical-align: middle;\n",
       "    }\n",
       "\n",
       "    .dataframe tbody tr th {\n",
       "        vertical-align: top;\n",
       "    }\n",
       "\n",
       "    .dataframe thead th {\n",
       "        text-align: right;\n",
       "    }\n",
       "</style>\n",
       "<table border=\"1\" class=\"dataframe\">\n",
       "  <thead>\n",
       "    <tr style=\"text-align: right;\">\n",
       "      <th></th>\n",
       "      <th>hypothesis</th>\n",
       "      <th>reach</th>\n",
       "      <th>impact</th>\n",
       "      <th>confidence</th>\n",
       "      <th>effort</th>\n",
       "      <th>ice_score</th>\n",
       "      <th>rice_score</th>\n",
       "    </tr>\n",
       "  </thead>\n",
       "  <tbody>\n",
       "    <tr>\n",
       "      <th>7</th>\n",
       "      <td>Add a subscription form to all the main pages. This will help you compile a mailing list</td>\n",
       "      <td>10</td>\n",
       "      <td>7</td>\n",
       "      <td>8</td>\n",
       "      <td>5</td>\n",
       "      <td>11.0</td>\n",
       "      <td>112.0</td>\n",
       "    </tr>\n",
       "    <tr>\n",
       "      <th>2</th>\n",
       "      <td>Add product recommendation blocks to the store's site. This will increase conversion and average purchase size</td>\n",
       "      <td>8</td>\n",
       "      <td>3</td>\n",
       "      <td>7</td>\n",
       "      <td>3</td>\n",
       "      <td>7.0</td>\n",
       "      <td>56.0</td>\n",
       "    </tr>\n",
       "    <tr>\n",
       "      <th>0</th>\n",
       "      <td>Add two new channels for attracting traffic. This will bring 30% more users</td>\n",
       "      <td>3</td>\n",
       "      <td>10</td>\n",
       "      <td>8</td>\n",
       "      <td>6</td>\n",
       "      <td>13.0</td>\n",
       "      <td>40.0</td>\n",
       "    </tr>\n",
       "    <tr>\n",
       "      <th>6</th>\n",
       "      <td>Show banners with current offers and sales on the main page. This will boost conversion</td>\n",
       "      <td>5</td>\n",
       "      <td>3</td>\n",
       "      <td>8</td>\n",
       "      <td>3</td>\n",
       "      <td>8.0</td>\n",
       "      <td>40.0</td>\n",
       "    </tr>\n",
       "    <tr>\n",
       "      <th>8</th>\n",
       "      <td>Launch a promotion that gives users discounts on their birthdays</td>\n",
       "      <td>1</td>\n",
       "      <td>9</td>\n",
       "      <td>9</td>\n",
       "      <td>5</td>\n",
       "      <td>16.0</td>\n",
       "      <td>16.2</td>\n",
       "    </tr>\n",
       "    <tr>\n",
       "      <th>3</th>\n",
       "      <td>Change the category structure. This will increase conversion since users will find the products they want more quickly</td>\n",
       "      <td>8</td>\n",
       "      <td>3</td>\n",
       "      <td>3</td>\n",
       "      <td>8</td>\n",
       "      <td>1.0</td>\n",
       "      <td>9.0</td>\n",
       "    </tr>\n",
       "    <tr>\n",
       "      <th>1</th>\n",
       "      <td>Launch your own delivery service. This will shorten delivery time</td>\n",
       "      <td>2</td>\n",
       "      <td>5</td>\n",
       "      <td>4</td>\n",
       "      <td>10</td>\n",
       "      <td>2.0</td>\n",
       "      <td>4.0</td>\n",
       "    </tr>\n",
       "    <tr>\n",
       "      <th>5</th>\n",
       "      <td>Add a customer review page. This will increase the number of orders</td>\n",
       "      <td>3</td>\n",
       "      <td>2</td>\n",
       "      <td>2</td>\n",
       "      <td>3</td>\n",
       "      <td>1.0</td>\n",
       "      <td>4.0</td>\n",
       "    </tr>\n",
       "    <tr>\n",
       "      <th>4</th>\n",
       "      <td>Change the background color on the main page. This will increase user engagement</td>\n",
       "      <td>3</td>\n",
       "      <td>1</td>\n",
       "      <td>1</td>\n",
       "      <td>1</td>\n",
       "      <td>1.0</td>\n",
       "      <td>3.0</td>\n",
       "    </tr>\n",
       "  </tbody>\n",
       "</table>\n",
       "</div>"
      ],
      "text/plain": [
       "                                                                                                               hypothesis  \\\n",
       "7                                Add a subscription form to all the main pages. This will help you compile a mailing list   \n",
       "2          Add product recommendation blocks to the store's site. This will increase conversion and average purchase size   \n",
       "0                                             Add two new channels for attracting traffic. This will bring 30% more users   \n",
       "6                                 Show banners with current offers and sales on the main page. This will boost conversion   \n",
       "8                                                        Launch a promotion that gives users discounts on their birthdays   \n",
       "3  Change the category structure. This will increase conversion since users will find the products they want more quickly   \n",
       "1                                                       Launch your own delivery service. This will shorten delivery time   \n",
       "5                                                     Add a customer review page. This will increase the number of orders   \n",
       "4                                        Change the background color on the main page. This will increase user engagement   \n",
       "\n",
       "   reach  impact  confidence  effort  ice_score  rice_score  \n",
       "7     10       7           8       5       11.0       112.0  \n",
       "2      8       3           7       3        7.0        56.0  \n",
       "0      3      10           8       6       13.0        40.0  \n",
       "6      5       3           8       3        8.0        40.0  \n",
       "8      1       9           9       5       16.0        16.2  \n",
       "3      8       3           3       8        1.0         9.0  \n",
       "1      2       5           4      10        2.0         4.0  \n",
       "5      3       2           2       3        1.0         4.0  \n",
       "4      3       1           1       1        1.0         3.0  "
      ]
     },
     "execution_count": 22,
     "metadata": {},
     "output_type": "execute_result"
    }
   ],
   "source": [
    "hypotheses['rice_score']= (hypotheses['reach']* hypotheses['impact']*hypotheses['confidence'])/hypotheses['effort']\n",
    "pd.options.display.max_colwidth = 210\n",
    "hypotheses.sort_values(by='rice_score', ascending=False)"
   ]
  },
  {
   "cell_type": "markdown",
   "metadata": {},
   "source": [
    "After implementing rice score we see a different situation with hypotheses: \n",
    "The hypotheses with the highes rice score (in descending order):\n",
    " - \"Add a subscription form to all the main pages\"\n",
    " - \"Add product recommendation blocks to the store\"\n",
    " - \"Add two new channels for attracting traffic\". \n",
    " \n",
    " The factor that influence on the difference in score between two methods is using in calculating RICE score factor \"reach\" which reflectshow many users will be affected by the update we want to introduce. \n",
    " \n",
    "I would highlight the following hypotheses: \"Add a subscription form to all the main pages\", since it has hightest RICE score and 3d position in ICE score and \"Add two new channels for attracting traffic\" since it has 3d RICE and 2d ICE scores. "
   ]
  },
  {
   "cell_type": "markdown",
   "metadata": {},
   "source": [
    "# Part 2. A/B Test Analysis"
   ]
  },
  {
   "cell_type": "markdown",
   "metadata": {},
   "source": [
    "## Graph cumulative revenue by group."
   ]
  },
  {
   "cell_type": "code",
   "execution_count": 23,
   "metadata": {},
   "outputs": [
    {
     "data": {
      "text/html": [
       "<div>\n",
       "<style scoped>\n",
       "    .dataframe tbody tr th:only-of-type {\n",
       "        vertical-align: middle;\n",
       "    }\n",
       "\n",
       "    .dataframe tbody tr th {\n",
       "        vertical-align: top;\n",
       "    }\n",
       "\n",
       "    .dataframe thead th {\n",
       "        text-align: right;\n",
       "    }\n",
       "</style>\n",
       "<table border=\"1\" class=\"dataframe\">\n",
       "  <thead>\n",
       "    <tr style=\"text-align: right;\">\n",
       "      <th></th>\n",
       "      <th>date</th>\n",
       "      <th>revenue</th>\n",
       "      <th>orders</th>\n",
       "      <th>cum_revenue</th>\n",
       "    </tr>\n",
       "  </thead>\n",
       "  <tbody>\n",
       "    <tr>\n",
       "      <th>0</th>\n",
       "      <td>2019-08-01</td>\n",
       "      <td>2266.6</td>\n",
       "      <td>23</td>\n",
       "      <td>2266.6</td>\n",
       "    </tr>\n",
       "    <tr>\n",
       "      <th>1</th>\n",
       "      <td>2019-08-02</td>\n",
       "      <td>1468.3</td>\n",
       "      <td>19</td>\n",
       "      <td>3734.9</td>\n",
       "    </tr>\n",
       "    <tr>\n",
       "      <th>2</th>\n",
       "      <td>2019-08-03</td>\n",
       "      <td>1815.2</td>\n",
       "      <td>24</td>\n",
       "      <td>5550.1</td>\n",
       "    </tr>\n",
       "    <tr>\n",
       "      <th>3</th>\n",
       "      <td>2019-08-04</td>\n",
       "      <td>675.5</td>\n",
       "      <td>11</td>\n",
       "      <td>6225.6</td>\n",
       "    </tr>\n",
       "    <tr>\n",
       "      <th>4</th>\n",
       "      <td>2019-08-05</td>\n",
       "      <td>1398.0</td>\n",
       "      <td>22</td>\n",
       "      <td>7623.6</td>\n",
       "    </tr>\n",
       "  </tbody>\n",
       "</table>\n",
       "</div>"
      ],
      "text/plain": [
       "        date  revenue  orders  cum_revenue\n",
       "0 2019-08-01   2266.6      23       2266.6\n",
       "1 2019-08-02   1468.3      19       3734.9\n",
       "2 2019-08-03   1815.2      24       5550.1\n",
       "3 2019-08-04    675.5      11       6225.6\n",
       "4 2019-08-05   1398.0      22       7623.6"
      ]
     },
     "execution_count": 23,
     "metadata": {},
     "output_type": "execute_result"
    }
   ],
   "source": [
    "# We will group data of the orders by date: \n",
    "orders_A_daily = orders_A.groupby(['date']).agg({'revenue': 'sum', 'transactionId':'nunique'}).reset_index()\n",
    "orders_A_daily.columns = ['date', 'revenue', 'orders']\n",
    "orders_A_daily['cum_revenue']=orders_A_daily['revenue'].cumsum()\n",
    "orders_A_daily.head()"
   ]
  },
  {
   "cell_type": "code",
   "execution_count": 24,
   "metadata": {},
   "outputs": [
    {
     "data": {
      "text/html": [
       "<div>\n",
       "<style scoped>\n",
       "    .dataframe tbody tr th:only-of-type {\n",
       "        vertical-align: middle;\n",
       "    }\n",
       "\n",
       "    .dataframe tbody tr th {\n",
       "        vertical-align: top;\n",
       "    }\n",
       "\n",
       "    .dataframe thead th {\n",
       "        text-align: right;\n",
       "    }\n",
       "</style>\n",
       "<table border=\"1\" class=\"dataframe\">\n",
       "  <thead>\n",
       "    <tr style=\"text-align: right;\">\n",
       "      <th></th>\n",
       "      <th>date</th>\n",
       "      <th>revenue</th>\n",
       "      <th>orders</th>\n",
       "      <th>cum_revenue</th>\n",
       "    </tr>\n",
       "  </thead>\n",
       "  <tbody>\n",
       "    <tr>\n",
       "      <th>0</th>\n",
       "      <td>2019-08-01</td>\n",
       "      <td>967.2</td>\n",
       "      <td>17</td>\n",
       "      <td>967.2</td>\n",
       "    </tr>\n",
       "    <tr>\n",
       "      <th>1</th>\n",
       "      <td>2019-08-02</td>\n",
       "      <td>2568.1</td>\n",
       "      <td>23</td>\n",
       "      <td>3535.3</td>\n",
       "    </tr>\n",
       "    <tr>\n",
       "      <th>2</th>\n",
       "      <td>2019-08-03</td>\n",
       "      <td>1071.6</td>\n",
       "      <td>14</td>\n",
       "      <td>4606.9</td>\n",
       "    </tr>\n",
       "    <tr>\n",
       "      <th>3</th>\n",
       "      <td>2019-08-04</td>\n",
       "      <td>1531.6</td>\n",
       "      <td>14</td>\n",
       "      <td>6138.5</td>\n",
       "    </tr>\n",
       "    <tr>\n",
       "      <th>4</th>\n",
       "      <td>2019-08-05</td>\n",
       "      <td>1449.3</td>\n",
       "      <td>21</td>\n",
       "      <td>7587.8</td>\n",
       "    </tr>\n",
       "  </tbody>\n",
       "</table>\n",
       "</div>"
      ],
      "text/plain": [
       "        date  revenue  orders  cum_revenue\n",
       "0 2019-08-01    967.2      17        967.2\n",
       "1 2019-08-02   2568.1      23       3535.3\n",
       "2 2019-08-03   1071.6      14       4606.9\n",
       "3 2019-08-04   1531.6      14       6138.5\n",
       "4 2019-08-05   1449.3      21       7587.8"
      ]
     },
     "execution_count": 24,
     "metadata": {},
     "output_type": "execute_result"
    }
   ],
   "source": [
    "orders_B_daily = orders_B.groupby(['date']).agg({'revenue': 'sum', 'transactionId':'nunique'}).reset_index()\n",
    "orders_B_daily.columns = ['date', 'revenue', 'orders']\n",
    "orders_B_daily['cum_revenue']=orders_B_daily['revenue'].cumsum()\n",
    "orders_B_daily.head()"
   ]
  },
  {
   "cell_type": "code",
   "execution_count": 25,
   "metadata": {},
   "outputs": [
    {
     "data": {
      "image/png": "[encoded data removed]",
      "text/plain": [
       "<Figure size 1080x432 with 1 Axes>"
      ]
     },
     "metadata": {
      "needs_background": "light"
     },
     "output_type": "display_data"
    }
   ],
   "source": [
    "plt.rcParams[\"figure.figsize\"] = (15,6)\n",
    "plt.plot(orders_A_daily['date'], orders_A_daily['cum_revenue'], label='Group A');\n",
    "plt.plot(orders_B_daily['date'], orders_B_daily['cum_revenue'], label='Group B');\n",
    "plt.legend();\n",
    "plt.title('Cumulative revenue by group');\n",
    "plt.grid();"
   ]
  },
  {
   "cell_type": "markdown",
   "metadata": {},
   "source": [
    "In the beginnins of the test both groups demonstrate similar results. After 5 days of the testing results of group B slowly increased. On 19th of August we see a rapid peak and this difference kept until the end of the month.  "
   ]
  },
  {
   "cell_type": "markdown",
   "metadata": {},
   "source": [
    "## Graph cumulative average order size by group. "
   ]
  },
  {
   "cell_type": "code",
   "execution_count": 26,
   "metadata": {},
   "outputs": [
    {
     "data": {
      "text/html": [
       "<div>\n",
       "<style scoped>\n",
       "    .dataframe tbody tr th:only-of-type {\n",
       "        vertical-align: middle;\n",
       "    }\n",
       "\n",
       "    .dataframe tbody tr th {\n",
       "        vertical-align: top;\n",
       "    }\n",
       "\n",
       "    .dataframe thead th {\n",
       "        text-align: right;\n",
       "    }\n",
       "</style>\n",
       "<table border=\"1\" class=\"dataframe\">\n",
       "  <thead>\n",
       "    <tr style=\"text-align: right;\">\n",
       "      <th></th>\n",
       "      <th>date</th>\n",
       "      <th>revenue</th>\n",
       "      <th>orders</th>\n",
       "      <th>cum_revenue</th>\n",
       "      <th>cum_orders</th>\n",
       "      <th>avg_order</th>\n",
       "      <th>cum_avg_order</th>\n",
       "    </tr>\n",
       "  </thead>\n",
       "  <tbody>\n",
       "    <tr>\n",
       "      <th>0</th>\n",
       "      <td>2019-08-01</td>\n",
       "      <td>2266.6</td>\n",
       "      <td>23</td>\n",
       "      <td>2266.6</td>\n",
       "      <td>23</td>\n",
       "      <td>98.547826</td>\n",
       "      <td>98.547826</td>\n",
       "    </tr>\n",
       "    <tr>\n",
       "      <th>1</th>\n",
       "      <td>2019-08-02</td>\n",
       "      <td>1468.3</td>\n",
       "      <td>19</td>\n",
       "      <td>3734.9</td>\n",
       "      <td>42</td>\n",
       "      <td>77.278947</td>\n",
       "      <td>88.926190</td>\n",
       "    </tr>\n",
       "    <tr>\n",
       "      <th>2</th>\n",
       "      <td>2019-08-03</td>\n",
       "      <td>1815.2</td>\n",
       "      <td>24</td>\n",
       "      <td>5550.1</td>\n",
       "      <td>66</td>\n",
       "      <td>75.633333</td>\n",
       "      <td>84.092424</td>\n",
       "    </tr>\n",
       "    <tr>\n",
       "      <th>3</th>\n",
       "      <td>2019-08-04</td>\n",
       "      <td>675.5</td>\n",
       "      <td>11</td>\n",
       "      <td>6225.6</td>\n",
       "      <td>77</td>\n",
       "      <td>61.409091</td>\n",
       "      <td>80.851948</td>\n",
       "    </tr>\n",
       "    <tr>\n",
       "      <th>4</th>\n",
       "      <td>2019-08-05</td>\n",
       "      <td>1398.0</td>\n",
       "      <td>22</td>\n",
       "      <td>7623.6</td>\n",
       "      <td>99</td>\n",
       "      <td>63.545455</td>\n",
       "      <td>77.006061</td>\n",
       "    </tr>\n",
       "  </tbody>\n",
       "</table>\n",
       "</div>"
      ],
      "text/plain": [
       "        date  revenue  orders  cum_revenue  cum_orders  avg_order  \\\n",
       "0 2019-08-01   2266.6      23       2266.6          23  98.547826   \n",
       "1 2019-08-02   1468.3      19       3734.9          42  77.278947   \n",
       "2 2019-08-03   1815.2      24       5550.1          66  75.633333   \n",
       "3 2019-08-04    675.5      11       6225.6          77  61.409091   \n",
       "4 2019-08-05   1398.0      22       7623.6          99  63.545455   \n",
       "\n",
       "   cum_avg_order  \n",
       "0      98.547826  \n",
       "1      88.926190  \n",
       "2      84.092424  \n",
       "3      80.851948  \n",
       "4      77.006061  "
      ]
     },
     "execution_count": 26,
     "metadata": {},
     "output_type": "execute_result"
    }
   ],
   "source": [
    "orders_A_daily['cum_orders']=orders_A_daily['orders'].cumsum()\n",
    "orders_A_daily['avg_order'] = orders_A_daily['revenue'] / orders_A_daily['orders']\n",
    "orders_A_daily['cum_avg_order'] = orders_A_daily['cum_revenue'] / orders_A_daily['cum_orders']\n",
    "orders_A_daily.head()"
   ]
  },
  {
   "cell_type": "code",
   "execution_count": 27,
   "metadata": {},
   "outputs": [
    {
     "data": {
      "text/html": [
       "<div>\n",
       "<style scoped>\n",
       "    .dataframe tbody tr th:only-of-type {\n",
       "        vertical-align: middle;\n",
       "    }\n",
       "\n",
       "    .dataframe tbody tr th {\n",
       "        vertical-align: top;\n",
       "    }\n",
       "\n",
       "    .dataframe thead th {\n",
       "        text-align: right;\n",
       "    }\n",
       "</style>\n",
       "<table border=\"1\" class=\"dataframe\">\n",
       "  <thead>\n",
       "    <tr style=\"text-align: right;\">\n",
       "      <th></th>\n",
       "      <th>date</th>\n",
       "      <th>revenue</th>\n",
       "      <th>orders</th>\n",
       "      <th>cum_revenue</th>\n",
       "      <th>cum_orders</th>\n",
       "      <th>avg_order</th>\n",
       "      <th>cum_avg_order</th>\n",
       "    </tr>\n",
       "  </thead>\n",
       "  <tbody>\n",
       "    <tr>\n",
       "      <th>0</th>\n",
       "      <td>2019-08-01</td>\n",
       "      <td>967.2</td>\n",
       "      <td>17</td>\n",
       "      <td>967.2</td>\n",
       "      <td>17</td>\n",
       "      <td>56.894118</td>\n",
       "      <td>56.894118</td>\n",
       "    </tr>\n",
       "    <tr>\n",
       "      <th>1</th>\n",
       "      <td>2019-08-02</td>\n",
       "      <td>2568.1</td>\n",
       "      <td>23</td>\n",
       "      <td>3535.3</td>\n",
       "      <td>40</td>\n",
       "      <td>111.656522</td>\n",
       "      <td>88.382500</td>\n",
       "    </tr>\n",
       "    <tr>\n",
       "      <th>2</th>\n",
       "      <td>2019-08-03</td>\n",
       "      <td>1071.6</td>\n",
       "      <td>14</td>\n",
       "      <td>4606.9</td>\n",
       "      <td>54</td>\n",
       "      <td>76.542857</td>\n",
       "      <td>85.312963</td>\n",
       "    </tr>\n",
       "    <tr>\n",
       "      <th>3</th>\n",
       "      <td>2019-08-04</td>\n",
       "      <td>1531.6</td>\n",
       "      <td>14</td>\n",
       "      <td>6138.5</td>\n",
       "      <td>68</td>\n",
       "      <td>109.400000</td>\n",
       "      <td>90.272059</td>\n",
       "    </tr>\n",
       "    <tr>\n",
       "      <th>4</th>\n",
       "      <td>2019-08-05</td>\n",
       "      <td>1449.3</td>\n",
       "      <td>21</td>\n",
       "      <td>7587.8</td>\n",
       "      <td>89</td>\n",
       "      <td>69.014286</td>\n",
       "      <td>85.256180</td>\n",
       "    </tr>\n",
       "  </tbody>\n",
       "</table>\n",
       "</div>"
      ],
      "text/plain": [
       "        date  revenue  orders  cum_revenue  cum_orders   avg_order  \\\n",
       "0 2019-08-01    967.2      17        967.2          17   56.894118   \n",
       "1 2019-08-02   2568.1      23       3535.3          40  111.656522   \n",
       "2 2019-08-03   1071.6      14       4606.9          54   76.542857   \n",
       "3 2019-08-04   1531.6      14       6138.5          68  109.400000   \n",
       "4 2019-08-05   1449.3      21       7587.8          89   69.014286   \n",
       "\n",
       "   cum_avg_order  \n",
       "0      56.894118  \n",
       "1      88.382500  \n",
       "2      85.312963  \n",
       "3      90.272059  \n",
       "4      85.256180  "
      ]
     },
     "execution_count": 27,
     "metadata": {},
     "output_type": "execute_result"
    }
   ],
   "source": [
    "orders_B_daily['cum_orders']=orders_B_daily['orders'].cumsum()\n",
    "orders_B_daily['avg_order'] = orders_B_daily['revenue'] / orders_B_daily['orders']\n",
    "orders_B_daily['cum_avg_order'] = orders_B_daily['cum_revenue'] / orders_B_daily['cum_orders']\n",
    "orders_B_daily.head()"
   ]
  },
  {
   "cell_type": "code",
   "execution_count": 28,
   "metadata": {},
   "outputs": [
    {
     "data": {
      "image/png": "[encoded data removed]",
      "text/plain": [
       "<Figure size 1080x432 with 1 Axes>"
      ]
     },
     "metadata": {
      "needs_background": "light"
     },
     "output_type": "display_data"
    }
   ],
   "source": [
    "plt.plot(orders_A_daily['date'], orders_A_daily['avg_order'], label='Group A');\n",
    "plt.plot(orders_B_daily['date'], orders_B_daily['avg_order'], label='Group B');\n",
    "plt.legend();\n",
    "plt.title('Average order size by group');\n",
    "plt.grid();"
   ]
  },
  {
   "cell_type": "markdown",
   "metadata": {},
   "source": [
    "There is no significant difference between two groups in the average order size, group B demonstrates good results on 08-09-2019 and on 08-13-2019, when the group A goes down. On the 19th of August we see a rapid peak in average order size group B that most probably also influenced on the cumulative revenue that we saw on the previous graph. It can be the result of the outliers and we should check it in the next stage. "
   ]
  },
  {
   "cell_type": "code",
   "execution_count": 29,
   "metadata": {},
   "outputs": [
    {
     "data": {
      "image/png": "[encoded data removed]",
      "text/plain": [
       "<Figure size 1080x432 with 1 Axes>"
      ]
     },
     "metadata": {
      "needs_background": "light"
     },
     "output_type": "display_data"
    }
   ],
   "source": [
    "plt.rcParams[\"figure.figsize\"] = (15,6)\n",
    "plt.plot(orders_A_daily['date'], orders_A_daily['cum_avg_order'], label='Group A');\n",
    "plt.plot(orders_B_daily['date'], orders_B_daily['cum_avg_order'], label='Group B');\n",
    "plt.legend();\n",
    "plt.title('Cumulative average order size by group');\n",
    "plt.grid();"
   ]
  },
  {
   "cell_type": "markdown",
   "metadata": {},
   "source": [
    "The dynamics of the cumulative average order size changes in different directions: when group A increases group B decreases and vice versa until the rapid growth of the cumulative average order size on 08-19-2019 that we already saw in the previous graphs. "
   ]
  },
  {
   "cell_type": "markdown",
   "metadata": {},
   "source": [
    "## Graph the relative difference in cumulative average order size for group B compared with group A. "
   ]
  },
  {
   "cell_type": "code",
   "execution_count": 30,
   "metadata": {},
   "outputs": [
    {
     "data": {
      "image/png": "[encoded data removed]",
      "text/plain": [
       "<Figure size 1080x432 with 1 Axes>"
      ]
     },
     "metadata": {
      "needs_background": "light"
     },
     "output_type": "display_data"
    }
   ],
   "source": [
    "CumulativeData = orders_A_daily.merge(orders_B_daily, left_on='date', right_on='date', how='left', suffixes=['A', 'B']);\n",
    "plt.plot(CumulativeData['date'], CumulativeData['cum_avg_orderA']/CumulativeData['cum_avg_orderB']-1);\n",
    "plt.axhline(y=0, color='black', linestyle='--'); \n",
    "plt.title('Relative difference in cumulative average order size for group B compared with group A');\n",
    "plt.grid();"
   ]
  },
  {
   "cell_type": "markdown",
   "metadata": {},
   "source": [
    "On this graphs we see that in period 08.02 - 08.12 cumulative average order size of group B is less compared to group A, after that we see a short growth of group A and after 08.19 group B grew rapidly compared to the group B and kept its leadership till the end of the month. "
   ]
  },
  {
   "cell_type": "markdown",
   "metadata": {},
   "source": [
    "## Calculate each group's conversion rate as the ration of orders to the number of visits for each day. "
   ]
  },
  {
   "cell_type": "code",
   "execution_count": 31,
   "metadata": {},
   "outputs": [],
   "source": [
    "# We will divide the data about number of visits to two groups: A and B:\n",
    "visits_A = visits[visits['group']=='A']\n",
    "visits_B = visits[visits['group']=='B']\n",
    "\n",
    "# Now we will create a dataframe and calculate conversion rate for group A: \n",
    "conversion_A = visits_A.merge(orders_A_daily[['date', 'orders']], how='left', on='date')\n",
    "conversion_A['conversion'] = conversion_A['orders']/conversion_A['visits']\n",
    "# And for group B:\n",
    "conversion_B = visits_B.merge(orders_B_daily[['date', 'orders']], how='left', on='date')\n",
    "conversion_B['conversion'] = conversion_B['orders']/conversion_B['visits']"
   ]
  },
  {
   "cell_type": "code",
   "execution_count": 32,
   "metadata": {},
   "outputs": [
    {
     "data": {
      "image/png": "[encoded data removed]",
      "text/plain": [
       "<Figure size 1080x432 with 1 Axes>"
      ]
     },
     "metadata": {
      "needs_background": "light"
     },
     "output_type": "display_data"
    }
   ],
   "source": [
    "plt.plot(conversion_A['date'], conversion_A['conversion'], label='Group A');\n",
    "plt.plot(conversion_B['date'], conversion_B['conversion'], label='Group B');\n",
    "plt.legend();\n",
    "plt.title('Conversion rate for each group');\n",
    "plt.grid();"
   ]
  },
  {
   "cell_type": "markdown",
   "metadata": {},
   "source": [
    "For most of the month, both groups show similar dynamics: peaks and declines in the same periods. For the last third of the month, the charts show more multidirectional dynamics. In overall conversion of group B is a little bit higher than of the group A. (2.9% vs. 2.5%)"
   ]
  },
  {
   "cell_type": "code",
   "execution_count": 33,
   "metadata": {},
   "outputs": [
    {
     "data": {
      "text/html": [
       "<div>\n",
       "<style scoped>\n",
       "    .dataframe tbody tr th:only-of-type {\n",
       "        vertical-align: middle;\n",
       "    }\n",
       "\n",
       "    .dataframe tbody tr th {\n",
       "        vertical-align: top;\n",
       "    }\n",
       "\n",
       "    .dataframe thead th {\n",
       "        text-align: right;\n",
       "    }\n",
       "</style>\n",
       "<table border=\"1\" class=\"dataframe\">\n",
       "  <thead>\n",
       "    <tr style=\"text-align: right;\">\n",
       "      <th></th>\n",
       "      <th>date</th>\n",
       "      <th>group</th>\n",
       "      <th>visits</th>\n",
       "      <th>orders</th>\n",
       "      <th>conversion</th>\n",
       "      <th>cum_visits</th>\n",
       "      <th>cum_orders</th>\n",
       "      <th>cum_conversion</th>\n",
       "    </tr>\n",
       "  </thead>\n",
       "  <tbody>\n",
       "    <tr>\n",
       "      <th>0</th>\n",
       "      <td>2019-08-01</td>\n",
       "      <td>A</td>\n",
       "      <td>719</td>\n",
       "      <td>23</td>\n",
       "      <td>0.031989</td>\n",
       "      <td>719</td>\n",
       "      <td>23</td>\n",
       "      <td>0.031989</td>\n",
       "    </tr>\n",
       "    <tr>\n",
       "      <th>1</th>\n",
       "      <td>2019-08-02</td>\n",
       "      <td>A</td>\n",
       "      <td>619</td>\n",
       "      <td>19</td>\n",
       "      <td>0.030695</td>\n",
       "      <td>1338</td>\n",
       "      <td>42</td>\n",
       "      <td>0.031390</td>\n",
       "    </tr>\n",
       "    <tr>\n",
       "      <th>2</th>\n",
       "      <td>2019-08-03</td>\n",
       "      <td>A</td>\n",
       "      <td>507</td>\n",
       "      <td>24</td>\n",
       "      <td>0.047337</td>\n",
       "      <td>1845</td>\n",
       "      <td>66</td>\n",
       "      <td>0.035772</td>\n",
       "    </tr>\n",
       "    <tr>\n",
       "      <th>3</th>\n",
       "      <td>2019-08-04</td>\n",
       "      <td>A</td>\n",
       "      <td>717</td>\n",
       "      <td>11</td>\n",
       "      <td>0.015342</td>\n",
       "      <td>2562</td>\n",
       "      <td>77</td>\n",
       "      <td>0.030055</td>\n",
       "    </tr>\n",
       "    <tr>\n",
       "      <th>4</th>\n",
       "      <td>2019-08-05</td>\n",
       "      <td>A</td>\n",
       "      <td>756</td>\n",
       "      <td>22</td>\n",
       "      <td>0.029101</td>\n",
       "      <td>3318</td>\n",
       "      <td>99</td>\n",
       "      <td>0.029837</td>\n",
       "    </tr>\n",
       "  </tbody>\n",
       "</table>\n",
       "</div>"
      ],
      "text/plain": [
       "        date group  visits  orders  conversion  cum_visits  cum_orders  \\\n",
       "0 2019-08-01     A     719      23    0.031989         719          23   \n",
       "1 2019-08-02     A     619      19    0.030695        1338          42   \n",
       "2 2019-08-03     A     507      24    0.047337        1845          66   \n",
       "3 2019-08-04     A     717      11    0.015342        2562          77   \n",
       "4 2019-08-05     A     756      22    0.029101        3318          99   \n",
       "\n",
       "   cum_conversion  \n",
       "0        0.031989  \n",
       "1        0.031390  \n",
       "2        0.035772  \n",
       "3        0.030055  \n",
       "4        0.029837  "
      ]
     },
     "execution_count": 33,
     "metadata": {},
     "output_type": "execute_result"
    },
    {
     "data": {
      "text/html": [
       "<div>\n",
       "<style scoped>\n",
       "    .dataframe tbody tr th:only-of-type {\n",
       "        vertical-align: middle;\n",
       "    }\n",
       "\n",
       "    .dataframe tbody tr th {\n",
       "        vertical-align: top;\n",
       "    }\n",
       "\n",
       "    .dataframe thead th {\n",
       "        text-align: right;\n",
       "    }\n",
       "</style>\n",
       "<table border=\"1\" class=\"dataframe\">\n",
       "  <thead>\n",
       "    <tr style=\"text-align: right;\">\n",
       "      <th></th>\n",
       "      <th>date</th>\n",
       "      <th>group</th>\n",
       "      <th>visits</th>\n",
       "      <th>orders</th>\n",
       "      <th>conversion</th>\n",
       "      <th>cum_visits</th>\n",
       "      <th>cum_orders</th>\n",
       "      <th>cum_conversion</th>\n",
       "    </tr>\n",
       "  </thead>\n",
       "  <tbody>\n",
       "    <tr>\n",
       "      <th>0</th>\n",
       "      <td>2019-08-01</td>\n",
       "      <td>B</td>\n",
       "      <td>713</td>\n",
       "      <td>17</td>\n",
       "      <td>0.023843</td>\n",
       "      <td>713</td>\n",
       "      <td>17</td>\n",
       "      <td>0.023843</td>\n",
       "    </tr>\n",
       "    <tr>\n",
       "      <th>1</th>\n",
       "      <td>2019-08-02</td>\n",
       "      <td>B</td>\n",
       "      <td>581</td>\n",
       "      <td>23</td>\n",
       "      <td>0.039587</td>\n",
       "      <td>1294</td>\n",
       "      <td>40</td>\n",
       "      <td>0.030912</td>\n",
       "    </tr>\n",
       "    <tr>\n",
       "      <th>2</th>\n",
       "      <td>2019-08-03</td>\n",
       "      <td>B</td>\n",
       "      <td>509</td>\n",
       "      <td>14</td>\n",
       "      <td>0.027505</td>\n",
       "      <td>1803</td>\n",
       "      <td>54</td>\n",
       "      <td>0.029950</td>\n",
       "    </tr>\n",
       "    <tr>\n",
       "      <th>3</th>\n",
       "      <td>2019-08-04</td>\n",
       "      <td>B</td>\n",
       "      <td>770</td>\n",
       "      <td>14</td>\n",
       "      <td>0.018182</td>\n",
       "      <td>2573</td>\n",
       "      <td>68</td>\n",
       "      <td>0.026428</td>\n",
       "    </tr>\n",
       "    <tr>\n",
       "      <th>4</th>\n",
       "      <td>2019-08-05</td>\n",
       "      <td>B</td>\n",
       "      <td>707</td>\n",
       "      <td>21</td>\n",
       "      <td>0.029703</td>\n",
       "      <td>3280</td>\n",
       "      <td>89</td>\n",
       "      <td>0.027134</td>\n",
       "    </tr>\n",
       "  </tbody>\n",
       "</table>\n",
       "</div>"
      ],
      "text/plain": [
       "        date group  visits  orders  conversion  cum_visits  cum_orders  \\\n",
       "0 2019-08-01     B     713      17    0.023843         713          17   \n",
       "1 2019-08-02     B     581      23    0.039587        1294          40   \n",
       "2 2019-08-03     B     509      14    0.027505        1803          54   \n",
       "3 2019-08-04     B     770      14    0.018182        2573          68   \n",
       "4 2019-08-05     B     707      21    0.029703        3280          89   \n",
       "\n",
       "   cum_conversion  \n",
       "0        0.023843  \n",
       "1        0.030912  \n",
       "2        0.029950  \n",
       "3        0.026428  \n",
       "4        0.027134  "
      ]
     },
     "execution_count": 33,
     "metadata": {},
     "output_type": "execute_result"
    }
   ],
   "source": [
    "# We will calculate cumulative conversion for both groups:\n",
    "conversion_A['cum_visits'] = conversion_A['visits'].cumsum()\n",
    "conversion_A['cum_orders'] = conversion_A['orders'].cumsum()\n",
    "conversion_A['cum_conversion'] = conversion_A['cum_orders']/conversion_A['cum_visits']\n",
    "conversion_A.head()\n",
    "\n",
    "conversion_B['cum_visits'] = conversion_B['visits'].cumsum()\n",
    "conversion_B['cum_orders'] = conversion_B['orders'].cumsum()\n",
    "conversion_B['cum_conversion'] = conversion_B['cum_orders']/conversion_B['cum_visits']\n",
    "conversion_B.head()"
   ]
  },
  {
   "cell_type": "code",
   "execution_count": 34,
   "metadata": {},
   "outputs": [
    {
     "data": {
      "image/png": "[encoded data removed]",
      "text/plain": [
       "<Figure size 1080x432 with 1 Axes>"
      ]
     },
     "metadata": {
      "needs_background": "light"
     },
     "output_type": "display_data"
    }
   ],
   "source": [
    "plt.plot(conversion_A['date'], conversion_A['cum_conversion'], label='Group A');\n",
    "plt.plot(conversion_B['date'], conversion_B['cum_conversion'], label='Group B');\n",
    "plt.legend();\n",
    "plt.title('Cumulative conversion rate for each group');\n",
    "plt.grid();"
   ]
  },
  {
   "cell_type": "markdown",
   "metadata": {},
   "source": [
    "After fluctuating during the first five days of the test, the results of the two groups crossed over and after that group B confidently shows the better results in cumulative conversion compared to results of group A. "
   ]
  },
  {
   "cell_type": "code",
   "execution_count": 35,
   "metadata": {},
   "outputs": [
    {
     "name": "stdout",
     "output_type": "stream",
     "text": [
      "Overall conversion group A: 0.02497865072587532\n",
      "Overall conversion group B: 0.02897018397124128\n"
     ]
    }
   ],
   "source": [
    "print('Overall conversion group A:', conversion_A['orders'].sum()/conversion_A['visits'].sum())\n",
    "print('Overall conversion group B:', conversion_B['orders'].sum()/conversion_B['visits'].sum())"
   ]
  },
  {
   "cell_type": "code",
   "execution_count": 36,
   "metadata": {},
   "outputs": [
    {
     "data": {
      "image/png": "[encoded data removed]",
      "text/plain": [
       "<Figure size 1080x432 with 1 Axes>"
      ]
     },
     "metadata": {
      "needs_background": "light"
     },
     "output_type": "display_data"
    }
   ],
   "source": [
    "CumulativeConversion = conversion_A.merge(conversion_B, left_on='date', right_on='date', how='left', suffixes=['A', 'B']);\n",
    "plt.plot(CumulativeConversion['date'], CumulativeConversion['cum_conversionA']/CumulativeConversion['cum_conversionB']-1);\n",
    "plt.axhline(y=0, color='black', linestyle='--'); \n",
    "plt.title('Relative difference in cumulative conversion rate for group B compared with group A');\n",
    "plt.grid();"
   ]
  },
  {
   "cell_type": "markdown",
   "metadata": {},
   "source": [
    "On the graph of relative difference we also can see that starting from the 6th day of test, group B demonstrates stable better results in conversion rate compared to group A."
   ]
  },
  {
   "cell_type": "markdown",
   "metadata": {},
   "source": [
    "## Plot a scatter chart of the number of orders per user. "
   ]
  },
  {
   "cell_type": "code",
   "execution_count": 37,
   "metadata": {},
   "outputs": [
    {
     "data": {
      "text/html": [
       "<div>\n",
       "<style scoped>\n",
       "    .dataframe tbody tr th:only-of-type {\n",
       "        vertical-align: middle;\n",
       "    }\n",
       "\n",
       "    .dataframe tbody tr th {\n",
       "        vertical-align: top;\n",
       "    }\n",
       "\n",
       "    .dataframe thead th {\n",
       "        text-align: right;\n",
       "    }\n",
       "</style>\n",
       "<table border=\"1\" class=\"dataframe\">\n",
       "  <thead>\n",
       "    <tr style=\"text-align: right;\">\n",
       "      <th></th>\n",
       "      <th>visitorId</th>\n",
       "      <th>orders</th>\n",
       "    </tr>\n",
       "  </thead>\n",
       "  <tbody>\n",
       "    <tr>\n",
       "      <th>908</th>\n",
       "      <td>3967698036</td>\n",
       "      <td>3</td>\n",
       "    </tr>\n",
       "    <tr>\n",
       "      <th>55</th>\n",
       "      <td>249864742</td>\n",
       "      <td>3</td>\n",
       "    </tr>\n",
       "    <tr>\n",
       "      <th>478</th>\n",
       "      <td>2108163459</td>\n",
       "      <td>3</td>\n",
       "    </tr>\n",
       "    <tr>\n",
       "      <th>687</th>\n",
       "      <td>2988190573</td>\n",
       "      <td>3</td>\n",
       "    </tr>\n",
       "    <tr>\n",
       "      <th>890</th>\n",
       "      <td>3908431265</td>\n",
       "      <td>3</td>\n",
       "    </tr>\n",
       "  </tbody>\n",
       "</table>\n",
       "</div>"
      ],
      "text/plain": [
       "      visitorId  orders\n",
       "908  3967698036       3\n",
       "55    249864742       3\n",
       "478  2108163459       3\n",
       "687  2988190573       3\n",
       "890  3908431265       3"
      ]
     },
     "execution_count": 37,
     "metadata": {},
     "output_type": "execute_result"
    }
   ],
   "source": [
    "ordersByUsers = (\n",
    "    orders_filt.drop(['group', 'revenue', 'date'], axis=1)\n",
    "    .groupby('visitorId', as_index=False)\n",
    "    .agg({'transactionId': pd.Series.nunique})\n",
    ")\n",
    "\n",
    "ordersByUsers.columns = ['visitorId', 'orders']\n",
    "ordersByUsers.sort_values(by='orders', ascending=False).head()"
   ]
  },
  {
   "cell_type": "code",
   "execution_count": 38,
   "metadata": {},
   "outputs": [
    {
     "data": {
      "image/png": "[encoded data removed]",
      "text/plain": [
       "<Figure size 1080x432 with 1 Axes>"
      ]
     },
     "metadata": {
      "needs_background": "light"
     },
     "output_type": "display_data"
    }
   ],
   "source": [
    "plt.hist(ordersByUsers['orders']);"
   ]
  },
  {
   "cell_type": "code",
   "execution_count": 39,
   "metadata": {},
   "outputs": [
    {
     "data": {
      "image/png": "[encoded data removed]",
      "text/plain": [
       "<Figure size 1080x432 with 1 Axes>"
      ]
     },
     "metadata": {
      "needs_background": "light"
     },
     "output_type": "display_data"
    }
   ],
   "source": [
    "x_values = pd.Series(range(0,len(ordersByUsers)));\n",
    "plt.scatter(x_values, ordersByUsers['orders']) ;"
   ]
  },
  {
   "cell_type": "markdown",
   "metadata": {},
   "source": [
    "The vast majority of the users make one order, only a small percentage make two and even fewer make 3 orders. We do not see more than three orders from one user. "
   ]
  },
  {
   "cell_type": "markdown",
   "metadata": {},
   "source": [
    "## Calculate the 95th and 99th percentiles for the number of orders per user. Define the point at which a data point becomes an anomaly. "
   ]
  },
  {
   "cell_type": "code",
   "execution_count": 40,
   "metadata": {},
   "outputs": [
    {
     "name": "stdout",
     "output_type": "stream",
     "text": [
      "[1. 2.]\n"
     ]
    }
   ],
   "source": [
    "print(np.percentile(ordersByUsers['orders'], [95, 99])) "
   ]
  },
  {
   "cell_type": "markdown",
   "metadata": {},
   "source": [
    "99% of our users make 2 or 1 order, so in this case 3 orders per user can be considered to be an outlier. "
   ]
  },
  {
   "cell_type": "markdown",
   "metadata": {},
   "source": [
    "## Plot a scatter chart of order prices. "
   ]
  },
  {
   "cell_type": "code",
   "execution_count": 41,
   "metadata": {},
   "outputs": [
    {
     "data": {
      "text/html": [
       "<div>\n",
       "<style scoped>\n",
       "    .dataframe tbody tr th:only-of-type {\n",
       "        vertical-align: middle;\n",
       "    }\n",
       "\n",
       "    .dataframe tbody tr th {\n",
       "        vertical-align: top;\n",
       "    }\n",
       "\n",
       "    .dataframe thead th {\n",
       "        text-align: right;\n",
       "    }\n",
       "</style>\n",
       "<table border=\"1\" class=\"dataframe\">\n",
       "  <thead>\n",
       "    <tr style=\"text-align: right;\">\n",
       "      <th></th>\n",
       "      <th>transactionId</th>\n",
       "      <th>visitorId</th>\n",
       "      <th>date</th>\n",
       "      <th>revenue</th>\n",
       "      <th>group</th>\n",
       "    </tr>\n",
       "  </thead>\n",
       "  <tbody>\n",
       "    <tr>\n",
       "      <th>0</th>\n",
       "      <td>3667963787</td>\n",
       "      <td>3312258926</td>\n",
       "      <td>2019-08-15</td>\n",
       "      <td>30.4</td>\n",
       "      <td>B</td>\n",
       "    </tr>\n",
       "    <tr>\n",
       "      <th>1</th>\n",
       "      <td>2804400009</td>\n",
       "      <td>3642806036</td>\n",
       "      <td>2019-08-15</td>\n",
       "      <td>15.2</td>\n",
       "      <td>B</td>\n",
       "    </tr>\n",
       "    <tr>\n",
       "      <th>3</th>\n",
       "      <td>3797467345</td>\n",
       "      <td>1196621759</td>\n",
       "      <td>2019-08-15</td>\n",
       "      <td>155.1</td>\n",
       "      <td>B</td>\n",
       "    </tr>\n",
       "    <tr>\n",
       "      <th>4</th>\n",
       "      <td>2282983706</td>\n",
       "      <td>2322279887</td>\n",
       "      <td>2019-08-15</td>\n",
       "      <td>40.5</td>\n",
       "      <td>B</td>\n",
       "    </tr>\n",
       "    <tr>\n",
       "      <th>5</th>\n",
       "      <td>182168103</td>\n",
       "      <td>935554773</td>\n",
       "      <td>2019-08-15</td>\n",
       "      <td>35.0</td>\n",
       "      <td>B</td>\n",
       "    </tr>\n",
       "  </tbody>\n",
       "</table>\n",
       "</div>"
      ],
      "text/plain": [
       "   transactionId   visitorId       date  revenue group\n",
       "0     3667963787  3312258926 2019-08-15     30.4     B\n",
       "1     2804400009  3642806036 2019-08-15     15.2     B\n",
       "3     3797467345  1196621759 2019-08-15    155.1     B\n",
       "4     2282983706  2322279887 2019-08-15     40.5     B\n",
       "5      182168103   935554773 2019-08-15     35.0     B"
      ]
     },
     "execution_count": 41,
     "metadata": {},
     "output_type": "execute_result"
    }
   ],
   "source": [
    "orders_filt.head()"
   ]
  },
  {
   "cell_type": "code",
   "execution_count": 42,
   "metadata": {},
   "outputs": [
    {
     "data": {
      "image/png": "[encoded data removed]",
      "text/plain": [
       "<Figure size 1080x432 with 1 Axes>"
      ]
     },
     "metadata": {
      "needs_background": "light"
     },
     "output_type": "display_data"
    }
   ],
   "source": [
    "#Let's build a historgam of order price distribution: \n",
    "plt.hist(orders_filt['revenue']);"
   ]
  },
  {
   "cell_type": "code",
   "execution_count": 43,
   "metadata": {},
   "outputs": [
    {
     "data": {
      "text/plain": [
       "<AxesSubplot:xlabel='revenue'>"
      ]
     },
     "execution_count": 43,
     "metadata": {},
     "output_type": "execute_result"
    },
    {
     "data": {
      "image/png": "[encoded data removed]",
      "text/plain": [
       "<Figure size 1080x432 with 1 Axes>"
      ]
     },
     "metadata": {
      "needs_background": "light"
     },
     "output_type": "display_data"
    }
   ],
   "source": [
    "x_values = pd.Series(range(0, len(orders_filt['revenue'])));\n",
    "#plt.scatter(x_values, orders_filt['revenue']);\n",
    "sns.scatterplot(data=orders_filt, x=\"revenue\", hue=\"group\")"
   ]
  },
  {
   "cell_type": "markdown",
   "metadata": {},
   "source": [
    "The vast majority of the users make orders of less than 1000. "
   ]
  },
  {
   "cell_type": "markdown",
   "metadata": {},
   "source": [
    "## Calculate the 95th and 99th percentiles of the order prices. Define the point at which a data point becomes an anomaly. "
   ]
  },
  {
   "cell_type": "code",
   "execution_count": 44,
   "metadata": {},
   "outputs": [
    {
     "name": "stdout",
     "output_type": "stream",
     "text": [
      "[414.275 830.3  ]\n"
     ]
    }
   ],
   "source": [
    "print(np.percentile(orders_filt['revenue'], [95, 99])) "
   ]
  },
  {
   "cell_type": "markdown",
   "metadata": {},
   "source": [
    "99% of the users make orders less than 830 revenue. We can consider orders that are more from this number to be an outlier and remove them from our data. \n",
    "\n",
    "We will consolidate all users that either make very expensive orders (with revenue more than 830) or make too many orders (more than 2) and will use this data for further steps to get filtered data. "
   ]
  },
  {
   "cell_type": "code",
   "execution_count": 45,
   "metadata": {},
   "outputs": [
    {
     "data": {
      "text/plain": [
       "55      249864742\n",
       "138     611059232\n",
       "478    2108163459\n",
       "632    2742574263\n",
       "687    2988190573\n",
       "Name: visitorId, dtype: int64"
      ]
     },
     "execution_count": 45,
     "metadata": {},
     "output_type": "execute_result"
    },
    {
     "data": {
      "text/plain": [
       "(19,)"
      ]
     },
     "execution_count": 45,
     "metadata": {},
     "output_type": "execute_result"
    }
   ],
   "source": [
    "usersWithManyOrders = ordersByUsers[ordersByUsers['orders']>2]['visitorId']\n",
    "usersWithExpensiveOrders = orders_filt[orders_filt['revenue'] > 830]['visitorId']\n",
    "abnormalUsers = pd.concat([usersWithManyOrders, usersWithExpensiveOrders], axis=0).drop_duplicates()\n",
    "abnormalUsers.head(5)\n",
    "abnormalUsers.shape "
   ]
  },
  {
   "cell_type": "markdown",
   "metadata": {},
   "source": [
    "We have 19 anomalous users in total. These are users that either did very expensive orders (higher than 830) or did more than 2 orders. "
   ]
  },
  {
   "cell_type": "code",
   "execution_count": 46,
   "metadata": {},
   "outputs": [
    {
     "data": {
      "text/plain": [
       "983"
      ]
     },
     "execution_count": 46,
     "metadata": {},
     "output_type": "execute_result"
    }
   ],
   "source": [
    "orders_new = orders_filt[~orders_filt['visitorId'].isin(abnormalUsers)]\n",
    "len(orders_new)"
   ]
  },
  {
   "cell_type": "code",
   "execution_count": 47,
   "metadata": {},
   "outputs": [
    {
     "data": {
      "text/html": [
       "<div>\n",
       "<style scoped>\n",
       "    .dataframe tbody tr th:only-of-type {\n",
       "        vertical-align: middle;\n",
       "    }\n",
       "\n",
       "    .dataframe tbody tr th {\n",
       "        vertical-align: top;\n",
       "    }\n",
       "\n",
       "    .dataframe thead th {\n",
       "        text-align: right;\n",
       "    }\n",
       "</style>\n",
       "<table border=\"1\" class=\"dataframe\">\n",
       "  <thead>\n",
       "    <tr style=\"text-align: right;\">\n",
       "      <th></th>\n",
       "      <th>date</th>\n",
       "      <th>revenue</th>\n",
       "      <th>orders</th>\n",
       "      <th>cum_revenue</th>\n",
       "    </tr>\n",
       "  </thead>\n",
       "  <tbody>\n",
       "    <tr>\n",
       "      <th>0</th>\n",
       "      <td>2019-08-01</td>\n",
       "      <td>1779.3</td>\n",
       "      <td>18</td>\n",
       "      <td>1779.3</td>\n",
       "    </tr>\n",
       "    <tr>\n",
       "      <th>1</th>\n",
       "      <td>2019-08-02</td>\n",
       "      <td>1438.3</td>\n",
       "      <td>18</td>\n",
       "      <td>3217.6</td>\n",
       "    </tr>\n",
       "    <tr>\n",
       "      <th>2</th>\n",
       "      <td>2019-08-03</td>\n",
       "      <td>1815.2</td>\n",
       "      <td>24</td>\n",
       "      <td>5032.8</td>\n",
       "    </tr>\n",
       "    <tr>\n",
       "      <th>3</th>\n",
       "      <td>2019-08-04</td>\n",
       "      <td>675.5</td>\n",
       "      <td>11</td>\n",
       "      <td>5708.3</td>\n",
       "    </tr>\n",
       "    <tr>\n",
       "      <th>4</th>\n",
       "      <td>2019-08-05</td>\n",
       "      <td>1398.0</td>\n",
       "      <td>22</td>\n",
       "      <td>7106.3</td>\n",
       "    </tr>\n",
       "  </tbody>\n",
       "</table>\n",
       "</div>"
      ],
      "text/plain": [
       "        date  revenue  orders  cum_revenue\n",
       "0 2019-08-01   1779.3      18       1779.3\n",
       "1 2019-08-02   1438.3      18       3217.6\n",
       "2 2019-08-03   1815.2      24       5032.8\n",
       "3 2019-08-04    675.5      11       5708.3\n",
       "4 2019-08-05   1398.0      22       7106.3"
      ]
     },
     "execution_count": 47,
     "metadata": {},
     "output_type": "execute_result"
    },
    {
     "data": {
      "text/html": [
       "<div>\n",
       "<style scoped>\n",
       "    .dataframe tbody tr th:only-of-type {\n",
       "        vertical-align: middle;\n",
       "    }\n",
       "\n",
       "    .dataframe tbody tr th {\n",
       "        vertical-align: top;\n",
       "    }\n",
       "\n",
       "    .dataframe thead th {\n",
       "        text-align: right;\n",
       "    }\n",
       "</style>\n",
       "<table border=\"1\" class=\"dataframe\">\n",
       "  <thead>\n",
       "    <tr style=\"text-align: right;\">\n",
       "      <th></th>\n",
       "      <th>date</th>\n",
       "      <th>revenue</th>\n",
       "      <th>orders</th>\n",
       "      <th>cum_revenue</th>\n",
       "    </tr>\n",
       "  </thead>\n",
       "  <tbody>\n",
       "    <tr>\n",
       "      <th>0</th>\n",
       "      <td>2019-08-01</td>\n",
       "      <td>967.2</td>\n",
       "      <td>17</td>\n",
       "      <td>967.2</td>\n",
       "    </tr>\n",
       "    <tr>\n",
       "      <th>1</th>\n",
       "      <td>2019-08-02</td>\n",
       "      <td>2568.1</td>\n",
       "      <td>23</td>\n",
       "      <td>3535.3</td>\n",
       "    </tr>\n",
       "    <tr>\n",
       "      <th>2</th>\n",
       "      <td>2019-08-03</td>\n",
       "      <td>1071.6</td>\n",
       "      <td>14</td>\n",
       "      <td>4606.9</td>\n",
       "    </tr>\n",
       "    <tr>\n",
       "      <th>3</th>\n",
       "      <td>2019-08-04</td>\n",
       "      <td>1531.6</td>\n",
       "      <td>14</td>\n",
       "      <td>6138.5</td>\n",
       "    </tr>\n",
       "    <tr>\n",
       "      <th>4</th>\n",
       "      <td>2019-08-05</td>\n",
       "      <td>1449.3</td>\n",
       "      <td>21</td>\n",
       "      <td>7587.8</td>\n",
       "    </tr>\n",
       "  </tbody>\n",
       "</table>\n",
       "</div>"
      ],
      "text/plain": [
       "        date  revenue  orders  cum_revenue\n",
       "0 2019-08-01    967.2      17        967.2\n",
       "1 2019-08-02   2568.1      23       3535.3\n",
       "2 2019-08-03   1071.6      14       4606.9\n",
       "3 2019-08-04   1531.6      14       6138.5\n",
       "4 2019-08-05   1449.3      21       7587.8"
      ]
     },
     "execution_count": 47,
     "metadata": {},
     "output_type": "execute_result"
    }
   ],
   "source": [
    "# Now we will use filtered data for creating basic dataframes that will be used in further calculations: \n",
    "orders_A_new = orders_new[orders_new['group']=='A']\n",
    "orders_B_new = orders_new[orders_new['group']=='B']\n",
    "\n",
    "# We will group filtered data of the orders by date: \n",
    "orders_A_daily_new = orders_A_new.groupby(['date']).agg({'revenue': 'sum', 'transactionId':'nunique'}).reset_index()\n",
    "orders_A_daily_new.columns = ['date', 'revenue', 'orders']\n",
    "orders_A_daily_new['cum_revenue']=orders_A_daily_new['revenue'].cumsum()\n",
    "orders_A_daily_new.head()\n",
    "\n",
    "orders_B_daily_new = orders_B_new.groupby(['date']).agg({'revenue': 'sum', 'transactionId':'nunique'}).reset_index()\n",
    "orders_B_daily_new.columns = ['date', 'revenue', 'orders']\n",
    "orders_B_daily_new['cum_revenue']=orders_B_daily_new['revenue'].cumsum()\n",
    "orders_B_daily_new.head()"
   ]
  },
  {
   "cell_type": "markdown",
   "metadata": {},
   "source": [
    "## Main graphs with filtered data"
   ]
  },
  {
   "cell_type": "markdown",
   "metadata": {},
   "source": [
    "### Cumulative revenue by group"
   ]
  },
  {
   "cell_type": "code",
   "execution_count": 48,
   "metadata": {},
   "outputs": [
    {
     "data": {
      "image/png": "[encoded data removed]",
      "text/plain": [
       "<Figure size 1080x432 with 1 Axes>"
      ]
     },
     "metadata": {
      "needs_background": "light"
     },
     "output_type": "display_data"
    }
   ],
   "source": [
    "orders_A_daily_new['cum_revenue']=orders_A_daily_new['revenue'].cumsum()\n",
    "orders_B_daily_new['cum_revenue']=orders_B_daily_new['revenue'].cumsum()\n",
    "plt.rcParams[\"figure.figsize\"] = (15,6)\n",
    "plt.plot(orders_A_daily_new['date'], orders_A_daily_new['cum_revenue'], label='Group A');\n",
    "plt.plot(orders_B_daily_new['date'], orders_B_daily_new['cum_revenue'], label='Group B');\n",
    "plt.legend();\n",
    "plt.title('Cumulative revenue by group');"
   ]
  },
  {
   "cell_type": "markdown",
   "metadata": {},
   "source": [
    "After removing outliers we don't see the peak that we had before. The results of group B in cumulative revenue are higher compared to the group A. "
   ]
  },
  {
   "cell_type": "markdown",
   "metadata": {},
   "source": [
    "### Cumulative average order size by group"
   ]
  },
  {
   "cell_type": "code",
   "execution_count": 49,
   "metadata": {},
   "outputs": [],
   "source": [
    "orders_A_daily_new['cum_orders']=orders_A_daily_new['orders'].cumsum()\n",
    "orders_A_daily_new['avg_order'] = orders_A_daily_new['revenue'] / orders_A_daily_new['orders']\n",
    "orders_A_daily_new['cum_avg_order'] = orders_A_daily_new['cum_revenue'] / orders_A_daily_new['cum_orders']\n",
    "orders_B_daily_new['cum_orders']=orders_B_daily_new['orders'].cumsum()\n",
    "orders_B_daily_new['avg_order'] = orders_B_daily_new['revenue'] / orders_B_daily_new['orders']\n",
    "orders_B_daily_new['cum_avg_order'] = orders_B_daily_new['cum_revenue'] / orders_B_daily_new['cum_orders']"
   ]
  },
  {
   "cell_type": "code",
   "execution_count": 50,
   "metadata": {},
   "outputs": [
    {
     "data": {
      "image/png": "[encoded data removed]",
      "text/plain": [
       "<Figure size 1080x432 with 1 Axes>"
      ]
     },
     "metadata": {
      "needs_background": "light"
     },
     "output_type": "display_data"
    }
   ],
   "source": [
    "plt.rcParams[\"figure.figsize\"] = (15,6)\n",
    "plt.plot(orders_A_daily_new['date'], orders_A_daily_new['cum_avg_order'], label='Group A');\n",
    "plt.plot(orders_B_daily_new['date'], orders_B_daily_new['cum_avg_order'], label='Group B');\n",
    "plt.legend();\n",
    "plt.title('Cumulative average order size by group');"
   ]
  },
  {
   "cell_type": "markdown",
   "metadata": {},
   "source": [
    "Now, we can say with certainty that the peak we saw in the chart based on the raw data was due to the outliers. Now the results of cumulative average order size of both group are close one to another, and we can not single out a leader. "
   ]
  },
  {
   "cell_type": "markdown",
   "metadata": {},
   "source": [
    "### Relative difference in cumulative average order size "
   ]
  },
  {
   "cell_type": "code",
   "execution_count": 51,
   "metadata": {},
   "outputs": [
    {
     "data": {
      "image/png": "[encoded data removed]",
      "text/plain": [
       "<Figure size 1080x432 with 1 Axes>"
      ]
     },
     "metadata": {
      "needs_background": "light"
     },
     "output_type": "display_data"
    }
   ],
   "source": [
    "CumulativeData_new = orders_A_daily_new.merge(orders_B_daily_new, left_on='date', right_on='date', how='left', suffixes=['A', 'B']);\n",
    "plt.plot(CumulativeData_new['date'], CumulativeData_new['cum_avg_orderA']/CumulativeData_new['cum_avg_orderB']-1);\n",
    "plt.axhline(y=0, color='black', linestyle='--'); \n",
    "plt.title('Relative difference in cumulative average order size for group B compared with group A');"
   ]
  },
  {
   "cell_type": "markdown",
   "metadata": {},
   "source": [
    "After filtering data we got more smooth graphis without a peak that a definitly was the result of anomal order. Group B demonstrates better results compared to group A in cumulative revenue, but in average order size none of the groups takes advantage. "
   ]
  },
  {
   "cell_type": "markdown",
   "metadata": {},
   "source": [
    "## Find the statistical significance of the difference in conversion between the groups using the raw data. "
   ]
  },
  {
   "cell_type": "markdown",
   "metadata": {},
   "source": [
    "### Total conversion check"
   ]
  },
  {
   "cell_type": "code",
   "execution_count": 52,
   "metadata": {},
   "outputs": [
    {
     "name": "stdout",
     "output_type": "stream",
     "text": [
      "Trials: 18736\n",
      "Successes: 468\n",
      "Conversion Group A: 2.5%\n"
     ]
    }
   ],
   "source": [
    "# Calculating total conversion for group A:\n",
    "A_trials = conversion_A['visits'].sum()\n",
    "print(\"Trials:\", A_trials)\n",
    "A_successes = conversion_A['orders'].sum()\n",
    "print(\"Successes:\", A_successes)\n",
    "print('Conversion Group A: {0:0.1%}'.format(A_successes/A_trials))"
   ]
  },
  {
   "cell_type": "code",
   "execution_count": 53,
   "metadata": {},
   "outputs": [
    {
     "name": "stdout",
     "output_type": "stream",
     "text": [
      "Trials: 18916\n",
      "Successes: 548\n",
      "Conversion Group B: 2.9%\n"
     ]
    }
   ],
   "source": [
    "# Calculating total conversion for group B:\n",
    "B_trials = conversion_B['visits'].sum()\n",
    "print(\"Trials:\", B_trials)\n",
    "B_successes = conversion_B['orders'].sum()\n",
    "print(\"Successes:\", B_successes)\n",
    "print('Conversion Group B: {0:0.1%}'.format(B_successes/B_trials))"
   ]
  },
  {
   "cell_type": "markdown",
   "metadata": {},
   "source": [
    "Now we can formulate hypotheses for testing: \n",
    "    \n",
    "- H0 (Null): There is no statistical significance between conversion of Group A and Group B. \n",
    "- H1 (Alternative): Conversion of Group B is higher than conversion of Group A. \n",
    "    \n",
    "Since we are comparing proportion of two population we will use z-test for testing our hypotheses.  "
   ]
  },
  {
   "cell_type": "code",
   "execution_count": 54,
   "metadata": {},
   "outputs": [
    {
     "name": "stdout",
     "output_type": "stream",
     "text": [
      "p-value:  0.016851380434703023\n",
      "Rejecting the null hypothesis: there is a significant difference between the proportions\n"
     ]
    }
   ],
   "source": [
    "alpha = .05 # significance level\n",
    "\n",
    "successes = np.array([A_successes, B_successes])\n",
    "trials = np.array([A_trials, B_trials])\n",
    "\n",
    "# success proportion in the first group:\n",
    "p1 = successes[0]/trials[0]\n",
    "\n",
    "# success proportion in the second group:\n",
    "p2 = successes[1]/trials[1]\n",
    "\n",
    "# success proportion in the combined dataset:\n",
    "p_combined = (successes[0] + successes[1]) / (trials[0] + trials[1])\n",
    "\n",
    "# the difference between the datasets' proportions\n",
    "difference = p1 - p2 \n",
    "\n",
    "# calculating the statistic in standard deviations of the standard normal distribution\n",
    "z_value = difference / mth.sqrt(p_combined * (1 - p_combined) * (1/trials[0] + 1/trials[1]))\n",
    "\n",
    "# setting up the standard normal distribution (mean 0, standard deviation 1)\n",
    "distr = st.norm(0, 1)  \n",
    "\n",
    "p_value = (1 - distr.cdf(abs(z_value))) * 2\n",
    "\n",
    "print('p-value: ', p_value)\n",
    "\n",
    "if (p_value < alpha):\n",
    "    print(\"Rejecting the null hypothesis: there is a significant difference between the proportions\")\n",
    "else:\n",
    "    print(\"Failed to reject the null hypothesis: there is no reason to consider the proportions different\")"
   ]
  },
  {
   "cell_type": "markdown",
   "metadata": {},
   "source": [
    "Since p value is less then 0.05 we can say that there is a statistically significant difference between the proportions. And since conversion rate of group B is more than group A (2.9% vs. 2.5%) we can conclude that conversion rate of group B is higher than the one of group A.  "
   ]
  },
  {
   "cell_type": "markdown",
   "metadata": {},
   "source": [
    "### Average daily conversion"
   ]
  },
  {
   "cell_type": "code",
   "execution_count": 55,
   "metadata": {},
   "outputs": [
    {
     "data": {
      "image/png": "[encoded data removed]",
      "text/plain": [
       "<Figure size 1080x432 with 1 Axes>"
      ]
     },
     "metadata": {
      "needs_background": "light"
     },
     "output_type": "display_data"
    }
   ],
   "source": [
    "plt.hist(conversion_A['conversion'], alpha=0.5, label='Group A');\n",
    "plt.hist(conversion_B['conversion'], alpha=0.5, label='Group B');"
   ]
  },
  {
   "cell_type": "code",
   "execution_count": 56,
   "metadata": {},
   "outputs": [
    {
     "name": "stdout",
     "output_type": "stream",
     "text": [
      "Mean group A: 0.025890306958716493\n",
      "Mean group B: 0.030424002805202716\n",
      "Median group A: 0.02312925170068027\n",
      "Median group B: 0.03114754098360656\n"
     ]
    }
   ],
   "source": [
    "print('Mean group A:', conversion_A['conversion'].mean())\n",
    "print('Mean group B:', conversion_B['conversion'].mean())\n",
    "print('Median group A:', conversion_A['conversion'].median())\n",
    "print('Median group B:', conversion_B['conversion'].median())"
   ]
  },
  {
   "cell_type": "markdown",
   "metadata": {},
   "source": [
    "Now we can formulate hypotheses for testing:\n",
    "\n",
    "- H0 (Null): There is no statistical significance between conversion of Group A and Group B.\n",
    "- H1 (Alternative): Conversion of Group B is higher than conversion of Group A.\n",
    "\n",
    "Since we are comparing the means of population we will either ttest or Mann-Whitney test for testing our hypotheses.\n",
    "To define the exact test, we need to check whether our population have normal distiribution with the help of Shapiro test. \n",
    "If both of the samples have normal distribution we will use ttest, otherwise we will use tesst Mann_Whitney."
   ]
  },
  {
   "cell_type": "code",
   "execution_count": 57,
   "metadata": {},
   "outputs": [
    {
     "name": "stdout",
     "output_type": "stream",
     "text": [
      "Both samples seem to have normal distribution, ttest can be used\n"
     ]
    }
   ],
   "source": [
    "alpha = .05 # significance level\n",
    "\n",
    "results1 = st.shapiro(conversion_A['conversion'])\n",
    "p_value1 = results1[1] \n",
    "\n",
    "results2 = st.shapiro(conversion_B['conversion'])\n",
    "p_value2 = results2[1]\n",
    "\n",
    "if (p_value1 > alpha) and (p_value2 > alpha):\n",
    "    print('Both samples seem to have normal distribution, ttest can be used')\n",
    "else: \n",
    "    print('One of the samples has not normal distribution, test Mann_whitney should be used')"
   ]
  },
  {
   "cell_type": "code",
   "execution_count": 58,
   "metadata": {},
   "outputs": [
    {
     "data": {
      "text/plain": [
       "LeveneResult(statistic=0.012535822118248652, pvalue=0.9112260916374787)"
      ]
     },
     "execution_count": 58,
     "metadata": {},
     "output_type": "execute_result"
    },
    {
     "data": {
      "text/plain": [
       "LeveneResult(statistic=0.0003349179434919493, pvalue=0.985459640402054)"
      ]
     },
     "execution_count": 58,
     "metadata": {},
     "output_type": "execute_result"
    }
   ],
   "source": [
    "#We will perform Levene’s Test to determine whether surf customers and ultimate customers have equal variances: \n",
    "st.levene(conversion_A['conversion'], conversion_B['conversion'], center='mean')\n",
    "st.levene(conversion_A['conversion'], conversion_B['conversion'], center='median')"
   ]
  },
  {
   "cell_type": "markdown",
   "metadata": {},
   "source": [
    "In both methods, the p-value is more than 0.05 and that mean that in this case we cannot reject a null-hypothese and say that the variance for group A and group B differ. \n",
    "So we will use equal_var=True for our ttest."
   ]
  },
  {
   "cell_type": "code",
   "execution_count": 59,
   "metadata": {},
   "outputs": [
    {
     "name": "stdout",
     "output_type": "stream",
     "text": [
      "p-value:  0.09573715593918651\n",
      "We cannot reject the null hypothesis\n"
     ]
    }
   ],
   "source": [
    "alpha = 0.05  # critical statistical significance level\n",
    "# if the p-value is less than alpha, we reject the hypothesis\n",
    "# the null hypotesis is that two population are equal\n",
    "\n",
    "result2 = st.ttest_ind(conversion_A['conversion'], conversion_B['conversion'], equal_var=True)\n",
    "\n",
    "print('p-value: ', result2.pvalue)\n",
    "\n",
    "if result2.pvalue < alpha:\n",
    "    print(\"We reject the null hypothesis\")\n",
    "else:\n",
    "    print(\"We cannot reject the null hypothesis\") "
   ]
  },
  {
   "cell_type": "markdown",
   "metadata": {},
   "source": [
    "We can't conclude that there is s statistically significant difference between conversion rate of two groups. "
   ]
  },
  {
   "cell_type": "markdown",
   "metadata": {},
   "source": [
    "## Find the statistical significance of the difference in average order size between the groups using the raw data"
   ]
  },
  {
   "cell_type": "code",
   "execution_count": 60,
   "metadata": {},
   "outputs": [
    {
     "data": {
      "text/html": [
       "<div>\n",
       "<style scoped>\n",
       "    .dataframe tbody tr th:only-of-type {\n",
       "        vertical-align: middle;\n",
       "    }\n",
       "\n",
       "    .dataframe tbody tr th {\n",
       "        vertical-align: top;\n",
       "    }\n",
       "\n",
       "    .dataframe thead th {\n",
       "        text-align: right;\n",
       "    }\n",
       "</style>\n",
       "<table border=\"1\" class=\"dataframe\">\n",
       "  <thead>\n",
       "    <tr style=\"text-align: right;\">\n",
       "      <th></th>\n",
       "      <th>date</th>\n",
       "      <th>revenue</th>\n",
       "      <th>orders</th>\n",
       "      <th>cum_revenue</th>\n",
       "      <th>cum_orders</th>\n",
       "      <th>avg_order</th>\n",
       "      <th>cum_avg_order</th>\n",
       "      <th>average_check</th>\n",
       "    </tr>\n",
       "  </thead>\n",
       "  <tbody>\n",
       "    <tr>\n",
       "      <th>0</th>\n",
       "      <td>2019-08-01</td>\n",
       "      <td>2266.6</td>\n",
       "      <td>23</td>\n",
       "      <td>2266.6</td>\n",
       "      <td>23</td>\n",
       "      <td>98.547826</td>\n",
       "      <td>98.547826</td>\n",
       "      <td>98.547826</td>\n",
       "    </tr>\n",
       "    <tr>\n",
       "      <th>1</th>\n",
       "      <td>2019-08-02</td>\n",
       "      <td>1468.3</td>\n",
       "      <td>19</td>\n",
       "      <td>3734.9</td>\n",
       "      <td>42</td>\n",
       "      <td>77.278947</td>\n",
       "      <td>88.926190</td>\n",
       "      <td>77.278947</td>\n",
       "    </tr>\n",
       "    <tr>\n",
       "      <th>2</th>\n",
       "      <td>2019-08-03</td>\n",
       "      <td>1815.2</td>\n",
       "      <td>24</td>\n",
       "      <td>5550.1</td>\n",
       "      <td>66</td>\n",
       "      <td>75.633333</td>\n",
       "      <td>84.092424</td>\n",
       "      <td>75.633333</td>\n",
       "    </tr>\n",
       "    <tr>\n",
       "      <th>3</th>\n",
       "      <td>2019-08-04</td>\n",
       "      <td>675.5</td>\n",
       "      <td>11</td>\n",
       "      <td>6225.6</td>\n",
       "      <td>77</td>\n",
       "      <td>61.409091</td>\n",
       "      <td>80.851948</td>\n",
       "      <td>61.409091</td>\n",
       "    </tr>\n",
       "    <tr>\n",
       "      <th>4</th>\n",
       "      <td>2019-08-05</td>\n",
       "      <td>1398.0</td>\n",
       "      <td>22</td>\n",
       "      <td>7623.6</td>\n",
       "      <td>99</td>\n",
       "      <td>63.545455</td>\n",
       "      <td>77.006061</td>\n",
       "      <td>63.545455</td>\n",
       "    </tr>\n",
       "  </tbody>\n",
       "</table>\n",
       "</div>"
      ],
      "text/plain": [
       "        date  revenue  orders  cum_revenue  cum_orders  avg_order  \\\n",
       "0 2019-08-01   2266.6      23       2266.6          23  98.547826   \n",
       "1 2019-08-02   1468.3      19       3734.9          42  77.278947   \n",
       "2 2019-08-03   1815.2      24       5550.1          66  75.633333   \n",
       "3 2019-08-04    675.5      11       6225.6          77  61.409091   \n",
       "4 2019-08-05   1398.0      22       7623.6          99  63.545455   \n",
       "\n",
       "   cum_avg_order  average_check  \n",
       "0      98.547826      98.547826  \n",
       "1      88.926190      77.278947  \n",
       "2      84.092424      75.633333  \n",
       "3      80.851948      61.409091  \n",
       "4      77.006061      63.545455  "
      ]
     },
     "execution_count": 60,
     "metadata": {},
     "output_type": "execute_result"
    }
   ],
   "source": [
    "orders_A_daily['average_check'] = orders_A_daily['revenue']/orders_A_daily['orders']\n",
    "orders_B_daily['average_check'] = orders_B_daily['revenue']/orders_B_daily['orders']\n",
    "orders_A_daily.head()"
   ]
  },
  {
   "cell_type": "code",
   "execution_count": 61,
   "metadata": {},
   "outputs": [
    {
     "data": {
      "image/png": "[encoded data removed]",
      "text/plain": [
       "<Figure size 1080x432 with 1 Axes>"
      ]
     },
     "metadata": {
      "needs_background": "light"
     },
     "output_type": "display_data"
    }
   ],
   "source": [
    "plt.hist(orders_A_daily['average_check'], alpha=0.5, label='Group A');\n",
    "plt.hist(orders_B_daily['average_check'], alpha=0.5, label='Group B');"
   ]
  },
  {
   "cell_type": "code",
   "execution_count": 62,
   "metadata": {},
   "outputs": [
    {
     "name": "stdout",
     "output_type": "stream",
     "text": [
      "Mean group A: 115.51247176082741\n",
      "Mean group B: 138.37116968351648\n",
      "Median group A: 102.275\n",
      "Median group B: 105.15882352941176\n"
     ]
    }
   ],
   "source": [
    "print('Mean group A:', orders_A_daily['average_check'].mean())\n",
    "print('Mean group B:', orders_B_daily['average_check'].mean())\n",
    "print('Median group A:', orders_A_daily['average_check'].median())\n",
    "print('Median group B:', orders_B_daily['average_check'].median())"
   ]
  },
  {
   "cell_type": "markdown",
   "metadata": {},
   "source": [
    "Now we can formulate hypotheses for testing:\n",
    "\n",
    "- H0 (Null): There is no statistical significance between average order size of Group A and Group B.\n",
    "- H1 (Alternative): Average order size of Group B is higher than average order size of Group A.\n",
    "\n",
    "Since we are comparing the means of population we will either ttest or Mann-Whitney test for testing our hypotheses.\n",
    "To define the exact test, we need to check whether our population have normal distiribution with the help of Shapiro test. \n",
    "If both of the samples have normal distribution we will use ttest, otherwise we will use test Mann_Whitney."
   ]
  },
  {
   "cell_type": "code",
   "execution_count": 63,
   "metadata": {},
   "outputs": [
    {
     "name": "stdout",
     "output_type": "stream",
     "text": [
      "One of the samples has not normal distribution, test Mann_whitney should be used\n"
     ]
    }
   ],
   "source": [
    "alpha = .05 # significance level\n",
    "\n",
    "results1 = st.shapiro(orders_A_daily['average_check'])\n",
    "p_value1 = results1[1] \n",
    "\n",
    "results2 = st.shapiro(orders_B_daily['average_check'])\n",
    "p_value2 = results2[1]\n",
    "\n",
    "if (p_value1 > alpha) and (p_value2 > alpha):\n",
    "    print('Both samples seem to have normal distribution, ttest can be used')\n",
    "else: \n",
    "    print('One of the samples has not normal distribution, test Mann_whitney should be used')"
   ]
  },
  {
   "cell_type": "code",
   "execution_count": 64,
   "metadata": {},
   "outputs": [
    {
     "name": "stdout",
     "output_type": "stream",
     "text": [
      "p-value:  0.9550914317372012\n",
      "Failed to reject the null hypothesis: we can't make conclusions about the difference\n"
     ]
    }
   ],
   "source": [
    "alpha = .05 #significance level\n",
    "\n",
    "results = st.mannwhitneyu(orders_A_daily['average_check'], orders_B_daily['average_check'])\n",
    "\n",
    "print('p-value: ', results.pvalue)\n",
    "\n",
    "if (results.pvalue < alpha):\n",
    "    print(\"Null hypothesis rejected: the difference is statistically significant\")\n",
    "else:\n",
    "    print(\"Failed to reject the null hypothesis: we can't make conclusions about the difference\")"
   ]
  },
  {
   "cell_type": "markdown",
   "metadata": {},
   "source": [
    "We can't conclude that there is a statistical significance of the difference in average order size between the groups"
   ]
  },
  {
   "cell_type": "markdown",
   "metadata": {},
   "source": [
    "## Find the statistical significance of the difference in conversion between the groups using the filtered data"
   ]
  },
  {
   "cell_type": "code",
   "execution_count": 69,
   "metadata": {},
   "outputs": [],
   "source": [
    "# Now we will create a dataframe and calculate conversion rate for group A: \n",
    "conversion_A_new = visits_A.merge(orders_A_daily_new[['date', 'orders']], how='left', on='date')\n",
    "conversion_A_new['conversion'] = conversion_A_new['orders']/conversion_A_new['visits']\n",
    "\n",
    "# And for group B:\n",
    "conversion_B_new = visits_B.merge(orders_B_daily_new[['date', 'orders']], how='left', on='date')\n",
    "conversion_B_new['conversion'] = conversion_B_new['orders']/conversion_B_new['visits']"
   ]
  },
  {
   "cell_type": "markdown",
   "metadata": {},
   "source": [
    "### Total conversion check. Filtered data"
   ]
  },
  {
   "cell_type": "code",
   "execution_count": 67,
   "metadata": {},
   "outputs": [
    {
     "name": "stdout",
     "output_type": "stream",
     "text": [
      "Trials: 18736\n",
      "Successes: 446\n",
      "Conversion Group A: 2.4%\n"
     ]
    }
   ],
   "source": [
    "A_trials = conversion_A_new['visits'].sum()\n",
    "print(\"Trials:\", A_trials)\n",
    "A_successes = conversion_A_new['orders'].sum()\n",
    "print(\"Successes:\", A_successes)\n",
    "print('Conversion Group A: {0:0.1%}'.format(A_successes/A_trials))"
   ]
  },
  {
   "cell_type": "code",
   "execution_count": 70,
   "metadata": {},
   "outputs": [
    {
     "name": "stdout",
     "output_type": "stream",
     "text": [
      "Trials: 18736\n",
      "Successes: 446\n",
      "Conversion Group A: 2.8%\n"
     ]
    }
   ],
   "source": [
    "B_trials = conversion_B_new['visits'].sum()\n",
    "print(\"Trials:\", A_trials)\n",
    "B_successes = conversion_B_new['orders'].sum()\n",
    "print(\"Successes:\", A_successes)\n",
    "print('Conversion Group A: {0:0.1%}'.format(B_successes/B_trials))"
   ]
  },
  {
   "cell_type": "markdown",
   "metadata": {},
   "source": [
    "Now we can formulate hypotheses for testing: \n",
    "    \n",
    "- H0 (Null): There is no statistical significance between conversion of Group A and Group B. \n",
    "- H1 (Alternative): Conversion of Group B is higher than conversion of Group A. \n",
    "    \n",
    "Since we are comparing proportion of two population we will use z-test for testing our hypotheses.  "
   ]
  },
  {
   "cell_type": "code",
   "execution_count": 71,
   "metadata": {},
   "outputs": [
    {
     "name": "stdout",
     "output_type": "stream",
     "text": [
      "p-value:  0.005283098862493896\n",
      "Rejecting the null hypothesis: there is a significant difference between the proportions\n"
     ]
    }
   ],
   "source": [
    "alpha = .05 # significance level\n",
    "\n",
    "successes = np.array([A_successes, B_successes])\n",
    "trials = np.array([A_trials, B_trials])\n",
    "\n",
    "# success proportion in the first group:\n",
    "p1 = successes[0]/trials[0]\n",
    "\n",
    "# success proportion in the second group:\n",
    "p2 = successes[1]/trials[1]\n",
    "\n",
    "# success proportion in the combined dataset:\n",
    "p_combined = (successes[0] + successes[1]) / (trials[0] + trials[1])\n",
    "\n",
    "# the difference between the datasets' proportions\n",
    "difference = p1 - p2 \n",
    "\n",
    "# calculating the statistic in standard deviations of the standard normal distribution\n",
    "z_value = difference / mth.sqrt(p_combined * (1 - p_combined) * (1/trials[0] + 1/trials[1]))\n",
    "\n",
    "# setting up the standard normal distribution (mean 0, standard deviation 1)\n",
    "distr = st.norm(0, 1)  \n",
    "\n",
    "p_value = (1 - distr.cdf(abs(z_value))) * 2\n",
    "\n",
    "print('p-value: ', p_value)\n",
    "\n",
    "if (p_value < alpha):\n",
    "    print(\"Rejecting the null hypothesis: there is a significant difference between the proportions\")\n",
    "else:\n",
    "    print(\"Failed to reject the null hypothesis: there is no reason to consider the proportions different\")"
   ]
  },
  {
   "cell_type": "markdown",
   "metadata": {},
   "source": [
    "Since p value is less then 0.05 we can say that there is a statistically significant difference between the proportions. And since conversion rate of group B is more than group A (2.8% vs. 2.4%) we can conclude that conversion rate of group B is higher than the one of group A.  "
   ]
  },
  {
   "cell_type": "markdown",
   "metadata": {},
   "source": [
    "### Average daily conversion. Filtered data"
   ]
  },
  {
   "cell_type": "code",
   "execution_count": 73,
   "metadata": {},
   "outputs": [
    {
     "data": {
      "image/png": "[encoded data removed]",
      "text/plain": [
       "<Figure size 1080x432 with 1 Axes>"
      ]
     },
     "metadata": {
      "needs_background": "light"
     },
     "output_type": "display_data"
    }
   ],
   "source": [
    "plt.hist(conversion_A_new['conversion'], alpha=0.5, label='Group A');\n",
    "plt.hist(conversion_B_new['conversion'], alpha=0.5, label='Group B');"
   ]
  },
  {
   "cell_type": "code",
   "execution_count": 74,
   "metadata": {},
   "outputs": [
    {
     "name": "stdout",
     "output_type": "stream",
     "text": [
      "Mean group A: 0.024743232781016127\n",
      "Mean group B: 0.02978812251589284\n",
      "Median group A: 0.02312925170068027\n",
      "Median group B: 0.030878859857482184\n"
     ]
    }
   ],
   "source": [
    "print('Mean group A:', conversion_A_new['conversion'].mean())\n",
    "print('Mean group B:', conversion_B_new['conversion'].mean())\n",
    "print('Median group A:', conversion_A_new['conversion'].median())\n",
    "print('Median group B:', conversion_B_new['conversion'].median())"
   ]
  },
  {
   "cell_type": "markdown",
   "metadata": {},
   "source": [
    "Now we can formulate hypotheses for testing:\n",
    "\n",
    "- H0 (Null): There is no statistical significance between conversion of Group A and Group B.\n",
    "- H1 (Alternative): Conversion of Group B is higher than conversion of Group A.\n",
    "\n",
    "Since we are comparing the means of population we will either ttest or Mann-Whitney test for testing our hypotheses.\n",
    "To define the exact test, we need to check whether our population have normal distiribution with the help of Shapiro test. \n",
    "If both of the samples have normal distribution we will use ttest, otherwise we will use tesst Mann_Whitney."
   ]
  },
  {
   "cell_type": "code",
   "execution_count": 75,
   "metadata": {},
   "outputs": [
    {
     "name": "stdout",
     "output_type": "stream",
     "text": [
      "One of the samples has not normal distribution, test Mann Whitney should be used\n"
     ]
    }
   ],
   "source": [
    "alpha = .05 # significance level\n",
    "\n",
    "results1 = st.shapiro(conversion_A_new['conversion'])\n",
    "p_value1 = results1[1] \n",
    "\n",
    "results2 = st.shapiro(conversion_B_new['conversion'])\n",
    "p_value2 = results2[1]\n",
    "\n",
    "if (p_value1 > alpha) and (p_value2 > alpha):\n",
    "    print('Both samples seem to have normal distribution, ttest can be used')\n",
    "else: \n",
    "    print('One of the samples has not normal distribution, test Mann Whitney should be used')"
   ]
  },
  {
   "cell_type": "code",
   "execution_count": 76,
   "metadata": {},
   "outputs": [
    {
     "name": "stdout",
     "output_type": "stream",
     "text": [
      "p-value:  0.03123846586609714\n",
      "Null hypothesis rejected: the difference is statistically significant\n"
     ]
    }
   ],
   "source": [
    "alpha = .05 #significance level\n",
    "\n",
    "results = st.mannwhitneyu(conversion_A_new['conversion'], conversion_B_new['conversion'])\n",
    "\n",
    "print('p-value: ', results.pvalue)\n",
    "\n",
    "if (results.pvalue < alpha):\n",
    "    print(\"Null hypothesis rejected: the difference is statistically significant\")\n",
    "else:\n",
    "    print(\"Failed to reject the null hypothesis: we can't make conclusions about the difference\")"
   ]
  },
  {
   "cell_type": "markdown",
   "metadata": {},
   "source": [
    "We can conclude that conversion rate of group B is higher that the conversion rate of group A (3% vs. 2.5%) since there is a statistically significant difference between conversion rate of two groups."
   ]
  },
  {
   "cell_type": "markdown",
   "metadata": {},
   "source": [
    "## Find the statistical significance of the difference in average order size between the groups using the filtered data."
   ]
  },
  {
   "cell_type": "code",
   "execution_count": 77,
   "metadata": {},
   "outputs": [
    {
     "data": {
      "text/html": [
       "<div>\n",
       "<style scoped>\n",
       "    .dataframe tbody tr th:only-of-type {\n",
       "        vertical-align: middle;\n",
       "    }\n",
       "\n",
       "    .dataframe tbody tr th {\n",
       "        vertical-align: top;\n",
       "    }\n",
       "\n",
       "    .dataframe thead th {\n",
       "        text-align: right;\n",
       "    }\n",
       "</style>\n",
       "<table border=\"1\" class=\"dataframe\">\n",
       "  <thead>\n",
       "    <tr style=\"text-align: right;\">\n",
       "      <th></th>\n",
       "      <th>date</th>\n",
       "      <th>revenue</th>\n",
       "      <th>orders</th>\n",
       "      <th>cum_revenue</th>\n",
       "      <th>cum_orders</th>\n",
       "      <th>avg_order</th>\n",
       "      <th>cum_avg_order</th>\n",
       "      <th>average_check</th>\n",
       "    </tr>\n",
       "  </thead>\n",
       "  <tbody>\n",
       "    <tr>\n",
       "      <th>0</th>\n",
       "      <td>2019-08-01</td>\n",
       "      <td>1779.3</td>\n",
       "      <td>18</td>\n",
       "      <td>1779.3</td>\n",
       "      <td>18</td>\n",
       "      <td>98.850000</td>\n",
       "      <td>98.850000</td>\n",
       "      <td>98.850000</td>\n",
       "    </tr>\n",
       "    <tr>\n",
       "      <th>1</th>\n",
       "      <td>2019-08-02</td>\n",
       "      <td>1438.3</td>\n",
       "      <td>18</td>\n",
       "      <td>3217.6</td>\n",
       "      <td>36</td>\n",
       "      <td>79.905556</td>\n",
       "      <td>89.377778</td>\n",
       "      <td>79.905556</td>\n",
       "    </tr>\n",
       "    <tr>\n",
       "      <th>2</th>\n",
       "      <td>2019-08-03</td>\n",
       "      <td>1815.2</td>\n",
       "      <td>24</td>\n",
       "      <td>5032.8</td>\n",
       "      <td>60</td>\n",
       "      <td>75.633333</td>\n",
       "      <td>83.880000</td>\n",
       "      <td>75.633333</td>\n",
       "    </tr>\n",
       "  </tbody>\n",
       "</table>\n",
       "</div>"
      ],
      "text/plain": [
       "        date  revenue  orders  cum_revenue  cum_orders  avg_order  \\\n",
       "0 2019-08-01   1779.3      18       1779.3          18  98.850000   \n",
       "1 2019-08-02   1438.3      18       3217.6          36  79.905556   \n",
       "2 2019-08-03   1815.2      24       5032.8          60  75.633333   \n",
       "\n",
       "   cum_avg_order  average_check  \n",
       "0      98.850000      98.850000  \n",
       "1      89.377778      79.905556  \n",
       "2      83.880000      75.633333  "
      ]
     },
     "execution_count": 77,
     "metadata": {},
     "output_type": "execute_result"
    },
    {
     "data": {
      "text/html": [
       "<div>\n",
       "<style scoped>\n",
       "    .dataframe tbody tr th:only-of-type {\n",
       "        vertical-align: middle;\n",
       "    }\n",
       "\n",
       "    .dataframe tbody tr th {\n",
       "        vertical-align: top;\n",
       "    }\n",
       "\n",
       "    .dataframe thead th {\n",
       "        text-align: right;\n",
       "    }\n",
       "</style>\n",
       "<table border=\"1\" class=\"dataframe\">\n",
       "  <thead>\n",
       "    <tr style=\"text-align: right;\">\n",
       "      <th></th>\n",
       "      <th>date</th>\n",
       "      <th>revenue</th>\n",
       "      <th>orders</th>\n",
       "      <th>cum_revenue</th>\n",
       "      <th>cum_orders</th>\n",
       "      <th>avg_order</th>\n",
       "      <th>cum_avg_order</th>\n",
       "      <th>average_check</th>\n",
       "    </tr>\n",
       "  </thead>\n",
       "  <tbody>\n",
       "    <tr>\n",
       "      <th>0</th>\n",
       "      <td>2019-08-01</td>\n",
       "      <td>967.2</td>\n",
       "      <td>17</td>\n",
       "      <td>967.2</td>\n",
       "      <td>17</td>\n",
       "      <td>56.894118</td>\n",
       "      <td>56.894118</td>\n",
       "      <td>56.894118</td>\n",
       "    </tr>\n",
       "    <tr>\n",
       "      <th>1</th>\n",
       "      <td>2019-08-02</td>\n",
       "      <td>2568.1</td>\n",
       "      <td>23</td>\n",
       "      <td>3535.3</td>\n",
       "      <td>40</td>\n",
       "      <td>111.656522</td>\n",
       "      <td>88.382500</td>\n",
       "      <td>111.656522</td>\n",
       "    </tr>\n",
       "    <tr>\n",
       "      <th>2</th>\n",
       "      <td>2019-08-03</td>\n",
       "      <td>1071.6</td>\n",
       "      <td>14</td>\n",
       "      <td>4606.9</td>\n",
       "      <td>54</td>\n",
       "      <td>76.542857</td>\n",
       "      <td>85.312963</td>\n",
       "      <td>76.542857</td>\n",
       "    </tr>\n",
       "  </tbody>\n",
       "</table>\n",
       "</div>"
      ],
      "text/plain": [
       "        date  revenue  orders  cum_revenue  cum_orders   avg_order  \\\n",
       "0 2019-08-01    967.2      17        967.2          17   56.894118   \n",
       "1 2019-08-02   2568.1      23       3535.3          40  111.656522   \n",
       "2 2019-08-03   1071.6      14       4606.9          54   76.542857   \n",
       "\n",
       "   cum_avg_order  average_check  \n",
       "0      56.894118      56.894118  \n",
       "1      88.382500     111.656522  \n",
       "2      85.312963      76.542857  "
      ]
     },
     "execution_count": 77,
     "metadata": {},
     "output_type": "execute_result"
    }
   ],
   "source": [
    "orders_A_daily_new['average_check'] = orders_A_daily_new['revenue']/orders_A_daily_new['orders']\n",
    "orders_B_daily_new['average_check'] = orders_B_daily_new['revenue']/orders_B_daily_new['orders']\n",
    "orders_A_daily_new.head(3)\n",
    "orders_B_daily_new.head(3)"
   ]
  },
  {
   "cell_type": "code",
   "execution_count": 78,
   "metadata": {},
   "outputs": [
    {
     "data": {
      "image/png": "[encoded data removed]",
      "text/plain": [
       "<Figure size 1080x432 with 1 Axes>"
      ]
     },
     "metadata": {
      "needs_background": "light"
     },
     "output_type": "display_data"
    }
   ],
   "source": [
    "plt.hist(orders_A_daily_new['average_check'], alpha=0.5, label='Group A');\n",
    "plt.hist(orders_B_daily_new['average_check'], alpha=0.5, label='Group B');"
   ]
  },
  {
   "cell_type": "code",
   "execution_count": 79,
   "metadata": {},
   "outputs": [
    {
     "name": "stdout",
     "output_type": "stream",
     "text": [
      "Mean group A: 98.95370075437548\n",
      "Mean group B: 98.42674207036477\n",
      "Median group A: 91.41666666666667\n",
      "Median group B: 98.15384615384616\n"
     ]
    }
   ],
   "source": [
    "print('Mean group A:', orders_A_daily_new['average_check'].mean())\n",
    "print('Mean group B:', orders_B_daily_new['average_check'].mean())\n",
    "print('Median group A:', orders_A_daily_new['average_check'].median())\n",
    "print('Median group B:', orders_B_daily_new['average_check'].median())"
   ]
  },
  {
   "cell_type": "markdown",
   "metadata": {},
   "source": [
    "This time we have controvercial results, mean of group A is higher than B, when median is lower. In this case it seems that using median is more correct, since mean of both group is pretty close one to another (only 0.5% difference). So our hypotheses for testing are: \n",
    "\n",
    "- H0 (Null): There is no statistical significance between conversion of Group A and Group B.\n",
    "- H1 (Alternative): Conversion of Group B is higher than conversion of Group A.\n",
    "\n",
    "Since we are comparing the means of population we will either ttest or Mann-Whitney test for testing our hypotheses.\n",
    "To define the exact test, we need to check whether our population have normal distiribution with the help of Shapiro test. \n",
    "If both of the samples have normal distribution we will use ttest, otherwise we will use tesst Mann_Whitney."
   ]
  },
  {
   "cell_type": "code",
   "execution_count": 80,
   "metadata": {},
   "outputs": [
    {
     "name": "stdout",
     "output_type": "stream",
     "text": [
      "One of the samples has not normal distribution, test Mann_whitney should be used\n"
     ]
    }
   ],
   "source": [
    "alpha = .05 # significance level\n",
    "\n",
    "results1 = st.shapiro(orders_A_daily_new['average_check'])\n",
    "p_value1 = results1[1] \n",
    "\n",
    "results2 = st.shapiro(orders_B_daily_new['average_check'])\n",
    "p_value2 = results2[1]\n",
    "\n",
    "if (p_value1 > alpha) and (p_value2 > alpha):\n",
    "    print('Both samples seem to have normal distribution, ttest can be used')\n",
    "else: \n",
    "    print('One of the samples has not normal distribution, test Mann_whitney should be used')"
   ]
  },
  {
   "cell_type": "code",
   "execution_count": 81,
   "metadata": {},
   "outputs": [
    {
     "name": "stdout",
     "output_type": "stream",
     "text": [
      "p-value:  0.7460840109196356\n",
      "Failed to reject the null hypothesis: we can't make conclusions about the difference\n"
     ]
    }
   ],
   "source": [
    "alpha = .05 #significance level\n",
    "\n",
    "results = st.mannwhitneyu(orders_A_daily_new['average_check'], orders_B_daily_new['average_check'])\n",
    "\n",
    "print('p-value: ', results.pvalue)\n",
    "\n",
    "if (results.pvalue < alpha):\n",
    "    print(\"Null hypothesis rejected: the difference is statistically significant\")\n",
    "else:\n",
    "    print(\"Failed to reject the null hypothesis: we can't make conclusions about the difference\")"
   ]
  },
  {
   "cell_type": "markdown",
   "metadata": {},
   "source": [
    "We can't conclude that there is s statistically significant difference between average order size of two groups. "
   ]
  },
  {
   "cell_type": "markdown",
   "metadata": {},
   "source": [
    "## Make a decision based on the test results. "
   ]
  },
  {
   "cell_type": "markdown",
   "metadata": {},
   "source": [
    "After conducting statistical tests, we got the following results:\n",
    "1. There is the statistical significance of the difference in conversion rate between groups both for the total conversion check and for average daily conversion filtered data. We can conclude that group B has higher conversion rate compared to group A.\n",
    "\n",
    "\n",
    "2. Both the raw data and filtered data didn't show a statistically significant difference between the groups in terms of average purchase size.\n",
    "The graph of the difference in conversion between the groups shows none of the groups' results are significantly better than of the another.\n",
    "\n",
    "Based on the results we have gotten, I would recommend to finish the test since we have founded that in one metric group B have better results and the difference was statistically significant, when in another metric we do not have a clear leader and there is no statistically significant difference between two groups. "
   ]
  }
 ],
 "metadata": {
  "ExecuteTimeLog": [
   {
    "duration": 439,
    "start_time": "2022-04-11T16:05:45.329Z"
   },
   {
    "duration": 20,
    "start_time": "2022-04-11T16:06:35.910Z"
   },
   {
    "duration": 22,
    "start_time": "2022-04-11T16:06:47.183Z"
   },
   {
    "duration": 55,
    "start_time": "2022-04-14T16:14:02.442Z"
   },
   {
    "duration": 412,
    "start_time": "2022-04-14T16:14:07.384Z"
   },
   {
    "duration": 21,
    "start_time": "2022-04-14T16:14:10.884Z"
   },
   {
    "duration": 20,
    "start_time": "2022-04-14T16:14:14.965Z"
   },
   {
    "duration": 36,
    "start_time": "2022-04-14T16:15:08.602Z"
   },
   {
    "duration": 16,
    "start_time": "2022-04-14T16:27:26.486Z"
   },
   {
    "duration": 38,
    "start_time": "2022-04-14T16:27:34.809Z"
   },
   {
    "duration": 483,
    "start_time": "2022-04-15T06:53:02.893Z"
   },
   {
    "duration": 46,
    "start_time": "2022-04-15T06:53:03.378Z"
   },
   {
    "duration": 44,
    "start_time": "2022-04-15T06:53:03.426Z"
   },
   {
    "duration": 32,
    "start_time": "2022-04-15T06:53:03.473Z"
   },
   {
    "duration": 21,
    "start_time": "2022-04-15T06:53:46.424Z"
   },
   {
    "duration": 21,
    "start_time": "2022-04-15T07:00:33.865Z"
   },
   {
    "duration": 101,
    "start_time": "2022-04-15T07:00:56.591Z"
   },
   {
    "duration": 18,
    "start_time": "2022-04-15T07:01:05.879Z"
   },
   {
    "duration": 22,
    "start_time": "2022-04-15T07:01:22.958Z"
   },
   {
    "duration": 22,
    "start_time": "2022-04-15T07:02:33.609Z"
   },
   {
    "duration": 3,
    "start_time": "2022-04-15T07:41:41.316Z"
   },
   {
    "duration": 29,
    "start_time": "2022-04-15T07:41:41.322Z"
   },
   {
    "duration": 24,
    "start_time": "2022-04-15T07:41:41.353Z"
   },
   {
    "duration": 0,
    "start_time": "2022-04-15T07:41:41.379Z"
   },
   {
    "duration": 0,
    "start_time": "2022-04-15T07:41:41.381Z"
   },
   {
    "duration": 24,
    "start_time": "2022-04-15T07:42:01.261Z"
   },
   {
    "duration": 25,
    "start_time": "2022-04-15T07:46:12.278Z"
   },
   {
    "duration": 28,
    "start_time": "2022-04-15T07:47:11.312Z"
   },
   {
    "duration": 19,
    "start_time": "2022-04-15T07:47:14.754Z"
   },
   {
    "duration": 17,
    "start_time": "2022-04-15T07:47:52.011Z"
   },
   {
    "duration": 16,
    "start_time": "2022-04-15T07:50:44.449Z"
   },
   {
    "duration": 18,
    "start_time": "2022-04-15T07:50:52.260Z"
   },
   {
    "duration": 20,
    "start_time": "2022-04-15T07:51:53.521Z"
   },
   {
    "duration": 20,
    "start_time": "2022-04-15T07:52:03.862Z"
   },
   {
    "duration": 34,
    "start_time": "2022-04-15T08:00:55.579Z"
   },
   {
    "duration": 31,
    "start_time": "2022-04-15T08:01:05.706Z"
   },
   {
    "duration": 30,
    "start_time": "2022-04-15T08:04:09.179Z"
   },
   {
    "duration": 16,
    "start_time": "2022-04-15T08:04:13.547Z"
   },
   {
    "duration": 431,
    "start_time": "2022-04-15T08:06:32.011Z"
   },
   {
    "duration": 23,
    "start_time": "2022-04-15T08:08:26.159Z"
   },
   {
    "duration": 15,
    "start_time": "2022-04-15T08:08:55.417Z"
   },
   {
    "duration": 17,
    "start_time": "2022-04-15T08:09:23.469Z"
   },
   {
    "duration": 17,
    "start_time": "2022-04-15T08:30:38.827Z"
   },
   {
    "duration": 4,
    "start_time": "2022-04-15T08:31:39.345Z"
   },
   {
    "duration": 40,
    "start_time": "2022-04-15T08:31:53.826Z"
   },
   {
    "duration": 12,
    "start_time": "2022-04-15T08:53:19.720Z"
   },
   {
    "duration": 6,
    "start_time": "2022-04-15T08:53:38.016Z"
   },
   {
    "duration": 17,
    "start_time": "2022-04-15T08:53:48.901Z"
   },
   {
    "duration": 3502,
    "start_time": "2022-04-15T08:54:31.943Z"
   },
   {
    "duration": 6,
    "start_time": "2022-04-15T08:54:55.325Z"
   },
   {
    "duration": 8,
    "start_time": "2022-04-15T08:55:47.245Z"
   },
   {
    "duration": 8,
    "start_time": "2022-04-15T08:59:02.455Z"
   },
   {
    "duration": 13,
    "start_time": "2022-04-15T08:59:09.920Z"
   },
   {
    "duration": 25,
    "start_time": "2022-04-15T08:59:34.429Z"
   },
   {
    "duration": 25,
    "start_time": "2022-04-15T09:04:54.008Z"
   },
   {
    "duration": 21,
    "start_time": "2022-04-15T15:35:10.100Z"
   },
   {
    "duration": 20,
    "start_time": "2022-04-15T15:37:43.056Z"
   },
   {
    "duration": 8,
    "start_time": "2022-04-15T15:37:53.040Z"
   },
   {
    "duration": 8,
    "start_time": "2022-04-15T15:37:59.954Z"
   },
   {
    "duration": 18,
    "start_time": "2022-04-15T15:38:31.961Z"
   },
   {
    "duration": 24,
    "start_time": "2022-04-15T15:38:56.247Z"
   },
   {
    "duration": 12,
    "start_time": "2022-04-15T15:39:17.269Z"
   },
   {
    "duration": 6,
    "start_time": "2022-04-15T15:41:08.895Z"
   },
   {
    "duration": 8,
    "start_time": "2022-04-15T15:41:32.413Z"
   },
   {
    "duration": 18,
    "start_time": "2022-04-15T15:42:29.977Z"
   },
   {
    "duration": 16,
    "start_time": "2022-04-15T15:42:54.222Z"
   },
   {
    "duration": 13,
    "start_time": "2022-04-15T15:43:17.417Z"
   },
   {
    "duration": 16,
    "start_time": "2022-04-15T15:43:26.414Z"
   },
   {
    "duration": 17,
    "start_time": "2022-04-15T15:43:57.362Z"
   },
   {
    "duration": 492,
    "start_time": "2022-04-16T17:16:01.371Z"
   },
   {
    "duration": 3,
    "start_time": "2022-04-16T17:16:01.866Z"
   },
   {
    "duration": 36,
    "start_time": "2022-04-16T17:16:01.871Z"
   },
   {
    "duration": 44,
    "start_time": "2022-04-16T17:16:01.909Z"
   },
   {
    "duration": 41,
    "start_time": "2022-04-16T17:16:01.956Z"
   },
   {
    "duration": 16,
    "start_time": "2022-04-16T17:16:01.999Z"
   },
   {
    "duration": 35,
    "start_time": "2022-04-16T17:16:02.017Z"
   },
   {
    "duration": 11,
    "start_time": "2022-04-16T17:16:02.055Z"
   },
   {
    "duration": 18,
    "start_time": "2022-04-16T17:16:02.068Z"
   },
   {
    "duration": 20,
    "start_time": "2022-04-16T17:16:02.088Z"
   },
   {
    "duration": 23,
    "start_time": "2022-04-16T17:16:02.110Z"
   },
   {
    "duration": 40,
    "start_time": "2022-04-16T17:17:51.690Z"
   },
   {
    "duration": 18,
    "start_time": "2022-04-16T17:20:46.166Z"
   },
   {
    "duration": 636,
    "start_time": "2022-04-16T17:21:24.280Z"
   },
   {
    "duration": 3,
    "start_time": "2022-04-16T17:21:59.626Z"
   },
   {
    "duration": 497,
    "start_time": "2022-04-16T17:22:03.971Z"
   },
   {
    "duration": 3,
    "start_time": "2022-04-16T17:22:32.398Z"
   },
   {
    "duration": 16,
    "start_time": "2022-04-16T17:22:56.963Z"
   },
   {
    "duration": 17,
    "start_time": "2022-04-16T17:23:17.678Z"
   },
   {
    "duration": 7,
    "start_time": "2022-04-16T17:23:55.173Z"
   },
   {
    "duration": 399,
    "start_time": "2022-04-16T17:24:02.792Z"
   },
   {
    "duration": 563,
    "start_time": "2022-04-16T17:24:23.624Z"
   },
   {
    "duration": 556,
    "start_time": "2022-04-16T17:24:29.768Z"
   },
   {
    "duration": 1125,
    "start_time": "2022-04-17T15:59:06.788Z"
   },
   {
    "duration": 4,
    "start_time": "2022-04-17T15:59:07.915Z"
   },
   {
    "duration": 31,
    "start_time": "2022-04-17T15:59:07.921Z"
   },
   {
    "duration": 45,
    "start_time": "2022-04-17T15:59:07.954Z"
   },
   {
    "duration": 42,
    "start_time": "2022-04-17T15:59:08.002Z"
   },
   {
    "duration": 150,
    "start_time": "2022-04-17T15:59:08.046Z"
   },
   {
    "duration": 0,
    "start_time": "2022-04-17T15:59:08.198Z"
   },
   {
    "duration": 0,
    "start_time": "2022-04-17T15:59:08.200Z"
   },
   {
    "duration": 0,
    "start_time": "2022-04-17T15:59:08.202Z"
   },
   {
    "duration": 0,
    "start_time": "2022-04-17T15:59:08.203Z"
   },
   {
    "duration": 0,
    "start_time": "2022-04-17T15:59:08.205Z"
   },
   {
    "duration": 0,
    "start_time": "2022-04-17T15:59:08.207Z"
   },
   {
    "duration": 16,
    "start_time": "2022-04-17T16:00:02.012Z"
   },
   {
    "duration": 15,
    "start_time": "2022-04-17T16:00:23.150Z"
   },
   {
    "duration": 17,
    "start_time": "2022-04-17T16:00:27.965Z"
   },
   {
    "duration": 10,
    "start_time": "2022-04-17T16:00:36.693Z"
   },
   {
    "duration": 7,
    "start_time": "2022-04-17T16:00:39.919Z"
   },
   {
    "duration": 15,
    "start_time": "2022-04-17T16:00:45.142Z"
   },
   {
    "duration": 28,
    "start_time": "2022-04-17T16:00:49.885Z"
   },
   {
    "duration": 13,
    "start_time": "2022-04-17T16:00:54.280Z"
   },
   {
    "duration": 14,
    "start_time": "2022-04-17T16:01:14.864Z"
   },
   {
    "duration": 18,
    "start_time": "2022-04-17T16:13:11.346Z"
   },
   {
    "duration": 18,
    "start_time": "2022-04-17T16:13:42.791Z"
   },
   {
    "duration": 8,
    "start_time": "2022-04-17T16:43:05.542Z"
   },
   {
    "duration": 14,
    "start_time": "2022-04-17T16:43:07.844Z"
   },
   {
    "duration": 6,
    "start_time": "2022-04-17T16:44:02.097Z"
   },
   {
    "duration": 24,
    "start_time": "2022-04-17T16:44:36.437Z"
   },
   {
    "duration": 6,
    "start_time": "2022-04-17T16:44:58.155Z"
   },
   {
    "duration": 21,
    "start_time": "2022-04-17T16:45:54.267Z"
   },
   {
    "duration": 12,
    "start_time": "2022-04-17T16:47:12.810Z"
   },
   {
    "duration": 8,
    "start_time": "2022-04-17T16:47:27.403Z"
   },
   {
    "duration": 6,
    "start_time": "2022-04-17T16:47:33.334Z"
   },
   {
    "duration": 16,
    "start_time": "2022-04-17T16:47:38.226Z"
   },
   {
    "duration": 4,
    "start_time": "2022-04-17T16:48:30.899Z"
   },
   {
    "duration": 15,
    "start_time": "2022-04-17T16:48:37.083Z"
   },
   {
    "duration": 16,
    "start_time": "2022-04-17T16:48:58.345Z"
   },
   {
    "duration": 5066,
    "start_time": "2022-04-17T16:53:22.069Z"
   },
   {
    "duration": 3394,
    "start_time": "2022-04-17T16:54:07.490Z"
   },
   {
    "duration": 953,
    "start_time": "2022-04-17T16:54:38.561Z"
   },
   {
    "duration": 155,
    "start_time": "2022-04-17T16:54:48.677Z"
   },
   {
    "duration": 1027,
    "start_time": "2022-04-17T16:56:21.605Z"
   },
   {
    "duration": 3902,
    "start_time": "2022-04-17T16:56:22.635Z"
   },
   {
    "duration": 3430,
    "start_time": "2022-04-17T16:56:26.541Z"
   },
   {
    "duration": 1743,
    "start_time": "2022-04-17T16:56:29.974Z"
   },
   {
    "duration": 4,
    "start_time": "2022-04-17T16:56:31.720Z"
   },
   {
    "duration": 20,
    "start_time": "2022-04-17T16:56:31.726Z"
   },
   {
    "duration": 43,
    "start_time": "2022-04-17T16:56:31.748Z"
   },
   {
    "duration": 46,
    "start_time": "2022-04-17T16:56:31.793Z"
   },
   {
    "duration": 15,
    "start_time": "2022-04-17T16:56:31.841Z"
   },
   {
    "duration": 37,
    "start_time": "2022-04-17T16:56:31.858Z"
   },
   {
    "duration": 24,
    "start_time": "2022-04-17T16:56:31.897Z"
   },
   {
    "duration": 8,
    "start_time": "2022-04-17T16:56:31.923Z"
   },
   {
    "duration": 17,
    "start_time": "2022-04-17T16:56:31.933Z"
   },
   {
    "duration": 8,
    "start_time": "2022-04-17T16:56:31.982Z"
   },
   {
    "duration": 35,
    "start_time": "2022-04-17T16:56:31.992Z"
   },
   {
    "duration": 16,
    "start_time": "2022-04-17T16:56:32.029Z"
   },
   {
    "duration": 45,
    "start_time": "2022-04-17T16:56:32.047Z"
   },
   {
    "duration": 19,
    "start_time": "2022-04-17T16:56:32.094Z"
   },
   {
    "duration": 21,
    "start_time": "2022-04-17T16:56:32.115Z"
   },
   {
    "duration": 45,
    "start_time": "2022-04-17T16:56:32.138Z"
   },
   {
    "duration": 18,
    "start_time": "2022-04-17T16:56:32.185Z"
   },
   {
    "duration": 204,
    "start_time": "2022-04-17T16:56:32.205Z"
   },
   {
    "duration": 116,
    "start_time": "2022-04-17T17:00:56.696Z"
   },
   {
    "duration": 633,
    "start_time": "2022-04-17T17:03:23.476Z"
   },
   {
    "duration": 4,
    "start_time": "2022-04-17T17:08:46.041Z"
   },
   {
    "duration": 3746,
    "start_time": "2022-04-17T17:08:46.049Z"
   },
   {
    "duration": 3666,
    "start_time": "2022-04-17T17:08:49.798Z"
   },
   {
    "duration": 26,
    "start_time": "2022-04-17T17:08:53.468Z"
   },
   {
    "duration": 11,
    "start_time": "2022-04-17T17:08:53.498Z"
   },
   {
    "duration": 14,
    "start_time": "2022-04-17T17:08:53.511Z"
   },
   {
    "duration": 46,
    "start_time": "2022-04-17T17:08:53.528Z"
   },
   {
    "duration": 44,
    "start_time": "2022-04-17T17:08:53.576Z"
   },
   {
    "duration": 29,
    "start_time": "2022-04-17T17:08:53.623Z"
   },
   {
    "duration": 50,
    "start_time": "2022-04-17T17:08:53.655Z"
   },
   {
    "duration": 13,
    "start_time": "2022-04-17T17:08:53.708Z"
   },
   {
    "duration": 15,
    "start_time": "2022-04-17T17:08:53.724Z"
   },
   {
    "duration": 32,
    "start_time": "2022-04-17T17:08:53.741Z"
   },
   {
    "duration": 20,
    "start_time": "2022-04-17T17:08:53.781Z"
   },
   {
    "duration": 49,
    "start_time": "2022-04-17T17:08:53.804Z"
   },
   {
    "duration": 13,
    "start_time": "2022-04-17T17:08:53.855Z"
   },
   {
    "duration": 24,
    "start_time": "2022-04-17T17:08:53.871Z"
   },
   {
    "duration": 43,
    "start_time": "2022-04-17T17:08:53.897Z"
   },
   {
    "duration": 39,
    "start_time": "2022-04-17T17:08:53.943Z"
   },
   {
    "duration": 45,
    "start_time": "2022-04-17T17:08:53.985Z"
   },
   {
    "duration": 55,
    "start_time": "2022-04-17T17:08:54.033Z"
   },
   {
    "duration": 140,
    "start_time": "2022-04-17T17:08:54.091Z"
   },
   {
    "duration": 9,
    "start_time": "2022-04-17T17:09:30.891Z"
   },
   {
    "duration": 113,
    "start_time": "2022-04-17T17:09:57.849Z"
   },
   {
    "duration": 518,
    "start_time": "2022-04-17T17:11:04.201Z"
   },
   {
    "duration": 456,
    "start_time": "2022-04-17T17:11:47.225Z"
   },
   {
    "duration": 21,
    "start_time": "2022-04-17T17:15:58.411Z"
   },
   {
    "duration": 13,
    "start_time": "2022-04-17T17:16:12.405Z"
   },
   {
    "duration": 17,
    "start_time": "2022-04-17T17:27:02.833Z"
   },
   {
    "duration": 17,
    "start_time": "2022-04-17T17:29:11.969Z"
   },
   {
    "duration": 20,
    "start_time": "2022-04-17T17:29:40.073Z"
   },
   {
    "duration": 20,
    "start_time": "2022-04-17T17:32:40.792Z"
   },
   {
    "duration": 336,
    "start_time": "2022-04-17T17:33:08.431Z"
   },
   {
    "duration": 41,
    "start_time": "2022-04-17T17:36:40.361Z"
   },
   {
    "duration": 3,
    "start_time": "2022-04-17T17:46:39.948Z"
   },
   {
    "duration": 3869,
    "start_time": "2022-04-17T17:46:39.955Z"
   },
   {
    "duration": 3493,
    "start_time": "2022-04-17T17:46:43.827Z"
   },
   {
    "duration": 17,
    "start_time": "2022-04-17T17:46:47.323Z"
   },
   {
    "duration": 5,
    "start_time": "2022-04-17T17:46:47.343Z"
   },
   {
    "duration": 9,
    "start_time": "2022-04-17T17:46:47.350Z"
   },
   {
    "duration": 40,
    "start_time": "2022-04-17T17:46:47.361Z"
   },
   {
    "duration": 45,
    "start_time": "2022-04-17T17:46:47.403Z"
   },
   {
    "duration": 29,
    "start_time": "2022-04-17T17:46:47.451Z"
   },
   {
    "duration": 11,
    "start_time": "2022-04-17T17:46:47.482Z"
   },
   {
    "duration": 23,
    "start_time": "2022-04-17T17:46:47.495Z"
   },
   {
    "duration": 12,
    "start_time": "2022-04-17T17:46:47.520Z"
   },
   {
    "duration": 8,
    "start_time": "2022-04-17T17:46:47.534Z"
   },
   {
    "duration": 50,
    "start_time": "2022-04-17T17:46:47.545Z"
   },
   {
    "duration": 8,
    "start_time": "2022-04-17T17:46:47.598Z"
   },
   {
    "duration": 31,
    "start_time": "2022-04-17T17:46:47.609Z"
   },
   {
    "duration": 41,
    "start_time": "2022-04-17T17:46:47.642Z"
   },
   {
    "duration": 15,
    "start_time": "2022-04-17T17:46:47.685Z"
   },
   {
    "duration": 18,
    "start_time": "2022-04-17T17:46:47.702Z"
   },
   {
    "duration": 18,
    "start_time": "2022-04-17T17:46:47.722Z"
   },
   {
    "duration": 54,
    "start_time": "2022-04-17T17:46:47.742Z"
   },
   {
    "duration": 19,
    "start_time": "2022-04-17T17:46:47.799Z"
   },
   {
    "duration": 400,
    "start_time": "2022-04-17T17:46:47.820Z"
   },
   {
    "duration": 59,
    "start_time": "2022-04-17T17:46:48.222Z"
   },
   {
    "duration": 1073,
    "start_time": "2022-04-17T17:52:27.467Z"
   },
   {
    "duration": 3970,
    "start_time": "2022-04-17T17:52:28.543Z"
   },
   {
    "duration": 3488,
    "start_time": "2022-04-17T17:52:32.516Z"
   },
   {
    "duration": 905,
    "start_time": "2022-04-17T17:52:36.008Z"
   },
   {
    "duration": 5,
    "start_time": "2022-04-17T17:52:36.915Z"
   },
   {
    "duration": 5,
    "start_time": "2022-04-17T17:52:36.923Z"
   },
   {
    "duration": 38,
    "start_time": "2022-04-17T17:52:36.931Z"
   },
   {
    "duration": 47,
    "start_time": "2022-04-17T17:52:36.972Z"
   },
   {
    "duration": 31,
    "start_time": "2022-04-17T17:52:37.022Z"
   },
   {
    "duration": 29,
    "start_time": "2022-04-17T17:52:37.058Z"
   },
   {
    "duration": 20,
    "start_time": "2022-04-17T17:52:37.091Z"
   },
   {
    "duration": 13,
    "start_time": "2022-04-17T17:52:37.114Z"
   },
   {
    "duration": 52,
    "start_time": "2022-04-17T17:52:37.130Z"
   },
   {
    "duration": 17,
    "start_time": "2022-04-17T17:52:37.184Z"
   },
   {
    "duration": 8,
    "start_time": "2022-04-17T17:52:37.204Z"
   },
   {
    "duration": 31,
    "start_time": "2022-04-17T17:52:37.214Z"
   },
   {
    "duration": 45,
    "start_time": "2022-04-17T17:52:37.247Z"
   },
   {
    "duration": 15,
    "start_time": "2022-04-17T17:52:37.294Z"
   },
   {
    "duration": 18,
    "start_time": "2022-04-17T17:52:37.311Z"
   },
   {
    "duration": 58,
    "start_time": "2022-04-17T17:52:37.331Z"
   },
   {
    "duration": 21,
    "start_time": "2022-04-17T17:52:37.391Z"
   },
   {
    "duration": 20,
    "start_time": "2022-04-17T17:52:37.415Z"
   },
   {
    "duration": 510,
    "start_time": "2022-04-17T17:52:37.438Z"
   },
   {
    "duration": 68,
    "start_time": "2022-04-17T17:52:37.951Z"
   },
   {
    "duration": 921,
    "start_time": "2022-04-18T06:36:05.493Z"
   },
   {
    "duration": 20315,
    "start_time": "2022-04-18T06:36:06.417Z"
   },
   {
    "duration": 100339,
    "start_time": "2022-04-18T06:36:26.734Z"
   },
   {
    "duration": 114,
    "start_time": "2022-04-18T06:38:07.076Z"
   },
   {
    "duration": 0,
    "start_time": "2022-04-18T06:38:07.192Z"
   },
   {
    "duration": 0,
    "start_time": "2022-04-18T06:38:07.194Z"
   },
   {
    "duration": 0,
    "start_time": "2022-04-18T06:38:07.195Z"
   },
   {
    "duration": 0,
    "start_time": "2022-04-18T06:38:07.196Z"
   },
   {
    "duration": 0,
    "start_time": "2022-04-18T06:38:07.197Z"
   },
   {
    "duration": 0,
    "start_time": "2022-04-18T06:38:07.198Z"
   },
   {
    "duration": 0,
    "start_time": "2022-04-18T06:38:07.199Z"
   },
   {
    "duration": 0,
    "start_time": "2022-04-18T06:38:07.201Z"
   },
   {
    "duration": 0,
    "start_time": "2022-04-18T06:38:07.202Z"
   },
   {
    "duration": 0,
    "start_time": "2022-04-18T06:38:07.203Z"
   },
   {
    "duration": 0,
    "start_time": "2022-04-18T06:38:07.204Z"
   },
   {
    "duration": 0,
    "start_time": "2022-04-18T06:38:07.205Z"
   },
   {
    "duration": 0,
    "start_time": "2022-04-18T06:38:07.206Z"
   },
   {
    "duration": 0,
    "start_time": "2022-04-18T06:38:07.208Z"
   },
   {
    "duration": 0,
    "start_time": "2022-04-18T06:38:07.234Z"
   },
   {
    "duration": 0,
    "start_time": "2022-04-18T06:38:07.235Z"
   },
   {
    "duration": 0,
    "start_time": "2022-04-18T06:38:07.237Z"
   },
   {
    "duration": 0,
    "start_time": "2022-04-18T06:38:07.238Z"
   },
   {
    "duration": 0,
    "start_time": "2022-04-18T06:38:07.240Z"
   },
   {
    "duration": 0,
    "start_time": "2022-04-18T06:38:07.241Z"
   },
   {
    "duration": 3,
    "start_time": "2022-04-18T06:39:09.856Z"
   },
   {
    "duration": 5,
    "start_time": "2022-04-18T06:39:09.861Z"
   },
   {
    "duration": 42,
    "start_time": "2022-04-18T06:39:09.868Z"
   },
   {
    "duration": 56,
    "start_time": "2022-04-18T06:39:09.912Z"
   },
   {
    "duration": 19,
    "start_time": "2022-04-18T06:39:09.971Z"
   },
   {
    "duration": 11,
    "start_time": "2022-04-18T06:39:09.992Z"
   },
   {
    "duration": 15,
    "start_time": "2022-04-18T06:39:10.005Z"
   },
   {
    "duration": 16,
    "start_time": "2022-04-18T06:39:10.037Z"
   },
   {
    "duration": 7,
    "start_time": "2022-04-18T06:39:10.055Z"
   },
   {
    "duration": 14,
    "start_time": "2022-04-18T06:39:10.064Z"
   },
   {
    "duration": 5,
    "start_time": "2022-04-18T06:39:10.079Z"
   },
   {
    "duration": 30,
    "start_time": "2022-04-18T06:39:10.086Z"
   },
   {
    "duration": 13,
    "start_time": "2022-04-18T06:39:10.136Z"
   },
   {
    "duration": 17,
    "start_time": "2022-04-18T06:39:10.153Z"
   },
   {
    "duration": 18,
    "start_time": "2022-04-18T06:39:10.172Z"
   },
   {
    "duration": 14,
    "start_time": "2022-04-18T06:39:10.192Z"
   },
   {
    "duration": 16,
    "start_time": "2022-04-18T06:39:10.241Z"
   },
   {
    "duration": 14,
    "start_time": "2022-04-18T06:39:10.259Z"
   },
   {
    "duration": 834,
    "start_time": "2022-04-18T06:39:10.275Z"
   },
   {
    "duration": 37,
    "start_time": "2022-04-18T06:39:11.111Z"
   },
   {
    "duration": 902,
    "start_time": "2022-04-19T16:39:51.701Z"
   },
   {
    "duration": 5199,
    "start_time": "2022-04-19T16:39:52.605Z"
   },
   {
    "duration": 3835,
    "start_time": "2022-04-19T16:39:57.806Z"
   },
   {
    "duration": 1385,
    "start_time": "2022-04-19T16:40:01.644Z"
   },
   {
    "duration": 3,
    "start_time": "2022-04-19T16:40:03.031Z"
   },
   {
    "duration": 8,
    "start_time": "2022-04-19T16:40:03.036Z"
   },
   {
    "duration": 25,
    "start_time": "2022-04-19T16:40:03.046Z"
   },
   {
    "duration": 37,
    "start_time": "2022-04-19T16:40:03.073Z"
   },
   {
    "duration": 20,
    "start_time": "2022-04-19T16:40:03.112Z"
   },
   {
    "duration": 18,
    "start_time": "2022-04-19T16:40:03.136Z"
   },
   {
    "duration": 32,
    "start_time": "2022-04-19T16:40:03.156Z"
   },
   {
    "duration": 26,
    "start_time": "2022-04-19T16:40:03.190Z"
   },
   {
    "duration": 14,
    "start_time": "2022-04-19T16:40:03.218Z"
   },
   {
    "duration": 40,
    "start_time": "2022-04-19T16:40:03.234Z"
   },
   {
    "duration": 14,
    "start_time": "2022-04-19T16:40:03.276Z"
   },
   {
    "duration": 35,
    "start_time": "2022-04-19T16:40:03.292Z"
   },
   {
    "duration": 9,
    "start_time": "2022-04-19T16:40:03.329Z"
   },
   {
    "duration": 25,
    "start_time": "2022-04-19T16:40:03.340Z"
   },
   {
    "duration": 33,
    "start_time": "2022-04-19T16:40:03.367Z"
   },
   {
    "duration": 31,
    "start_time": "2022-04-19T16:40:03.402Z"
   },
   {
    "duration": 25,
    "start_time": "2022-04-19T16:40:03.435Z"
   },
   {
    "duration": 27,
    "start_time": "2022-04-19T16:40:03.462Z"
   },
   {
    "duration": 388,
    "start_time": "2022-04-19T16:40:03.491Z"
   },
   {
    "duration": 132,
    "start_time": "2022-04-19T16:40:03.881Z"
   },
   {
    "duration": 777,
    "start_time": "2022-04-20T07:42:49.933Z"
   },
   {
    "duration": 4376,
    "start_time": "2022-04-20T07:42:50.711Z"
   },
   {
    "duration": 3568,
    "start_time": "2022-04-20T07:42:55.089Z"
   },
   {
    "duration": 744,
    "start_time": "2022-04-20T07:42:58.659Z"
   },
   {
    "duration": 2,
    "start_time": "2022-04-20T07:42:59.406Z"
   },
   {
    "duration": 6,
    "start_time": "2022-04-20T07:42:59.410Z"
   },
   {
    "duration": 45,
    "start_time": "2022-04-20T07:42:59.418Z"
   },
   {
    "duration": 63,
    "start_time": "2022-04-20T07:42:59.465Z"
   },
   {
    "duration": 17,
    "start_time": "2022-04-20T07:42:59.530Z"
   },
   {
    "duration": 13,
    "start_time": "2022-04-20T07:42:59.549Z"
   },
   {
    "duration": 13,
    "start_time": "2022-04-20T07:42:59.564Z"
   },
   {
    "duration": 22,
    "start_time": "2022-04-20T07:42:59.579Z"
   },
   {
    "duration": 6,
    "start_time": "2022-04-20T07:42:59.602Z"
   },
   {
    "duration": 9,
    "start_time": "2022-04-20T07:42:59.611Z"
   },
   {
    "duration": 5,
    "start_time": "2022-04-20T07:42:59.622Z"
   },
   {
    "duration": 27,
    "start_time": "2022-04-20T07:42:59.628Z"
   },
   {
    "duration": 9,
    "start_time": "2022-04-20T07:42:59.656Z"
   },
   {
    "duration": 35,
    "start_time": "2022-04-20T07:42:59.667Z"
   },
   {
    "duration": 12,
    "start_time": "2022-04-20T07:42:59.704Z"
   },
   {
    "duration": 11,
    "start_time": "2022-04-20T07:42:59.717Z"
   },
   {
    "duration": 12,
    "start_time": "2022-04-20T07:42:59.729Z"
   },
   {
    "duration": 12,
    "start_time": "2022-04-20T07:42:59.742Z"
   },
   {
    "duration": 283,
    "start_time": "2022-04-20T07:42:59.755Z"
   },
   {
    "duration": 107,
    "start_time": "2022-04-20T07:43:00.039Z"
   },
   {
    "duration": 3,
    "start_time": "2022-04-20T09:38:25.352Z"
   },
   {
    "duration": 14,
    "start_time": "2022-04-20T09:42:23.121Z"
   },
   {
    "duration": 14,
    "start_time": "2022-04-20T09:42:54.425Z"
   },
   {
    "duration": 13,
    "start_time": "2022-04-20T09:49:38.571Z"
   },
   {
    "duration": 12,
    "start_time": "2022-04-20T09:49:42.582Z"
   },
   {
    "duration": 8,
    "start_time": "2022-04-20T09:50:07.399Z"
   },
   {
    "duration": 9,
    "start_time": "2022-04-20T09:50:51.173Z"
   },
   {
    "duration": 11,
    "start_time": "2022-04-20T09:51:52.103Z"
   },
   {
    "duration": 11,
    "start_time": "2022-04-20T09:52:16.967Z"
   },
   {
    "duration": 11,
    "start_time": "2022-04-20T09:52:35.251Z"
   },
   {
    "duration": 189,
    "start_time": "2022-04-20T09:53:39.665Z"
   },
   {
    "duration": 178,
    "start_time": "2022-04-20T09:54:03.927Z"
   },
   {
    "duration": 3,
    "start_time": "2022-04-20T10:12:41.339Z"
   },
   {
    "duration": 195,
    "start_time": "2022-04-20T10:13:11.966Z"
   },
   {
    "duration": 189,
    "start_time": "2022-04-20T10:13:22.183Z"
   },
   {
    "duration": 186,
    "start_time": "2022-04-20T10:14:18.909Z"
   },
   {
    "duration": 4,
    "start_time": "2022-04-20T10:23:47.589Z"
   },
   {
    "duration": 129,
    "start_time": "2022-04-20T10:27:52.810Z"
   },
   {
    "duration": 112,
    "start_time": "2022-04-20T10:28:16.307Z"
   },
   {
    "duration": 111,
    "start_time": "2022-04-20T10:28:39.869Z"
   },
   {
    "duration": 125,
    "start_time": "2022-04-20T10:29:03.654Z"
   },
   {
    "duration": 137,
    "start_time": "2022-04-20T10:29:14.502Z"
   },
   {
    "duration": 132,
    "start_time": "2022-04-20T10:29:24.721Z"
   },
   {
    "duration": 128,
    "start_time": "2022-04-20T10:30:17.350Z"
   },
   {
    "duration": 10,
    "start_time": "2022-04-20T10:32:35.428Z"
   },
   {
    "duration": 11,
    "start_time": "2022-04-20T10:32:47.236Z"
   },
   {
    "duration": 190,
    "start_time": "2022-04-20T10:33:09.156Z"
   },
   {
    "duration": 14,
    "start_time": "2022-04-20T10:33:16.712Z"
   },
   {
    "duration": 10,
    "start_time": "2022-04-20T10:33:24.380Z"
   },
   {
    "duration": 13,
    "start_time": "2022-04-20T10:34:44.705Z"
   },
   {
    "duration": 11,
    "start_time": "2022-04-20T10:35:04.944Z"
   },
   {
    "duration": 3,
    "start_time": "2022-04-20T10:37:23.431Z"
   },
   {
    "duration": 5,
    "start_time": "2022-04-20T10:37:54.888Z"
   },
   {
    "duration": 11,
    "start_time": "2022-04-20T10:44:08.163Z"
   },
   {
    "duration": 12,
    "start_time": "2022-04-20T10:44:29.265Z"
   },
   {
    "duration": 11,
    "start_time": "2022-04-20T10:44:53.525Z"
   },
   {
    "duration": 11,
    "start_time": "2022-04-20T10:45:09.427Z"
   },
   {
    "duration": 178,
    "start_time": "2022-04-20T10:45:53.610Z"
   },
   {
    "duration": 7,
    "start_time": "2022-04-20T11:11:36.127Z"
   },
   {
    "duration": 18,
    "start_time": "2022-04-20T11:11:47.330Z"
   },
   {
    "duration": 195,
    "start_time": "2022-04-20T11:13:28.418Z"
   },
   {
    "duration": 147,
    "start_time": "2022-04-20T11:13:41.969Z"
   },
   {
    "duration": 323,
    "start_time": "2022-04-20T11:14:04.741Z"
   },
   {
    "duration": 285,
    "start_time": "2022-04-20T11:14:41.188Z"
   },
   {
    "duration": 262,
    "start_time": "2022-04-20T11:14:48.532Z"
   },
   {
    "duration": 300,
    "start_time": "2022-04-20T11:15:03.275Z"
   },
   {
    "duration": 186,
    "start_time": "2022-04-20T11:22:58.198Z"
   },
   {
    "duration": 186,
    "start_time": "2022-04-20T11:23:05.100Z"
   },
   {
    "duration": 1066,
    "start_time": "2022-04-20T11:23:46.987Z"
   },
   {
    "duration": 2246,
    "start_time": "2022-04-20T11:23:48.055Z"
   },
   {
    "duration": 2082,
    "start_time": "2022-04-20T11:23:50.303Z"
   },
   {
    "duration": 345,
    "start_time": "2022-04-20T11:23:52.387Z"
   },
   {
    "duration": 2,
    "start_time": "2022-04-20T11:23:52.735Z"
   },
   {
    "duration": 5,
    "start_time": "2022-04-20T11:23:52.739Z"
   },
   {
    "duration": 27,
    "start_time": "2022-04-20T11:23:52.745Z"
   },
   {
    "duration": 51,
    "start_time": "2022-04-20T11:23:52.774Z"
   },
   {
    "duration": 16,
    "start_time": "2022-04-20T11:23:52.827Z"
   },
   {
    "duration": 7,
    "start_time": "2022-04-20T11:23:52.845Z"
   },
   {
    "duration": 12,
    "start_time": "2022-04-20T11:23:52.853Z"
   },
   {
    "duration": 8,
    "start_time": "2022-04-20T11:23:52.867Z"
   },
   {
    "duration": 6,
    "start_time": "2022-04-20T11:23:52.899Z"
   },
   {
    "duration": 10,
    "start_time": "2022-04-20T11:23:52.908Z"
   },
   {
    "duration": 140,
    "start_time": "2022-04-20T11:23:52.919Z"
   },
   {
    "duration": 120,
    "start_time": "2022-04-20T11:23:53.061Z"
   },
   {
    "duration": 5,
    "start_time": "2022-04-20T11:23:53.183Z"
   },
   {
    "duration": 7,
    "start_time": "2022-04-20T11:23:53.200Z"
   },
   {
    "duration": 151,
    "start_time": "2022-04-20T11:23:53.209Z"
   },
   {
    "duration": 126,
    "start_time": "2022-04-20T11:23:53.362Z"
   },
   {
    "duration": 194,
    "start_time": "2022-04-20T11:23:53.490Z"
   },
   {
    "duration": 14,
    "start_time": "2022-04-20T11:23:53.686Z"
   },
   {
    "duration": 30,
    "start_time": "2022-04-20T11:23:53.702Z"
   },
   {
    "duration": 8,
    "start_time": "2022-04-20T11:23:53.734Z"
   },
   {
    "duration": 9,
    "start_time": "2022-04-20T11:23:53.744Z"
   },
   {
    "duration": 14,
    "start_time": "2022-04-20T11:23:53.755Z"
   },
   {
    "duration": 11,
    "start_time": "2022-04-20T11:23:53.770Z"
   },
   {
    "duration": 25,
    "start_time": "2022-04-20T11:23:53.783Z"
   },
   {
    "duration": 12,
    "start_time": "2022-04-20T11:23:53.809Z"
   },
   {
    "duration": 273,
    "start_time": "2022-04-20T11:23:53.823Z"
   },
   {
    "duration": 2,
    "start_time": "2022-04-20T11:23:54.098Z"
   },
   {
    "duration": 15,
    "start_time": "2022-04-20T11:23:54.102Z"
   },
   {
    "duration": 14,
    "start_time": "2022-04-20T11:23:54.118Z"
   },
   {
    "duration": 194,
    "start_time": "2022-04-20T11:23:54.134Z"
   },
   {
    "duration": 185,
    "start_time": "2022-04-20T11:23:54.329Z"
   },
   {
    "duration": 318,
    "start_time": "2022-04-20T11:23:54.516Z"
   },
   {
    "duration": 185,
    "start_time": "2022-04-20T11:24:41.718Z"
   },
   {
    "duration": 192,
    "start_time": "2022-04-20T11:24:50.420Z"
   },
   {
    "duration": 184,
    "start_time": "2022-04-20T11:24:57.901Z"
   },
   {
    "duration": 171,
    "start_time": "2022-04-20T11:26:40.513Z"
   },
   {
    "duration": 7,
    "start_time": "2022-04-20T11:28:55.057Z"
   },
   {
    "duration": 4,
    "start_time": "2022-04-20T11:29:34.215Z"
   },
   {
    "duration": 4,
    "start_time": "2022-04-20T11:29:48.331Z"
   },
   {
    "duration": 11,
    "start_time": "2022-04-20T11:29:55.688Z"
   },
   {
    "duration": 120,
    "start_time": "2022-04-20T11:32:51.182Z"
   },
   {
    "duration": 22,
    "start_time": "2022-04-20T11:33:29.952Z"
   },
   {
    "duration": 16,
    "start_time": "2022-04-20T11:34:16.353Z"
   },
   {
    "duration": 21,
    "start_time": "2022-04-20T11:34:26.315Z"
   },
   {
    "duration": 15,
    "start_time": "2022-04-20T11:38:21.596Z"
   },
   {
    "duration": 19,
    "start_time": "2022-04-20T11:39:31.008Z"
   },
   {
    "duration": 22,
    "start_time": "2022-04-20T11:41:33.898Z"
   },
   {
    "duration": 12,
    "start_time": "2022-04-20T11:41:46.794Z"
   },
   {
    "duration": 202,
    "start_time": "2022-04-20T11:43:50.475Z"
   },
   {
    "duration": 176,
    "start_time": "2022-04-20T11:44:40.581Z"
   },
   {
    "duration": 4,
    "start_time": "2022-04-20T11:46:03.109Z"
   },
   {
    "duration": 4,
    "start_time": "2022-04-20T11:46:24.347Z"
   },
   {
    "duration": 5,
    "start_time": "2022-04-20T11:46:53.348Z"
   },
   {
    "duration": 4,
    "start_time": "2022-04-20T11:47:11.781Z"
   },
   {
    "duration": 4,
    "start_time": "2022-04-20T11:47:23.264Z"
   },
   {
    "duration": 4,
    "start_time": "2022-04-20T11:47:34.346Z"
   },
   {
    "duration": 5,
    "start_time": "2022-04-20T11:48:17.949Z"
   },
   {
    "duration": 4,
    "start_time": "2022-04-20T11:52:11.130Z"
   },
   {
    "duration": 5,
    "start_time": "2022-04-20T11:56:01.537Z"
   },
   {
    "duration": 3,
    "start_time": "2022-04-20T16:24:44.621Z"
   },
   {
    "duration": 9,
    "start_time": "2022-04-20T16:30:28.191Z"
   },
   {
    "duration": 54,
    "start_time": "2022-04-20T16:31:23.144Z"
   },
   {
    "duration": 113,
    "start_time": "2022-04-20T16:31:50.334Z"
   },
   {
    "duration": 9,
    "start_time": "2022-04-20T16:59:23.944Z"
   },
   {
    "duration": 4,
    "start_time": "2022-04-20T17:00:40.896Z"
   },
   {
    "duration": 5,
    "start_time": "2022-04-20T17:00:56.282Z"
   },
   {
    "duration": 4,
    "start_time": "2022-04-20T17:01:19.272Z"
   },
   {
    "duration": 4,
    "start_time": "2022-04-20T17:02:23.029Z"
   },
   {
    "duration": 4,
    "start_time": "2022-04-20T17:03:07.272Z"
   },
   {
    "duration": 3,
    "start_time": "2022-04-20T17:03:57.611Z"
   },
   {
    "duration": 90,
    "start_time": "2022-04-20T17:06:33.434Z"
   },
   {
    "duration": 3,
    "start_time": "2022-04-20T17:06:58.500Z"
   },
   {
    "duration": 11,
    "start_time": "2022-04-20T17:09:00.333Z"
   },
   {
    "duration": 4,
    "start_time": "2022-04-20T17:09:30.270Z"
   },
   {
    "duration": 6,
    "start_time": "2022-04-20T17:09:37.138Z"
   },
   {
    "duration": 5,
    "start_time": "2022-04-20T17:13:27.534Z"
   },
   {
    "duration": 5,
    "start_time": "2022-04-20T17:13:40.300Z"
   },
   {
    "duration": 198,
    "start_time": "2022-04-20T17:14:06.525Z"
   },
   {
    "duration": 6,
    "start_time": "2022-04-20T17:14:37.493Z"
   },
   {
    "duration": 5,
    "start_time": "2022-04-20T17:14:57.072Z"
   },
   {
    "duration": 3,
    "start_time": "2022-04-20T17:47:06.346Z"
   },
   {
    "duration": 4,
    "start_time": "2022-04-20T17:47:21.157Z"
   },
   {
    "duration": 5,
    "start_time": "2022-04-20T17:52:32.046Z"
   },
   {
    "duration": 5,
    "start_time": "2022-04-20T17:53:01.245Z"
   },
   {
    "duration": 10,
    "start_time": "2022-04-20T18:52:44.704Z"
   },
   {
    "duration": 10,
    "start_time": "2022-04-20T18:53:03.210Z"
   },
   {
    "duration": 154,
    "start_time": "2022-04-20T18:53:36.603Z"
   },
   {
    "duration": 228,
    "start_time": "2022-04-20T19:01:18.008Z"
   },
   {
    "duration": 212,
    "start_time": "2022-04-20T19:01:51.839Z"
   },
   {
    "duration": 127,
    "start_time": "2022-04-20T19:02:19.804Z"
   },
   {
    "duration": 4,
    "start_time": "2022-04-20T19:02:26.682Z"
   },
   {
    "duration": 137,
    "start_time": "2022-04-20T19:03:14.786Z"
   },
   {
    "duration": 247,
    "start_time": "2022-04-20T19:03:40.289Z"
   },
   {
    "duration": 215,
    "start_time": "2022-04-20T19:03:47.748Z"
   },
   {
    "duration": 248,
    "start_time": "2022-04-20T19:04:06.635Z"
   },
   {
    "duration": 171,
    "start_time": "2022-04-20T19:04:24.712Z"
   },
   {
    "duration": 262,
    "start_time": "2022-04-20T19:04:37.781Z"
   },
   {
    "duration": 355,
    "start_time": "2022-04-20T19:04:55.800Z"
   },
   {
    "duration": 185,
    "start_time": "2022-04-20T19:05:07.467Z"
   },
   {
    "duration": 126,
    "start_time": "2022-04-20T19:05:18.844Z"
   },
   {
    "duration": 127,
    "start_time": "2022-04-20T19:05:29.237Z"
   },
   {
    "duration": 18,
    "start_time": "2022-04-20T19:06:34.484Z"
   },
   {
    "duration": 4,
    "start_time": "2022-04-20T19:08:03.042Z"
   },
   {
    "duration": 6,
    "start_time": "2022-04-20T19:08:09.084Z"
   },
   {
    "duration": 5,
    "start_time": "2022-04-20T19:10:41.978Z"
   },
   {
    "duration": 18,
    "start_time": "2022-04-20T19:11:13.694Z"
   },
   {
    "duration": 7,
    "start_time": "2022-04-20T19:15:25.545Z"
   },
   {
    "duration": 4,
    "start_time": "2022-04-20T19:16:07.325Z"
   },
   {
    "duration": 19,
    "start_time": "2022-04-20T19:16:10.572Z"
   },
   {
    "duration": 6,
    "start_time": "2022-04-20T19:16:57.827Z"
   },
   {
    "duration": 8,
    "start_time": "2022-04-20T19:17:52.887Z"
   },
   {
    "duration": 4,
    "start_time": "2022-04-20T19:19:09.500Z"
   },
   {
    "duration": 7,
    "start_time": "2022-04-20T19:19:34.372Z"
   },
   {
    "duration": 5,
    "start_time": "2022-04-20T19:23:26.178Z"
   },
   {
    "duration": 5,
    "start_time": "2022-04-20T19:23:38.072Z"
   },
   {
    "duration": 1198,
    "start_time": "2022-04-21T13:14:52.524Z"
   },
   {
    "duration": 86362,
    "start_time": "2022-04-21T13:14:53.724Z"
   },
   {
    "duration": 23812,
    "start_time": "2022-04-21T13:16:20.088Z"
   },
   {
    "duration": 578,
    "start_time": "2022-04-21T13:16:43.903Z"
   },
   {
    "duration": 3,
    "start_time": "2022-04-21T13:16:44.482Z"
   },
   {
    "duration": 7,
    "start_time": "2022-04-21T13:16:44.487Z"
   },
   {
    "duration": 26,
    "start_time": "2022-04-21T13:16:44.495Z"
   },
   {
    "duration": 43,
    "start_time": "2022-04-21T13:16:44.523Z"
   },
   {
    "duration": 17,
    "start_time": "2022-04-21T13:16:44.568Z"
   },
   {
    "duration": 7,
    "start_time": "2022-04-21T13:16:44.588Z"
   },
   {
    "duration": 13,
    "start_time": "2022-04-21T13:16:44.596Z"
   },
   {
    "duration": 8,
    "start_time": "2022-04-21T13:16:44.611Z"
   },
   {
    "duration": 4,
    "start_time": "2022-04-21T13:16:44.621Z"
   },
   {
    "duration": 11,
    "start_time": "2022-04-21T13:16:44.627Z"
   },
   {
    "duration": 35,
    "start_time": "2022-04-21T13:16:44.639Z"
   },
   {
    "duration": 22,
    "start_time": "2022-04-21T13:16:44.675Z"
   },
   {
    "duration": 8,
    "start_time": "2022-04-21T13:16:44.699Z"
   },
   {
    "duration": 21,
    "start_time": "2022-04-21T13:16:44.709Z"
   },
   {
    "duration": 20,
    "start_time": "2022-04-21T13:16:44.731Z"
   },
   {
    "duration": 25,
    "start_time": "2022-04-21T13:16:44.752Z"
   },
   {
    "duration": 18,
    "start_time": "2022-04-21T13:16:44.779Z"
   },
   {
    "duration": 14,
    "start_time": "2022-04-21T13:16:44.798Z"
   },
   {
    "duration": 302,
    "start_time": "2022-04-21T13:16:44.814Z"
   },
   {
    "duration": 2,
    "start_time": "2022-04-21T13:16:45.118Z"
   },
   {
    "duration": 37,
    "start_time": "2022-04-21T13:16:45.122Z"
   },
   {
    "duration": 25,
    "start_time": "2022-04-21T13:16:45.162Z"
   },
   {
    "duration": 204,
    "start_time": "2022-04-21T13:16:45.189Z"
   },
   {
    "duration": 284,
    "start_time": "2022-04-21T13:16:45.396Z"
   },
   {
    "duration": 331,
    "start_time": "2022-04-21T13:16:45.682Z"
   },
   {
    "duration": 15,
    "start_time": "2022-04-21T13:16:46.015Z"
   },
   {
    "duration": 246,
    "start_time": "2022-04-21T13:16:46.032Z"
   },
   {
    "duration": 5,
    "start_time": "2022-04-21T13:16:46.280Z"
   },
   {
    "duration": 132,
    "start_time": "2022-04-21T13:16:46.287Z"
   },
   {
    "duration": 147,
    "start_time": "2022-04-21T13:16:46.421Z"
   },
   {
    "duration": 148,
    "start_time": "2022-04-21T13:16:46.572Z"
   },
   {
    "duration": 4,
    "start_time": "2022-04-21T13:16:46.722Z"
   },
   {
    "duration": 151,
    "start_time": "2022-04-21T13:16:46.728Z"
   },
   {
    "duration": 150,
    "start_time": "2022-04-21T13:16:46.881Z"
   },
   {
    "duration": 4,
    "start_time": "2022-04-21T13:16:47.033Z"
   },
   {
    "duration": 19,
    "start_time": "2022-04-21T13:16:47.038Z"
   },
   {
    "duration": 7,
    "start_time": "2022-04-21T13:16:47.059Z"
   },
   {
    "duration": 5,
    "start_time": "2022-04-21T13:16:47.073Z"
   },
   {
    "duration": 7,
    "start_time": "2022-04-21T13:16:47.079Z"
   },
   {
    "duration": 166,
    "start_time": "2022-04-21T13:16:47.087Z"
   },
   {
    "duration": 6,
    "start_time": "2022-04-21T13:16:47.255Z"
   },
   {
    "duration": 7,
    "start_time": "2022-04-21T13:16:47.273Z"
   },
   {
    "duration": 6,
    "start_time": "2022-04-21T13:16:47.282Z"
   },
   {
    "duration": 133,
    "start_time": "2022-04-21T13:16:47.290Z"
   },
   {
    "duration": 0,
    "start_time": "2022-04-21T13:16:47.425Z"
   },
   {
    "duration": 20,
    "start_time": "2022-04-21T16:13:36.548Z"
   },
   {
    "duration": 120,
    "start_time": "2022-04-21T16:24:52.823Z"
   },
   {
    "duration": 122,
    "start_time": "2022-04-21T16:25:05.395Z"
   },
   {
    "duration": 11,
    "start_time": "2022-04-21T16:32:59.479Z"
   },
   {
    "duration": 11,
    "start_time": "2022-04-21T16:33:22.884Z"
   },
   {
    "duration": 5,
    "start_time": "2022-04-21T16:35:52.190Z"
   },
   {
    "duration": 12,
    "start_time": "2022-04-21T16:36:03.793Z"
   },
   {
    "duration": 12,
    "start_time": "2022-04-21T16:36:40.518Z"
   },
   {
    "duration": 16,
    "start_time": "2022-04-21T16:37:01.912Z"
   },
   {
    "duration": 21,
    "start_time": "2022-04-21T16:37:15.596Z"
   },
   {
    "duration": 16,
    "start_time": "2022-04-21T16:38:46.333Z"
   },
   {
    "duration": 26,
    "start_time": "2022-04-21T16:40:20.257Z"
   },
   {
    "duration": 15,
    "start_time": "2022-04-21T16:40:40.908Z"
   },
   {
    "duration": 10,
    "start_time": "2022-04-21T16:40:55.745Z"
   },
   {
    "duration": 11,
    "start_time": "2022-04-21T16:41:11.953Z"
   },
   {
    "duration": 15,
    "start_time": "2022-04-21T16:41:22.760Z"
   },
   {
    "duration": 16,
    "start_time": "2022-04-21T16:41:59.643Z"
   },
   {
    "duration": 14,
    "start_time": "2022-04-21T16:42:08.177Z"
   },
   {
    "duration": 7,
    "start_time": "2022-04-21T16:43:08.847Z"
   },
   {
    "duration": 7,
    "start_time": "2022-04-21T16:43:28.730Z"
   },
   {
    "duration": 12,
    "start_time": "2022-04-21T16:43:45.723Z"
   },
   {
    "duration": 12,
    "start_time": "2022-04-21T16:44:54.965Z"
   },
   {
    "duration": 5,
    "start_time": "2022-04-21T16:48:56.406Z"
   },
   {
    "duration": 6,
    "start_time": "2022-04-21T16:49:12.692Z"
   },
   {
    "duration": 6,
    "start_time": "2022-04-21T16:49:30.909Z"
   },
   {
    "duration": 12,
    "start_time": "2022-04-21T16:52:12.831Z"
   },
   {
    "duration": 6,
    "start_time": "2022-04-21T16:54:18.207Z"
   },
   {
    "duration": 12,
    "start_time": "2022-04-21T16:54:48.697Z"
   },
   {
    "duration": 146,
    "start_time": "2022-04-21T16:57:32.500Z"
   },
   {
    "duration": 6,
    "start_time": "2022-04-21T16:59:27.521Z"
   },
   {
    "duration": 12,
    "start_time": "2022-04-21T17:00:31.290Z"
   },
   {
    "duration": 12,
    "start_time": "2022-04-21T17:09:11.594Z"
   },
   {
    "duration": 5,
    "start_time": "2022-04-21T17:09:22.382Z"
   },
   {
    "duration": 7,
    "start_time": "2022-04-21T17:12:10.898Z"
   },
   {
    "duration": 6,
    "start_time": "2022-04-21T17:13:28.036Z"
   },
   {
    "duration": 14,
    "start_time": "2022-04-21T17:17:05.022Z"
   },
   {
    "duration": 16,
    "start_time": "2022-04-21T17:20:36.687Z"
   },
   {
    "duration": 27,
    "start_time": "2022-04-21T17:21:28.398Z"
   },
   {
    "duration": 21,
    "start_time": "2022-04-21T17:23:01.855Z"
   },
   {
    "duration": 37,
    "start_time": "2022-04-21T17:23:23.568Z"
   },
   {
    "duration": 5,
    "start_time": "2022-04-21T17:25:37.438Z"
   },
   {
    "duration": 5,
    "start_time": "2022-04-21T17:26:07.019Z"
   },
   {
    "duration": 7,
    "start_time": "2022-04-21T17:26:53.944Z"
   },
   {
    "duration": 161,
    "start_time": "2022-04-21T17:28:20.934Z"
   },
   {
    "duration": 5,
    "start_time": "2022-04-21T17:30:06.201Z"
   },
   {
    "duration": 6,
    "start_time": "2022-04-21T17:31:07.121Z"
   },
   {
    "duration": 17,
    "start_time": "2022-04-21T17:33:16.593Z"
   },
   {
    "duration": 17,
    "start_time": "2022-04-21T17:33:31.187Z"
   },
   {
    "duration": 15,
    "start_time": "2022-04-21T17:33:44.634Z"
   },
   {
    "duration": 159,
    "start_time": "2022-04-21T17:34:10.185Z"
   },
   {
    "duration": 6,
    "start_time": "2022-04-21T17:34:38.908Z"
   },
   {
    "duration": 5,
    "start_time": "2022-04-21T17:35:37.712Z"
   },
   {
    "duration": 6,
    "start_time": "2022-04-21T17:36:03.970Z"
   },
   {
    "duration": 19,
    "start_time": "2022-04-21T18:39:48.482Z"
   },
   {
    "duration": 6,
    "start_time": "2022-04-21T20:02:31.788Z"
   },
   {
    "duration": 1756,
    "start_time": "2022-04-21T20:29:37.658Z"
   },
   {
    "duration": 307,
    "start_time": "2022-04-21T20:30:31.712Z"
   },
   {
    "duration": 4,
    "start_time": "2022-04-21T20:32:04.863Z"
   },
   {
    "duration": 8,
    "start_time": "2022-04-21T20:33:15.569Z"
   },
   {
    "duration": 185,
    "start_time": "2022-04-21T20:33:51.736Z"
   },
   {
    "duration": 15,
    "start_time": "2022-04-21T20:35:28.790Z"
   },
   {
    "duration": 15,
    "start_time": "2022-04-21T20:35:48.945Z"
   },
   {
    "duration": 13,
    "start_time": "2022-04-21T20:38:08.360Z"
   },
   {
    "duration": 13,
    "start_time": "2022-04-21T20:42:51.627Z"
   },
   {
    "duration": 14,
    "start_time": "2022-04-21T20:43:17.091Z"
   },
   {
    "duration": 195,
    "start_time": "2022-04-21T20:43:20.371Z"
   },
   {
    "duration": 5,
    "start_time": "2022-04-21T20:44:13.284Z"
   },
   {
    "duration": 6,
    "start_time": "2022-04-21T20:44:23.880Z"
   },
   {
    "duration": 297,
    "start_time": "2022-04-21T20:46:50.961Z"
   },
   {
    "duration": 1031,
    "start_time": "2022-04-22T16:18:11.388Z"
   },
   {
    "duration": 40036,
    "start_time": "2022-04-22T16:18:12.421Z"
   },
   {
    "duration": 104195,
    "start_time": "2022-04-22T16:18:52.458Z"
   },
   {
    "duration": 172,
    "start_time": "2022-04-22T16:20:36.655Z"
   },
   {
    "duration": 0,
    "start_time": "2022-04-22T16:20:36.830Z"
   },
   {
    "duration": 0,
    "start_time": "2022-04-22T16:20:36.832Z"
   },
   {
    "duration": 0,
    "start_time": "2022-04-22T16:20:36.833Z"
   },
   {
    "duration": 0,
    "start_time": "2022-04-22T16:20:36.834Z"
   },
   {
    "duration": 0,
    "start_time": "2022-04-22T16:20:36.836Z"
   },
   {
    "duration": 0,
    "start_time": "2022-04-22T16:20:36.837Z"
   },
   {
    "duration": 0,
    "start_time": "2022-04-22T16:20:36.838Z"
   },
   {
    "duration": 0,
    "start_time": "2022-04-22T16:20:36.839Z"
   },
   {
    "duration": 0,
    "start_time": "2022-04-22T16:20:36.840Z"
   },
   {
    "duration": 0,
    "start_time": "2022-04-22T16:20:36.841Z"
   },
   {
    "duration": 0,
    "start_time": "2022-04-22T16:20:36.842Z"
   },
   {
    "duration": 0,
    "start_time": "2022-04-22T16:20:36.843Z"
   },
   {
    "duration": 0,
    "start_time": "2022-04-22T16:20:36.844Z"
   },
   {
    "duration": 0,
    "start_time": "2022-04-22T16:20:36.877Z"
   },
   {
    "duration": 0,
    "start_time": "2022-04-22T16:20:36.878Z"
   },
   {
    "duration": 0,
    "start_time": "2022-04-22T16:20:36.880Z"
   },
   {
    "duration": 0,
    "start_time": "2022-04-22T16:20:36.882Z"
   },
   {
    "duration": 0,
    "start_time": "2022-04-22T16:20:36.883Z"
   },
   {
    "duration": 0,
    "start_time": "2022-04-22T16:20:36.884Z"
   },
   {
    "duration": 0,
    "start_time": "2022-04-22T16:20:36.885Z"
   },
   {
    "duration": 0,
    "start_time": "2022-04-22T16:20:36.886Z"
   },
   {
    "duration": 0,
    "start_time": "2022-04-22T16:20:36.887Z"
   },
   {
    "duration": 0,
    "start_time": "2022-04-22T16:20:36.889Z"
   },
   {
    "duration": 0,
    "start_time": "2022-04-22T16:20:36.891Z"
   },
   {
    "duration": 0,
    "start_time": "2022-04-22T16:20:36.892Z"
   },
   {
    "duration": 0,
    "start_time": "2022-04-22T16:20:36.893Z"
   },
   {
    "duration": 0,
    "start_time": "2022-04-22T16:20:36.894Z"
   },
   {
    "duration": 0,
    "start_time": "2022-04-22T16:20:36.895Z"
   },
   {
    "duration": 0,
    "start_time": "2022-04-22T16:20:36.896Z"
   },
   {
    "duration": 0,
    "start_time": "2022-04-22T16:20:36.897Z"
   },
   {
    "duration": 0,
    "start_time": "2022-04-22T16:20:36.898Z"
   },
   {
    "duration": 0,
    "start_time": "2022-04-22T16:20:36.899Z"
   },
   {
    "duration": 0,
    "start_time": "2022-04-22T16:20:36.900Z"
   },
   {
    "duration": 0,
    "start_time": "2022-04-22T16:20:36.901Z"
   },
   {
    "duration": 0,
    "start_time": "2022-04-22T16:20:36.902Z"
   },
   {
    "duration": 0,
    "start_time": "2022-04-22T16:20:36.903Z"
   },
   {
    "duration": 0,
    "start_time": "2022-04-22T16:20:36.904Z"
   },
   {
    "duration": 0,
    "start_time": "2022-04-22T16:20:36.905Z"
   },
   {
    "duration": 0,
    "start_time": "2022-04-22T16:20:36.906Z"
   },
   {
    "duration": 0,
    "start_time": "2022-04-22T16:20:36.907Z"
   },
   {
    "duration": 0,
    "start_time": "2022-04-22T16:20:36.908Z"
   },
   {
    "duration": 0,
    "start_time": "2022-04-22T16:20:36.909Z"
   },
   {
    "duration": 0,
    "start_time": "2022-04-22T16:20:36.911Z"
   },
   {
    "duration": 0,
    "start_time": "2022-04-22T16:20:36.911Z"
   },
   {
    "duration": 0,
    "start_time": "2022-04-22T16:20:36.913Z"
   },
   {
    "duration": 0,
    "start_time": "2022-04-22T16:20:36.914Z"
   },
   {
    "duration": 0,
    "start_time": "2022-04-22T16:20:36.915Z"
   },
   {
    "duration": 0,
    "start_time": "2022-04-22T16:20:36.977Z"
   },
   {
    "duration": 0,
    "start_time": "2022-04-22T16:20:36.985Z"
   },
   {
    "duration": 0,
    "start_time": "2022-04-22T16:20:36.986Z"
   },
   {
    "duration": 0,
    "start_time": "2022-04-22T16:20:36.987Z"
   },
   {
    "duration": 0,
    "start_time": "2022-04-22T16:20:36.988Z"
   },
   {
    "duration": 0,
    "start_time": "2022-04-22T16:20:36.989Z"
   },
   {
    "duration": 0,
    "start_time": "2022-04-22T16:20:36.991Z"
   },
   {
    "duration": 0,
    "start_time": "2022-04-22T16:20:36.992Z"
   },
   {
    "duration": 0,
    "start_time": "2022-04-22T16:20:36.993Z"
   },
   {
    "duration": 0,
    "start_time": "2022-04-22T16:20:36.994Z"
   },
   {
    "duration": 0,
    "start_time": "2022-04-22T16:20:36.995Z"
   },
   {
    "duration": 0,
    "start_time": "2022-04-22T16:20:36.996Z"
   },
   {
    "duration": 0,
    "start_time": "2022-04-22T16:20:36.997Z"
   },
   {
    "duration": 0,
    "start_time": "2022-04-22T16:20:36.998Z"
   },
   {
    "duration": 0,
    "start_time": "2022-04-22T16:20:36.999Z"
   },
   {
    "duration": 0,
    "start_time": "2022-04-22T16:20:37.000Z"
   },
   {
    "duration": 0,
    "start_time": "2022-04-22T16:20:37.001Z"
   },
   {
    "duration": 0,
    "start_time": "2022-04-22T16:20:37.002Z"
   },
   {
    "duration": 0,
    "start_time": "2022-04-22T16:20:37.003Z"
   },
   {
    "duration": 0,
    "start_time": "2022-04-22T16:20:37.004Z"
   },
   {
    "duration": 7749,
    "start_time": "2022-04-22T16:27:18.845Z"
   },
   {
    "duration": 82619,
    "start_time": "2022-04-22T16:27:47.403Z"
   },
   {
    "duration": 43467,
    "start_time": "2022-04-22T16:29:11.245Z"
   },
   {
    "duration": 1152,
    "start_time": "2022-04-22T16:30:36.946Z"
   },
   {
    "duration": 3,
    "start_time": "2022-04-22T16:30:38.100Z"
   },
   {
    "duration": 6,
    "start_time": "2022-04-22T16:30:38.105Z"
   },
   {
    "duration": 1250,
    "start_time": "2022-04-22T16:30:38.113Z"
   },
   {
    "duration": 3,
    "start_time": "2022-04-22T16:30:39.366Z"
   },
   {
    "duration": 21,
    "start_time": "2022-04-22T16:30:39.372Z"
   },
   {
    "duration": 28,
    "start_time": "2022-04-22T16:30:39.394Z"
   },
   {
    "duration": 16,
    "start_time": "2022-04-22T16:30:39.424Z"
   },
   {
    "duration": 51,
    "start_time": "2022-04-22T16:30:39.441Z"
   },
   {
    "duration": 18,
    "start_time": "2022-04-22T16:30:39.494Z"
   },
   {
    "duration": 11,
    "start_time": "2022-04-22T16:30:39.514Z"
   },
   {
    "duration": 15,
    "start_time": "2022-04-22T16:30:39.526Z"
   },
   {
    "duration": 8,
    "start_time": "2022-04-22T16:30:39.542Z"
   },
   {
    "duration": 26,
    "start_time": "2022-04-22T16:30:39.553Z"
   },
   {
    "duration": 24,
    "start_time": "2022-04-22T16:30:39.582Z"
   },
   {
    "duration": 14,
    "start_time": "2022-04-22T16:30:39.607Z"
   },
   {
    "duration": 34,
    "start_time": "2022-04-22T16:30:39.623Z"
   },
   {
    "duration": 10,
    "start_time": "2022-04-22T16:30:39.658Z"
   },
   {
    "duration": 25,
    "start_time": "2022-04-22T16:30:39.671Z"
   },
   {
    "duration": 14,
    "start_time": "2022-04-22T16:30:39.698Z"
   },
   {
    "duration": 13,
    "start_time": "2022-04-22T16:30:39.714Z"
   },
   {
    "duration": 14,
    "start_time": "2022-04-22T16:30:39.729Z"
   },
   {
    "duration": 34,
    "start_time": "2022-04-22T16:30:39.745Z"
   },
   {
    "duration": 319,
    "start_time": "2022-04-22T16:30:39.781Z"
   },
   {
    "duration": 15,
    "start_time": "2022-04-22T16:30:40.101Z"
   },
   {
    "duration": 15,
    "start_time": "2022-04-22T16:30:40.118Z"
   },
   {
    "duration": 233,
    "start_time": "2022-04-22T16:30:40.135Z"
   },
   {
    "duration": 295,
    "start_time": "2022-04-22T16:30:40.370Z"
   },
   {
    "duration": 312,
    "start_time": "2022-04-22T16:30:40.666Z"
   },
   {
    "duration": 19,
    "start_time": "2022-04-22T16:30:40.984Z"
   },
   {
    "duration": 242,
    "start_time": "2022-04-22T16:30:41.004Z"
   },
   {
    "duration": 4,
    "start_time": "2022-04-22T16:30:41.248Z"
   },
   {
    "duration": 170,
    "start_time": "2022-04-22T16:30:41.254Z"
   },
   {
    "duration": 169,
    "start_time": "2022-04-22T16:30:41.426Z"
   },
   {
    "duration": 171,
    "start_time": "2022-04-22T16:30:41.597Z"
   },
   {
    "duration": 11,
    "start_time": "2022-04-22T16:30:41.770Z"
   },
   {
    "duration": 153,
    "start_time": "2022-04-22T16:30:41.783Z"
   },
   {
    "duration": 174,
    "start_time": "2022-04-22T16:30:41.938Z"
   },
   {
    "duration": 4,
    "start_time": "2022-04-22T16:30:42.114Z"
   },
   {
    "duration": 16,
    "start_time": "2022-04-22T16:30:42.121Z"
   },
   {
    "duration": 13,
    "start_time": "2022-04-22T16:30:42.143Z"
   },
   {
    "duration": 174,
    "start_time": "2022-04-22T16:30:42.173Z"
   },
   {
    "duration": 0,
    "start_time": "2022-04-22T16:30:42.349Z"
   },
   {
    "duration": 0,
    "start_time": "2022-04-22T16:30:42.350Z"
   },
   {
    "duration": 0,
    "start_time": "2022-04-22T16:30:42.352Z"
   },
   {
    "duration": 0,
    "start_time": "2022-04-22T16:30:42.353Z"
   },
   {
    "duration": 0,
    "start_time": "2022-04-22T16:30:42.355Z"
   },
   {
    "duration": 0,
    "start_time": "2022-04-22T16:30:42.356Z"
   },
   {
    "duration": 0,
    "start_time": "2022-04-22T16:30:42.373Z"
   },
   {
    "duration": 0,
    "start_time": "2022-04-22T16:30:42.374Z"
   },
   {
    "duration": 0,
    "start_time": "2022-04-22T16:30:42.376Z"
   },
   {
    "duration": 0,
    "start_time": "2022-04-22T16:30:42.378Z"
   },
   {
    "duration": 0,
    "start_time": "2022-04-22T16:30:42.379Z"
   },
   {
    "duration": 0,
    "start_time": "2022-04-22T16:30:42.381Z"
   },
   {
    "duration": 0,
    "start_time": "2022-04-22T16:30:42.382Z"
   },
   {
    "duration": 0,
    "start_time": "2022-04-22T16:30:42.384Z"
   },
   {
    "duration": 0,
    "start_time": "2022-04-22T16:30:42.385Z"
   },
   {
    "duration": 0,
    "start_time": "2022-04-22T16:30:42.387Z"
   },
   {
    "duration": 0,
    "start_time": "2022-04-22T16:30:42.389Z"
   },
   {
    "duration": 0,
    "start_time": "2022-04-22T16:30:42.390Z"
   },
   {
    "duration": 0,
    "start_time": "2022-04-22T16:30:42.391Z"
   },
   {
    "duration": 0,
    "start_time": "2022-04-22T16:30:42.393Z"
   },
   {
    "duration": 0,
    "start_time": "2022-04-22T16:30:42.395Z"
   },
   {
    "duration": 0,
    "start_time": "2022-04-22T16:30:42.396Z"
   },
   {
    "duration": 0,
    "start_time": "2022-04-22T16:30:42.398Z"
   },
   {
    "duration": 0,
    "start_time": "2022-04-22T16:30:42.399Z"
   },
   {
    "duration": 0,
    "start_time": "2022-04-22T16:30:42.404Z"
   },
   {
    "duration": 0,
    "start_time": "2022-04-22T16:30:42.405Z"
   },
   {
    "duration": 0,
    "start_time": "2022-04-22T16:30:42.406Z"
   },
   {
    "duration": 0,
    "start_time": "2022-04-22T16:30:42.407Z"
   },
   {
    "duration": 0,
    "start_time": "2022-04-22T16:30:42.408Z"
   },
   {
    "duration": 12,
    "start_time": "2022-04-22T16:31:52.590Z"
   },
   {
    "duration": 11,
    "start_time": "2022-04-22T16:31:53.486Z"
   },
   {
    "duration": 12,
    "start_time": "2022-04-22T16:31:54.292Z"
   },
   {
    "duration": 6,
    "start_time": "2022-04-22T16:31:55.055Z"
   },
   {
    "duration": 5,
    "start_time": "2022-04-22T16:31:55.260Z"
   },
   {
    "duration": 11,
    "start_time": "2022-04-22T16:31:55.572Z"
   },
   {
    "duration": 166,
    "start_time": "2022-04-22T16:31:56.139Z"
   },
   {
    "duration": 6,
    "start_time": "2022-04-22T16:31:56.326Z"
   },
   {
    "duration": 5,
    "start_time": "2022-04-22T16:31:56.504Z"
   },
   {
    "duration": 8,
    "start_time": "2022-04-22T16:31:56.654Z"
   },
   {
    "duration": 5,
    "start_time": "2022-04-22T16:31:57.049Z"
   },
   {
    "duration": 13,
    "start_time": "2022-04-22T16:31:57.627Z"
   },
   {
    "duration": 148,
    "start_time": "2022-04-22T16:31:57.786Z"
   },
   {
    "duration": 6,
    "start_time": "2022-04-22T16:31:58.145Z"
   },
   {
    "duration": 5,
    "start_time": "2022-04-22T16:31:58.333Z"
   },
   {
    "duration": 7,
    "start_time": "2022-04-22T16:31:58.529Z"
   },
   {
    "duration": 35,
    "start_time": "2022-04-22T16:31:59.087Z"
   },
   {
    "duration": 4,
    "start_time": "2022-04-22T16:31:59.465Z"
   },
   {
    "duration": 4,
    "start_time": "2022-04-22T16:31:59.639Z"
   },
   {
    "duration": 7,
    "start_time": "2022-04-22T16:31:59.835Z"
   },
   {
    "duration": 164,
    "start_time": "2022-04-22T16:32:01.102Z"
   },
   {
    "duration": 12,
    "start_time": "2022-04-22T16:32:01.268Z"
   },
   {
    "duration": 14,
    "start_time": "2022-04-22T16:32:01.282Z"
   },
   {
    "duration": 10,
    "start_time": "2022-04-22T16:32:01.298Z"
   },
   {
    "duration": 22,
    "start_time": "2022-04-22T16:32:01.469Z"
   },
   {
    "duration": 160,
    "start_time": "2022-04-22T16:32:01.812Z"
   },
   {
    "duration": 7,
    "start_time": "2022-04-22T16:32:02.015Z"
   },
   {
    "duration": 7,
    "start_time": "2022-04-22T16:32:02.174Z"
   },
   {
    "duration": 6,
    "start_time": "2022-04-22T16:32:02.355Z"
   },
   {
    "duration": 104,
    "start_time": "2022-04-23T06:31:42.389Z"
   },
   {
    "duration": 1768,
    "start_time": "2022-04-23T06:31:56.835Z"
   },
   {
    "duration": 5,
    "start_time": "2022-04-23T06:31:58.606Z"
   },
   {
    "duration": 19,
    "start_time": "2022-04-23T06:31:58.613Z"
   },
   {
    "duration": 124,
    "start_time": "2022-04-23T06:31:58.635Z"
   },
   {
    "duration": 0,
    "start_time": "2022-04-23T06:31:58.834Z"
   },
   {
    "duration": 0,
    "start_time": "2022-04-23T06:31:58.836Z"
   },
   {
    "duration": 0,
    "start_time": "2022-04-23T06:31:58.837Z"
   },
   {
    "duration": 0,
    "start_time": "2022-04-23T06:31:58.839Z"
   },
   {
    "duration": 0,
    "start_time": "2022-04-23T06:31:58.852Z"
   },
   {
    "duration": 0,
    "start_time": "2022-04-23T06:31:58.853Z"
   },
   {
    "duration": 0,
    "start_time": "2022-04-23T06:31:58.855Z"
   },
   {
    "duration": 0,
    "start_time": "2022-04-23T06:31:58.857Z"
   },
   {
    "duration": 0,
    "start_time": "2022-04-23T06:31:58.859Z"
   },
   {
    "duration": 0,
    "start_time": "2022-04-23T06:31:58.860Z"
   },
   {
    "duration": 0,
    "start_time": "2022-04-23T06:31:58.862Z"
   },
   {
    "duration": 0,
    "start_time": "2022-04-23T06:31:58.864Z"
   },
   {
    "duration": 0,
    "start_time": "2022-04-23T06:31:58.866Z"
   },
   {
    "duration": 0,
    "start_time": "2022-04-23T06:31:58.868Z"
   },
   {
    "duration": 0,
    "start_time": "2022-04-23T06:31:58.870Z"
   },
   {
    "duration": 0,
    "start_time": "2022-04-23T06:31:58.872Z"
   },
   {
    "duration": 0,
    "start_time": "2022-04-23T06:31:58.874Z"
   },
   {
    "duration": 0,
    "start_time": "2022-04-23T06:31:58.875Z"
   },
   {
    "duration": 0,
    "start_time": "2022-04-23T06:31:58.877Z"
   },
   {
    "duration": 0,
    "start_time": "2022-04-23T06:31:58.880Z"
   },
   {
    "duration": 0,
    "start_time": "2022-04-23T06:31:58.882Z"
   },
   {
    "duration": 0,
    "start_time": "2022-04-23T06:31:58.884Z"
   },
   {
    "duration": 0,
    "start_time": "2022-04-23T06:31:58.886Z"
   },
   {
    "duration": 0,
    "start_time": "2022-04-23T06:31:58.888Z"
   },
   {
    "duration": 0,
    "start_time": "2022-04-23T06:31:58.890Z"
   },
   {
    "duration": 0,
    "start_time": "2022-04-23T06:31:58.951Z"
   },
   {
    "duration": 0,
    "start_time": "2022-04-23T06:31:58.953Z"
   },
   {
    "duration": 0,
    "start_time": "2022-04-23T06:31:58.955Z"
   },
   {
    "duration": 0,
    "start_time": "2022-04-23T06:31:58.957Z"
   },
   {
    "duration": 0,
    "start_time": "2022-04-23T06:31:58.959Z"
   },
   {
    "duration": 0,
    "start_time": "2022-04-23T06:31:58.960Z"
   },
   {
    "duration": 0,
    "start_time": "2022-04-23T06:31:58.962Z"
   },
   {
    "duration": 0,
    "start_time": "2022-04-23T06:31:58.963Z"
   },
   {
    "duration": 0,
    "start_time": "2022-04-23T06:31:58.965Z"
   },
   {
    "duration": 1,
    "start_time": "2022-04-23T06:31:58.966Z"
   },
   {
    "duration": 0,
    "start_time": "2022-04-23T06:31:58.968Z"
   },
   {
    "duration": 0,
    "start_time": "2022-04-23T06:31:58.970Z"
   },
   {
    "duration": 0,
    "start_time": "2022-04-23T06:31:58.972Z"
   },
   {
    "duration": 0,
    "start_time": "2022-04-23T06:31:58.973Z"
   },
   {
    "duration": 0,
    "start_time": "2022-04-23T06:31:58.975Z"
   },
   {
    "duration": 0,
    "start_time": "2022-04-23T06:31:58.976Z"
   },
   {
    "duration": 0,
    "start_time": "2022-04-23T06:31:58.978Z"
   },
   {
    "duration": 0,
    "start_time": "2022-04-23T06:31:58.980Z"
   },
   {
    "duration": 0,
    "start_time": "2022-04-23T06:31:58.981Z"
   },
   {
    "duration": 0,
    "start_time": "2022-04-23T06:31:58.983Z"
   },
   {
    "duration": 0,
    "start_time": "2022-04-23T06:31:58.985Z"
   },
   {
    "duration": 0,
    "start_time": "2022-04-23T06:31:58.986Z"
   },
   {
    "duration": 0,
    "start_time": "2022-04-23T06:31:58.988Z"
   },
   {
    "duration": 0,
    "start_time": "2022-04-23T06:31:58.989Z"
   },
   {
    "duration": 0,
    "start_time": "2022-04-23T06:31:59.052Z"
   },
   {
    "duration": 0,
    "start_time": "2022-04-23T06:31:59.054Z"
   },
   {
    "duration": 0,
    "start_time": "2022-04-23T06:31:59.056Z"
   },
   {
    "duration": 0,
    "start_time": "2022-04-23T06:31:59.057Z"
   },
   {
    "duration": 0,
    "start_time": "2022-04-23T06:31:59.059Z"
   },
   {
    "duration": 0,
    "start_time": "2022-04-23T06:31:59.060Z"
   },
   {
    "duration": 0,
    "start_time": "2022-04-23T06:31:59.061Z"
   },
   {
    "duration": 0,
    "start_time": "2022-04-23T06:31:59.062Z"
   },
   {
    "duration": 0,
    "start_time": "2022-04-23T06:31:59.064Z"
   },
   {
    "duration": 0,
    "start_time": "2022-04-23T06:31:59.065Z"
   },
   {
    "duration": 0,
    "start_time": "2022-04-23T06:31:59.066Z"
   },
   {
    "duration": 0,
    "start_time": "2022-04-23T06:31:59.068Z"
   },
   {
    "duration": 0,
    "start_time": "2022-04-23T06:31:59.070Z"
   },
   {
    "duration": 0,
    "start_time": "2022-04-23T06:31:59.071Z"
   },
   {
    "duration": 0,
    "start_time": "2022-04-23T06:31:59.073Z"
   },
   {
    "duration": 0,
    "start_time": "2022-04-23T06:31:59.075Z"
   },
   {
    "duration": 0,
    "start_time": "2022-04-23T06:31:59.077Z"
   },
   {
    "duration": 0,
    "start_time": "2022-04-23T06:31:59.079Z"
   },
   {
    "duration": 0,
    "start_time": "2022-04-23T06:31:59.081Z"
   },
   {
    "duration": 17,
    "start_time": "2022-04-23T06:35:14.231Z"
   },
   {
    "duration": 6,
    "start_time": "2022-04-23T06:35:25.018Z"
   },
   {
    "duration": 7,
    "start_time": "2022-04-23T06:35:25.027Z"
   },
   {
    "duration": 6,
    "start_time": "2022-04-23T06:35:25.037Z"
   },
   {
    "duration": 23,
    "start_time": "2022-04-23T06:35:25.047Z"
   },
   {
    "duration": 0,
    "start_time": "2022-04-23T06:35:25.073Z"
   },
   {
    "duration": 0,
    "start_time": "2022-04-23T06:35:25.074Z"
   },
   {
    "duration": 0,
    "start_time": "2022-04-23T06:35:25.076Z"
   },
   {
    "duration": 0,
    "start_time": "2022-04-23T06:35:25.078Z"
   },
   {
    "duration": 0,
    "start_time": "2022-04-23T06:35:25.079Z"
   },
   {
    "duration": 0,
    "start_time": "2022-04-23T06:35:25.080Z"
   },
   {
    "duration": 0,
    "start_time": "2022-04-23T06:35:25.082Z"
   },
   {
    "duration": 0,
    "start_time": "2022-04-23T06:35:25.083Z"
   },
   {
    "duration": 0,
    "start_time": "2022-04-23T06:35:25.085Z"
   },
   {
    "duration": 0,
    "start_time": "2022-04-23T06:35:25.086Z"
   },
   {
    "duration": 1,
    "start_time": "2022-04-23T06:35:25.087Z"
   },
   {
    "duration": 0,
    "start_time": "2022-04-23T06:35:25.090Z"
   },
   {
    "duration": 0,
    "start_time": "2022-04-23T06:35:25.091Z"
   },
   {
    "duration": 0,
    "start_time": "2022-04-23T06:35:25.092Z"
   },
   {
    "duration": 0,
    "start_time": "2022-04-23T06:35:25.094Z"
   },
   {
    "duration": 0,
    "start_time": "2022-04-23T06:35:25.095Z"
   },
   {
    "duration": 0,
    "start_time": "2022-04-23T06:35:25.097Z"
   },
   {
    "duration": 0,
    "start_time": "2022-04-23T06:35:25.099Z"
   },
   {
    "duration": 0,
    "start_time": "2022-04-23T06:35:25.152Z"
   },
   {
    "duration": 0,
    "start_time": "2022-04-23T06:35:25.153Z"
   },
   {
    "duration": 0,
    "start_time": "2022-04-23T06:35:25.155Z"
   },
   {
    "duration": 16,
    "start_time": "2022-04-23T06:35:25.160Z"
   },
   {
    "duration": 0,
    "start_time": "2022-04-23T06:35:25.179Z"
   },
   {
    "duration": 0,
    "start_time": "2022-04-23T06:35:25.180Z"
   },
   {
    "duration": 0,
    "start_time": "2022-04-23T06:35:25.182Z"
   },
   {
    "duration": 0,
    "start_time": "2022-04-23T06:35:25.184Z"
   },
   {
    "duration": 0,
    "start_time": "2022-04-23T06:35:25.185Z"
   },
   {
    "duration": 0,
    "start_time": "2022-04-23T06:35:25.187Z"
   },
   {
    "duration": 0,
    "start_time": "2022-04-23T06:35:25.188Z"
   },
   {
    "duration": 68,
    "start_time": "2022-04-23T06:35:25.193Z"
   },
   {
    "duration": 0,
    "start_time": "2022-04-23T06:35:25.264Z"
   },
   {
    "duration": 0,
    "start_time": "2022-04-23T06:35:25.266Z"
   },
   {
    "duration": 0,
    "start_time": "2022-04-23T06:35:25.267Z"
   },
   {
    "duration": 0,
    "start_time": "2022-04-23T06:35:25.269Z"
   },
   {
    "duration": 0,
    "start_time": "2022-04-23T06:35:25.270Z"
   },
   {
    "duration": 0,
    "start_time": "2022-04-23T06:35:25.272Z"
   },
   {
    "duration": 0,
    "start_time": "2022-04-23T06:35:25.273Z"
   },
   {
    "duration": 0,
    "start_time": "2022-04-23T06:35:25.275Z"
   },
   {
    "duration": 0,
    "start_time": "2022-04-23T06:35:25.276Z"
   },
   {
    "duration": 0,
    "start_time": "2022-04-23T06:35:25.277Z"
   },
   {
    "duration": 0,
    "start_time": "2022-04-23T06:35:25.279Z"
   },
   {
    "duration": 0,
    "start_time": "2022-04-23T06:35:25.280Z"
   },
   {
    "duration": 0,
    "start_time": "2022-04-23T06:35:25.282Z"
   },
   {
    "duration": 0,
    "start_time": "2022-04-23T06:35:25.283Z"
   },
   {
    "duration": 0,
    "start_time": "2022-04-23T06:35:25.285Z"
   },
   {
    "duration": 0,
    "start_time": "2022-04-23T06:35:25.286Z"
   },
   {
    "duration": 0,
    "start_time": "2022-04-23T06:35:25.287Z"
   },
   {
    "duration": 0,
    "start_time": "2022-04-23T06:35:25.352Z"
   },
   {
    "duration": 0,
    "start_time": "2022-04-23T06:35:25.353Z"
   },
   {
    "duration": 0,
    "start_time": "2022-04-23T06:35:25.355Z"
   },
   {
    "duration": 0,
    "start_time": "2022-04-23T06:35:25.357Z"
   },
   {
    "duration": 0,
    "start_time": "2022-04-23T06:35:25.358Z"
   },
   {
    "duration": 0,
    "start_time": "2022-04-23T06:35:25.359Z"
   },
   {
    "duration": 0,
    "start_time": "2022-04-23T06:35:25.361Z"
   },
   {
    "duration": 0,
    "start_time": "2022-04-23T06:35:25.363Z"
   },
   {
    "duration": 0,
    "start_time": "2022-04-23T06:35:25.364Z"
   },
   {
    "duration": 0,
    "start_time": "2022-04-23T06:35:25.365Z"
   },
   {
    "duration": 0,
    "start_time": "2022-04-23T06:35:25.367Z"
   },
   {
    "duration": 0,
    "start_time": "2022-04-23T06:35:25.368Z"
   },
   {
    "duration": 0,
    "start_time": "2022-04-23T06:35:25.370Z"
   },
   {
    "duration": 0,
    "start_time": "2022-04-23T06:35:25.372Z"
   },
   {
    "duration": 0,
    "start_time": "2022-04-23T06:35:25.373Z"
   },
   {
    "duration": 0,
    "start_time": "2022-04-23T06:35:25.374Z"
   },
   {
    "duration": 0,
    "start_time": "2022-04-23T06:35:25.376Z"
   },
   {
    "duration": 0,
    "start_time": "2022-04-23T06:35:25.377Z"
   },
   {
    "duration": 0,
    "start_time": "2022-04-23T06:35:25.379Z"
   },
   {
    "duration": 0,
    "start_time": "2022-04-23T06:35:25.381Z"
   },
   {
    "duration": 0,
    "start_time": "2022-04-23T06:35:25.382Z"
   },
   {
    "duration": 86,
    "start_time": "2022-04-23T06:37:45.955Z"
   },
   {
    "duration": 4,
    "start_time": "2022-04-23T06:37:51.450Z"
   },
   {
    "duration": 12,
    "start_time": "2022-04-23T06:37:51.457Z"
   },
   {
    "duration": 5,
    "start_time": "2022-04-23T06:37:51.472Z"
   },
   {
    "duration": 33,
    "start_time": "2022-04-23T06:37:51.481Z"
   },
   {
    "duration": 55,
    "start_time": "2022-04-23T06:37:51.516Z"
   },
   {
    "duration": 44,
    "start_time": "2022-04-23T06:37:51.574Z"
   },
   {
    "duration": 27,
    "start_time": "2022-04-23T06:37:51.652Z"
   },
   {
    "duration": 12,
    "start_time": "2022-04-23T06:37:51.681Z"
   },
   {
    "duration": 18,
    "start_time": "2022-04-23T06:37:51.696Z"
   },
   {
    "duration": 11,
    "start_time": "2022-04-23T06:37:51.752Z"
   },
   {
    "duration": 7,
    "start_time": "2022-04-23T06:37:51.765Z"
   },
   {
    "duration": 16,
    "start_time": "2022-04-23T06:37:51.774Z"
   },
   {
    "duration": 8,
    "start_time": "2022-04-23T06:37:51.792Z"
   },
   {
    "duration": 67,
    "start_time": "2022-04-23T06:37:51.802Z"
   },
   {
    "duration": 12,
    "start_time": "2022-04-23T06:37:51.871Z"
   },
   {
    "duration": 15,
    "start_time": "2022-04-23T06:37:51.886Z"
   },
   {
    "duration": 50,
    "start_time": "2022-04-23T06:37:51.903Z"
   },
   {
    "duration": 18,
    "start_time": "2022-04-23T06:37:51.955Z"
   },
   {
    "duration": 22,
    "start_time": "2022-04-23T06:37:51.975Z"
   },
   {
    "duration": 23,
    "start_time": "2022-04-23T06:37:51.999Z"
   },
   {
    "duration": 485,
    "start_time": "2022-04-23T06:37:52.053Z"
   },
   {
    "duration": 29,
    "start_time": "2022-04-23T06:37:52.540Z"
   },
   {
    "duration": 21,
    "start_time": "2022-04-23T06:37:52.571Z"
   },
   {
    "duration": 347,
    "start_time": "2022-04-23T06:37:52.598Z"
   },
   {
    "duration": 478,
    "start_time": "2022-04-23T06:37:52.951Z"
   },
   {
    "duration": 629,
    "start_time": "2022-04-23T06:37:53.432Z"
   },
   {
    "duration": 30,
    "start_time": "2022-04-23T06:37:54.064Z"
   },
   {
    "duration": 473,
    "start_time": "2022-04-23T06:37:54.096Z"
   },
   {
    "duration": 6,
    "start_time": "2022-04-23T06:37:54.571Z"
   },
   {
    "duration": 276,
    "start_time": "2022-04-23T06:37:54.579Z"
   },
   {
    "duration": 262,
    "start_time": "2022-04-23T06:37:54.857Z"
   },
   {
    "duration": 351,
    "start_time": "2022-04-23T06:37:55.121Z"
   },
   {
    "duration": 6,
    "start_time": "2022-04-23T06:37:55.474Z"
   },
   {
    "duration": 271,
    "start_time": "2022-04-23T06:37:55.483Z"
   },
   {
    "duration": 264,
    "start_time": "2022-04-23T06:37:55.757Z"
   },
   {
    "duration": 5,
    "start_time": "2022-04-23T06:37:56.023Z"
   },
   {
    "duration": 28,
    "start_time": "2022-04-23T06:37:56.030Z"
   },
   {
    "duration": 10,
    "start_time": "2022-04-23T06:37:56.061Z"
   },
   {
    "duration": 48,
    "start_time": "2022-04-23T06:37:56.073Z"
   },
   {
    "duration": 378,
    "start_time": "2022-04-23T06:37:56.123Z"
   },
   {
    "duration": 12,
    "start_time": "2022-04-23T06:37:56.503Z"
   },
   {
    "duration": 344,
    "start_time": "2022-04-23T06:37:56.517Z"
   },
   {
    "duration": 433,
    "start_time": "2022-04-23T06:37:56.863Z"
   },
   {
    "duration": 9,
    "start_time": "2022-04-23T06:37:57.299Z"
   },
   {
    "duration": 7,
    "start_time": "2022-04-23T06:37:57.311Z"
   },
   {
    "duration": 10,
    "start_time": "2022-04-23T06:37:57.351Z"
   },
   {
    "duration": 282,
    "start_time": "2022-04-23T06:37:57.364Z"
   },
   {
    "duration": 9,
    "start_time": "2022-04-23T06:37:57.651Z"
   },
   {
    "duration": 9,
    "start_time": "2022-04-23T06:37:57.663Z"
   },
   {
    "duration": 12,
    "start_time": "2022-04-23T06:37:57.674Z"
   },
   {
    "duration": 9,
    "start_time": "2022-04-23T06:37:57.688Z"
   },
   {
    "duration": 61,
    "start_time": "2022-04-23T06:37:57.699Z"
   },
   {
    "duration": 263,
    "start_time": "2022-04-23T06:37:57.762Z"
   },
   {
    "duration": 8,
    "start_time": "2022-04-23T06:37:58.027Z"
   },
   {
    "duration": 7,
    "start_time": "2022-04-23T06:37:58.051Z"
   },
   {
    "duration": 9,
    "start_time": "2022-04-23T06:37:58.060Z"
   },
   {
    "duration": 82,
    "start_time": "2022-04-23T06:37:58.071Z"
   },
   {
    "duration": 6,
    "start_time": "2022-04-23T06:37:58.156Z"
   },
   {
    "duration": 7,
    "start_time": "2022-04-23T06:37:58.165Z"
   },
   {
    "duration": 10,
    "start_time": "2022-04-23T06:37:58.175Z"
   },
   {
    "duration": 294,
    "start_time": "2022-04-23T06:37:58.187Z"
   },
   {
    "duration": 9,
    "start_time": "2022-04-23T06:37:58.483Z"
   },
   {
    "duration": 6,
    "start_time": "2022-04-23T06:37:58.494Z"
   },
   {
    "duration": 11,
    "start_time": "2022-04-23T06:37:58.503Z"
   },
   {
    "duration": 54,
    "start_time": "2022-04-23T06:37:58.516Z"
   },
   {
    "duration": 285,
    "start_time": "2022-04-23T06:37:58.572Z"
   },
   {
    "duration": 9,
    "start_time": "2022-04-23T06:37:58.859Z"
   },
   {
    "duration": 8,
    "start_time": "2022-04-23T06:37:58.871Z"
   },
   {
    "duration": 8,
    "start_time": "2022-04-23T06:37:58.888Z"
   },
   {
    "duration": 19,
    "start_time": "2022-04-23T06:52:56.960Z"
   },
   {
    "duration": 28,
    "start_time": "2022-04-23T06:54:54.802Z"
   },
   {
    "duration": 48,
    "start_time": "2022-04-23T06:55:36.464Z"
   },
   {
    "duration": 346,
    "start_time": "2022-04-23T06:56:57.386Z"
   },
   {
    "duration": 503,
    "start_time": "2022-04-23T06:59:33.981Z"
   },
   {
    "duration": 6,
    "start_time": "2022-04-23T07:56:24.018Z"
   },
   {
    "duration": 9,
    "start_time": "2022-04-23T07:56:57.740Z"
   },
   {
    "duration": 6,
    "start_time": "2022-04-23T07:57:09.838Z"
   },
   {
    "duration": 15,
    "start_time": "2022-04-23T07:59:09.327Z"
   },
   {
    "duration": 7,
    "start_time": "2022-04-23T08:00:55.036Z"
   },
   {
    "duration": 9,
    "start_time": "2022-04-23T08:02:45.950Z"
   },
   {
    "duration": 18,
    "start_time": "2022-04-23T08:33:20.479Z"
   },
   {
    "duration": 26,
    "start_time": "2022-04-23T08:33:50.084Z"
   },
   {
    "duration": 18,
    "start_time": "2022-04-23T08:34:07.865Z"
   },
   {
    "duration": 19,
    "start_time": "2022-04-23T08:34:33.981Z"
   },
   {
    "duration": 554,
    "start_time": "2022-04-23T08:41:29.153Z"
   },
   {
    "duration": 1744,
    "start_time": "2022-04-23T09:24:38.494Z"
   },
   {
    "duration": 10,
    "start_time": "2022-04-23T09:24:40.242Z"
   },
   {
    "duration": 9,
    "start_time": "2022-04-23T09:24:40.255Z"
   },
   {
    "duration": 211,
    "start_time": "2022-04-23T09:24:40.268Z"
   },
   {
    "duration": 4,
    "start_time": "2022-04-23T09:24:40.482Z"
   },
   {
    "duration": 19,
    "start_time": "2022-04-23T09:24:40.488Z"
   },
   {
    "duration": 29,
    "start_time": "2022-04-23T09:24:40.509Z"
   },
   {
    "duration": 31,
    "start_time": "2022-04-23T09:24:40.541Z"
   },
   {
    "duration": 42,
    "start_time": "2022-04-23T09:24:40.575Z"
   },
   {
    "duration": 49,
    "start_time": "2022-04-23T09:24:40.622Z"
   },
   {
    "duration": 15,
    "start_time": "2022-04-23T09:24:40.674Z"
   },
   {
    "duration": 27,
    "start_time": "2022-04-23T09:24:40.692Z"
   },
   {
    "duration": 41,
    "start_time": "2022-04-23T09:24:40.722Z"
   },
   {
    "duration": 8,
    "start_time": "2022-04-23T09:24:40.766Z"
   },
   {
    "duration": 16,
    "start_time": "2022-04-23T09:24:40.777Z"
   },
   {
    "duration": 7,
    "start_time": "2022-04-23T09:24:40.795Z"
   },
   {
    "duration": 91,
    "start_time": "2022-04-23T09:24:40.804Z"
   },
   {
    "duration": 18,
    "start_time": "2022-04-23T09:24:40.898Z"
   },
   {
    "duration": 40,
    "start_time": "2022-04-23T09:24:40.919Z"
   },
   {
    "duration": 44,
    "start_time": "2022-04-23T09:24:40.961Z"
   },
   {
    "duration": 26,
    "start_time": "2022-04-23T09:24:41.009Z"
   },
   {
    "duration": 40,
    "start_time": "2022-04-23T09:24:41.038Z"
   },
   {
    "duration": 23,
    "start_time": "2022-04-23T09:24:41.081Z"
   },
   {
    "duration": 522,
    "start_time": "2022-04-23T09:24:41.107Z"
   },
   {
    "duration": 29,
    "start_time": "2022-04-23T09:24:41.632Z"
   },
   {
    "duration": 20,
    "start_time": "2022-04-23T09:24:41.664Z"
   },
   {
    "duration": 444,
    "start_time": "2022-04-23T09:24:41.687Z"
   },
   {
    "duration": 353,
    "start_time": "2022-04-23T09:24:42.137Z"
   },
   {
    "duration": 494,
    "start_time": "2022-04-23T09:24:42.494Z"
   },
   {
    "duration": 26,
    "start_time": "2022-04-23T09:24:42.991Z"
   },
   {
    "duration": 497,
    "start_time": "2022-04-23T09:24:43.020Z"
   },
   {
    "duration": 34,
    "start_time": "2022-04-23T09:24:43.520Z"
   },
   {
    "duration": 349,
    "start_time": "2022-04-23T09:24:43.557Z"
   },
   {
    "duration": 7,
    "start_time": "2022-04-23T09:24:43.908Z"
   },
   {
    "duration": 543,
    "start_time": "2022-04-23T09:24:43.918Z"
   },
   {
    "duration": 253,
    "start_time": "2022-04-23T09:24:44.464Z"
   },
   {
    "duration": 423,
    "start_time": "2022-04-23T09:24:44.719Z"
   },
   {
    "duration": 343,
    "start_time": "2022-04-23T09:24:45.152Z"
   },
   {
    "duration": 6,
    "start_time": "2022-04-23T09:24:45.498Z"
   },
   {
    "duration": 270,
    "start_time": "2022-04-23T09:24:45.506Z"
   },
   {
    "duration": 266,
    "start_time": "2022-04-23T09:24:45.778Z"
   },
   {
    "duration": 9,
    "start_time": "2022-04-23T09:24:46.046Z"
   },
   {
    "duration": 17,
    "start_time": "2022-04-23T09:24:46.057Z"
   },
   {
    "duration": 9,
    "start_time": "2022-04-23T09:24:46.076Z"
   },
   {
    "duration": 78,
    "start_time": "2022-04-23T09:24:46.088Z"
   },
   {
    "duration": 334,
    "start_time": "2022-04-23T09:24:46.168Z"
   },
   {
    "duration": 12,
    "start_time": "2022-04-23T09:24:46.504Z"
   },
   {
    "duration": 469,
    "start_time": "2022-04-23T09:24:46.518Z"
   },
   {
    "duration": 434,
    "start_time": "2022-04-23T09:24:46.990Z"
   },
   {
    "duration": 6,
    "start_time": "2022-04-23T09:24:47.427Z"
   },
   {
    "duration": 7,
    "start_time": "2022-04-23T09:24:47.451Z"
   },
   {
    "duration": 11,
    "start_time": "2022-04-23T09:24:47.460Z"
   },
   {
    "duration": 304,
    "start_time": "2022-04-23T09:24:47.474Z"
   },
   {
    "duration": 9,
    "start_time": "2022-04-23T09:24:47.780Z"
   },
   {
    "duration": 11,
    "start_time": "2022-04-23T09:24:47.792Z"
   },
   {
    "duration": 12,
    "start_time": "2022-04-23T09:24:47.805Z"
   },
   {
    "duration": 13,
    "start_time": "2022-04-23T09:24:47.855Z"
   },
   {
    "duration": 20,
    "start_time": "2022-04-23T09:24:47.871Z"
   },
   {
    "duration": 377,
    "start_time": "2022-04-23T09:24:47.893Z"
   },
   {
    "duration": 10,
    "start_time": "2022-04-23T09:24:48.272Z"
   },
   {
    "duration": 19,
    "start_time": "2022-04-23T09:24:48.284Z"
   },
   {
    "duration": 12,
    "start_time": "2022-04-23T09:24:48.305Z"
   },
   {
    "duration": 32,
    "start_time": "2022-04-23T09:24:48.320Z"
   },
   {
    "duration": 250,
    "start_time": "2022-04-23T09:24:48.354Z"
   },
   {
    "duration": 0,
    "start_time": "2022-04-23T09:24:48.607Z"
   },
   {
    "duration": 0,
    "start_time": "2022-04-23T09:24:48.609Z"
   },
   {
    "duration": 0,
    "start_time": "2022-04-23T09:24:48.611Z"
   },
   {
    "duration": 0,
    "start_time": "2022-04-23T09:24:48.613Z"
   },
   {
    "duration": 0,
    "start_time": "2022-04-23T09:24:48.615Z"
   },
   {
    "duration": 0,
    "start_time": "2022-04-23T09:24:48.617Z"
   },
   {
    "duration": 1,
    "start_time": "2022-04-23T09:24:48.618Z"
   },
   {
    "duration": 0,
    "start_time": "2022-04-23T09:24:48.620Z"
   },
   {
    "duration": 0,
    "start_time": "2022-04-23T09:24:48.622Z"
   },
   {
    "duration": 0,
    "start_time": "2022-04-23T09:24:48.651Z"
   },
   {
    "duration": 0,
    "start_time": "2022-04-23T09:24:48.653Z"
   },
   {
    "duration": 1278,
    "start_time": "2022-04-23T15:42:08.358Z"
   },
   {
    "duration": 4,
    "start_time": "2022-04-23T15:42:09.639Z"
   },
   {
    "duration": 5,
    "start_time": "2022-04-23T15:42:09.645Z"
   },
   {
    "duration": 150,
    "start_time": "2022-04-23T15:42:09.653Z"
   },
   {
    "duration": 4,
    "start_time": "2022-04-23T15:42:09.805Z"
   },
   {
    "duration": 7,
    "start_time": "2022-04-23T15:42:09.810Z"
   },
   {
    "duration": 30,
    "start_time": "2022-04-23T15:42:09.819Z"
   },
   {
    "duration": 27,
    "start_time": "2022-04-23T15:42:09.851Z"
   },
   {
    "duration": 43,
    "start_time": "2022-04-23T15:42:09.880Z"
   },
   {
    "duration": 19,
    "start_time": "2022-04-23T15:42:09.927Z"
   },
   {
    "duration": 8,
    "start_time": "2022-04-23T15:42:09.948Z"
   },
   {
    "duration": 23,
    "start_time": "2022-04-23T15:42:09.957Z"
   },
   {
    "duration": 8,
    "start_time": "2022-04-23T15:42:09.982Z"
   },
   {
    "duration": 10,
    "start_time": "2022-04-23T15:42:09.992Z"
   },
   {
    "duration": 22,
    "start_time": "2022-04-23T15:42:10.004Z"
   },
   {
    "duration": 10,
    "start_time": "2022-04-23T15:42:10.028Z"
   },
   {
    "duration": 35,
    "start_time": "2022-04-23T15:42:10.040Z"
   },
   {
    "duration": 10,
    "start_time": "2022-04-23T15:42:10.077Z"
   },
   {
    "duration": 14,
    "start_time": "2022-04-23T15:42:10.089Z"
   },
   {
    "duration": 18,
    "start_time": "2022-04-23T15:42:10.105Z"
   },
   {
    "duration": 13,
    "start_time": "2022-04-23T15:42:10.125Z"
   },
   {
    "duration": 44,
    "start_time": "2022-04-23T15:42:10.140Z"
   },
   {
    "duration": 14,
    "start_time": "2022-04-23T15:42:10.186Z"
   },
   {
    "duration": 304,
    "start_time": "2022-04-23T15:42:10.202Z"
   },
   {
    "duration": 17,
    "start_time": "2022-04-23T15:42:10.508Z"
   },
   {
    "duration": 18,
    "start_time": "2022-04-23T15:42:10.527Z"
   },
   {
    "duration": 222,
    "start_time": "2022-04-23T15:42:10.547Z"
   },
   {
    "duration": 211,
    "start_time": "2022-04-23T15:42:10.774Z"
   },
   {
    "duration": 347,
    "start_time": "2022-04-23T15:42:10.987Z"
   },
   {
    "duration": 15,
    "start_time": "2022-04-23T15:42:11.336Z"
   },
   {
    "duration": 224,
    "start_time": "2022-04-23T15:42:11.353Z"
   },
   {
    "duration": 25,
    "start_time": "2022-04-23T15:42:11.579Z"
   },
   {
    "duration": 233,
    "start_time": "2022-04-23T15:42:11.605Z"
   },
   {
    "duration": 4,
    "start_time": "2022-04-23T15:42:11.840Z"
   },
   {
    "duration": 327,
    "start_time": "2022-04-23T15:42:11.846Z"
   },
   {
    "duration": 144,
    "start_time": "2022-04-23T15:42:12.175Z"
   },
   {
    "duration": 245,
    "start_time": "2022-04-23T15:42:12.321Z"
   },
   {
    "duration": 158,
    "start_time": "2022-04-23T15:42:12.568Z"
   },
   {
    "duration": 5,
    "start_time": "2022-04-23T15:42:12.728Z"
   },
   {
    "duration": 161,
    "start_time": "2022-04-23T15:42:12.734Z"
   },
   {
    "duration": 155,
    "start_time": "2022-04-23T15:42:12.897Z"
   },
   {
    "duration": 4,
    "start_time": "2022-04-23T15:42:13.054Z"
   },
   {
    "duration": 20,
    "start_time": "2022-04-23T15:42:13.060Z"
   },
   {
    "duration": 7,
    "start_time": "2022-04-23T15:42:13.082Z"
   },
   {
    "duration": 29,
    "start_time": "2022-04-23T15:42:13.090Z"
   },
   {
    "duration": 234,
    "start_time": "2022-04-23T15:42:13.120Z"
   },
   {
    "duration": 23,
    "start_time": "2022-04-23T15:42:13.355Z"
   },
   {
    "duration": 200,
    "start_time": "2022-04-23T15:42:13.380Z"
   },
   {
    "duration": 315,
    "start_time": "2022-04-23T15:42:13.582Z"
   },
   {
    "duration": 4,
    "start_time": "2022-04-23T15:42:13.899Z"
   },
   {
    "duration": 7,
    "start_time": "2022-04-23T15:42:13.905Z"
   },
   {
    "duration": 8,
    "start_time": "2022-04-23T15:42:13.913Z"
   },
   {
    "duration": 187,
    "start_time": "2022-04-23T15:42:13.922Z"
   },
   {
    "duration": 7,
    "start_time": "2022-04-23T15:42:14.110Z"
   },
   {
    "duration": 16,
    "start_time": "2022-04-23T15:42:14.119Z"
   },
   {
    "duration": 12,
    "start_time": "2022-04-23T15:42:14.137Z"
   },
   {
    "duration": 26,
    "start_time": "2022-04-23T15:42:14.150Z"
   },
   {
    "duration": 16,
    "start_time": "2022-04-23T15:42:14.177Z"
   },
   {
    "duration": 159,
    "start_time": "2022-04-23T15:42:14.195Z"
   },
   {
    "duration": 6,
    "start_time": "2022-04-23T15:42:14.356Z"
   },
   {
    "duration": 4,
    "start_time": "2022-04-23T15:42:14.374Z"
   },
   {
    "duration": 8,
    "start_time": "2022-04-23T15:42:14.380Z"
   },
   {
    "duration": 6,
    "start_time": "2022-04-23T15:42:14.390Z"
   },
   {
    "duration": 119,
    "start_time": "2022-04-23T15:42:14.398Z"
   },
   {
    "duration": 0,
    "start_time": "2022-04-23T15:42:14.519Z"
   },
   {
    "duration": 0,
    "start_time": "2022-04-23T15:42:14.520Z"
   },
   {
    "duration": 0,
    "start_time": "2022-04-23T15:42:14.522Z"
   },
   {
    "duration": 0,
    "start_time": "2022-04-23T15:42:14.523Z"
   },
   {
    "duration": 0,
    "start_time": "2022-04-23T15:42:14.524Z"
   },
   {
    "duration": 0,
    "start_time": "2022-04-23T15:42:14.526Z"
   },
   {
    "duration": 0,
    "start_time": "2022-04-23T15:42:14.527Z"
   },
   {
    "duration": 0,
    "start_time": "2022-04-23T15:42:14.528Z"
   },
   {
    "duration": 0,
    "start_time": "2022-04-23T15:42:14.529Z"
   },
   {
    "duration": 0,
    "start_time": "2022-04-23T15:42:14.530Z"
   },
   {
    "duration": 0,
    "start_time": "2022-04-23T15:42:14.531Z"
   },
   {
    "duration": 44,
    "start_time": "2022-06-16T19:36:11.890Z"
   },
   {
    "duration": 1062,
    "start_time": "2022-06-16T19:36:22.347Z"
   },
   {
    "duration": 2,
    "start_time": "2022-06-16T19:36:23.411Z"
   },
   {
    "duration": 4,
    "start_time": "2022-06-16T19:36:23.415Z"
   },
   {
    "duration": 122,
    "start_time": "2022-06-16T19:36:23.421Z"
   },
   {
    "duration": 3,
    "start_time": "2022-06-16T19:36:23.545Z"
   },
   {
    "duration": 8,
    "start_time": "2022-06-16T19:36:23.549Z"
   },
   {
    "duration": 65,
    "start_time": "2022-06-16T19:36:23.559Z"
   },
   {
    "duration": 16,
    "start_time": "2022-06-16T19:36:23.626Z"
   },
   {
    "duration": 81,
    "start_time": "2022-06-16T19:36:23.644Z"
   },
   {
    "duration": 20,
    "start_time": "2022-06-16T19:36:23.728Z"
   },
   {
    "duration": 11,
    "start_time": "2022-06-16T19:36:23.750Z"
   },
   {
    "duration": 16,
    "start_time": "2022-06-16T19:36:23.762Z"
   },
   {
    "duration": 19,
    "start_time": "2022-06-16T19:36:23.780Z"
   },
   {
    "duration": 7,
    "start_time": "2022-06-16T19:36:23.802Z"
   },
   {
    "duration": 17,
    "start_time": "2022-06-16T19:36:23.811Z"
   },
   {
    "duration": 9,
    "start_time": "2022-06-16T19:36:23.830Z"
   },
   {
    "duration": 71,
    "start_time": "2022-06-16T19:36:23.841Z"
   },
   {
    "duration": 10,
    "start_time": "2022-06-16T19:36:23.913Z"
   },
   {
    "duration": 11,
    "start_time": "2022-06-16T19:36:23.924Z"
   },
   {
    "duration": 14,
    "start_time": "2022-06-16T19:36:23.937Z"
   },
   {
    "duration": 12,
    "start_time": "2022-06-16T19:36:23.952Z"
   },
   {
    "duration": 39,
    "start_time": "2022-06-16T19:36:23.965Z"
   },
   {
    "duration": 15,
    "start_time": "2022-06-16T19:36:24.006Z"
   },
   {
    "duration": 299,
    "start_time": "2022-06-16T19:36:24.023Z"
   },
   {
    "duration": 14,
    "start_time": "2022-06-16T19:36:24.323Z"
   },
   {
    "duration": 15,
    "start_time": "2022-06-16T19:36:24.338Z"
   },
   {
    "duration": 207,
    "start_time": "2022-06-16T19:36:24.355Z"
   },
   {
    "duration": 208,
    "start_time": "2022-06-16T19:36:24.566Z"
   },
   {
    "duration": 313,
    "start_time": "2022-06-16T19:36:24.775Z"
   },
   {
    "duration": 22,
    "start_time": "2022-06-16T19:36:25.095Z"
   },
   {
    "duration": 238,
    "start_time": "2022-06-16T19:36:25.119Z"
   },
   {
    "duration": 24,
    "start_time": "2022-06-16T19:36:25.359Z"
   },
   {
    "duration": 196,
    "start_time": "2022-06-16T19:36:25.384Z"
   },
   {
    "duration": 4,
    "start_time": "2022-06-16T19:36:25.582Z"
   },
   {
    "duration": 299,
    "start_time": "2022-06-16T19:36:25.595Z"
   },
   {
    "duration": 127,
    "start_time": "2022-06-16T19:36:25.896Z"
   },
   {
    "duration": 231,
    "start_time": "2022-06-16T19:36:26.025Z"
   },
   {
    "duration": 142,
    "start_time": "2022-06-16T19:36:26.257Z"
   },
   {
    "duration": 4,
    "start_time": "2022-06-16T19:36:26.401Z"
   },
   {
    "duration": 149,
    "start_time": "2022-06-16T19:36:26.407Z"
   },
   {
    "duration": 145,
    "start_time": "2022-06-16T19:36:26.558Z"
   },
   {
    "duration": 4,
    "start_time": "2022-06-16T19:36:26.704Z"
   },
   {
    "duration": 10,
    "start_time": "2022-06-16T19:36:26.710Z"
   },
   {
    "duration": 15,
    "start_time": "2022-06-16T19:36:26.721Z"
   },
   {
    "duration": 27,
    "start_time": "2022-06-16T19:36:26.737Z"
   },
   {
    "duration": 203,
    "start_time": "2022-06-16T19:36:26.765Z"
   },
   {
    "duration": 8,
    "start_time": "2022-06-16T19:36:26.970Z"
   },
   {
    "duration": 195,
    "start_time": "2022-06-16T19:36:26.980Z"
   },
   {
    "duration": 357,
    "start_time": "2022-06-16T19:36:27.176Z"
   },
   {
    "duration": 6,
    "start_time": "2022-06-16T19:36:27.534Z"
   },
   {
    "duration": 9,
    "start_time": "2022-06-16T19:36:27.542Z"
   },
   {
    "duration": 14,
    "start_time": "2022-06-16T19:36:27.553Z"
   },
   {
    "duration": 176,
    "start_time": "2022-06-16T19:36:27.569Z"
   },
   {
    "duration": 6,
    "start_time": "2022-06-16T19:36:27.746Z"
   },
   {
    "duration": 7,
    "start_time": "2022-06-16T19:36:27.754Z"
   },
   {
    "duration": 9,
    "start_time": "2022-06-16T19:36:27.763Z"
   },
   {
    "duration": 30,
    "start_time": "2022-06-16T19:36:27.774Z"
   },
   {
    "duration": 19,
    "start_time": "2022-06-16T19:36:27.806Z"
   },
   {
    "duration": 156,
    "start_time": "2022-06-16T19:36:27.826Z"
   },
   {
    "duration": 13,
    "start_time": "2022-06-16T19:36:27.984Z"
   },
   {
    "duration": 9,
    "start_time": "2022-06-16T19:36:27.998Z"
   },
   {
    "duration": 7,
    "start_time": "2022-06-16T19:36:28.008Z"
   },
   {
    "duration": 8,
    "start_time": "2022-06-16T19:36:28.017Z"
   },
   {
    "duration": 74,
    "start_time": "2022-06-16T19:36:28.027Z"
   },
   {
    "duration": 0,
    "start_time": "2022-06-16T19:36:28.103Z"
   },
   {
    "duration": 0,
    "start_time": "2022-06-16T19:36:28.104Z"
   },
   {
    "duration": 1,
    "start_time": "2022-06-16T19:36:28.105Z"
   },
   {
    "duration": 0,
    "start_time": "2022-06-16T19:36:28.107Z"
   },
   {
    "duration": 0,
    "start_time": "2022-06-16T19:36:28.109Z"
   },
   {
    "duration": 0,
    "start_time": "2022-06-16T19:36:28.110Z"
   },
   {
    "duration": 0,
    "start_time": "2022-06-16T19:36:28.111Z"
   },
   {
    "duration": 0,
    "start_time": "2022-06-16T19:36:28.112Z"
   },
   {
    "duration": 0,
    "start_time": "2022-06-16T19:36:28.114Z"
   },
   {
    "duration": 0,
    "start_time": "2022-06-16T19:36:28.115Z"
   },
   {
    "duration": 0,
    "start_time": "2022-06-16T19:36:28.116Z"
   },
   {
    "duration": 15,
    "start_time": "2022-06-16T19:39:05.387Z"
   },
   {
    "duration": 46,
    "start_time": "2022-06-17T14:16:22.337Z"
   },
   {
    "duration": 1026,
    "start_time": "2022-06-17T14:16:25.591Z"
   },
   {
    "duration": 3,
    "start_time": "2022-06-17T14:16:26.619Z"
   },
   {
    "duration": 7,
    "start_time": "2022-06-17T14:16:26.624Z"
   },
   {
    "duration": 112,
    "start_time": "2022-06-17T14:16:26.633Z"
   },
   {
    "duration": 2,
    "start_time": "2022-06-17T14:16:26.748Z"
   },
   {
    "duration": 15,
    "start_time": "2022-06-17T14:16:26.751Z"
   },
   {
    "duration": 74,
    "start_time": "2022-06-17T14:16:26.768Z"
   },
   {
    "duration": 15,
    "start_time": "2022-06-17T14:16:26.844Z"
   },
   {
    "duration": 97,
    "start_time": "2022-06-17T14:16:26.861Z"
   },
   {
    "duration": 17,
    "start_time": "2022-06-17T14:16:26.959Z"
   },
   {
    "duration": 10,
    "start_time": "2022-06-17T14:16:26.977Z"
   },
   {
    "duration": 18,
    "start_time": "2022-06-17T14:16:26.988Z"
   },
   {
    "duration": 9,
    "start_time": "2022-06-17T14:16:27.008Z"
   },
   {
    "duration": 9,
    "start_time": "2022-06-17T14:16:27.019Z"
   },
   {
    "duration": 33,
    "start_time": "2022-06-17T14:16:27.030Z"
   },
   {
    "duration": 8,
    "start_time": "2022-06-17T14:16:27.065Z"
   },
   {
    "duration": 62,
    "start_time": "2022-06-17T14:16:27.074Z"
   },
   {
    "duration": 8,
    "start_time": "2022-06-17T14:16:27.138Z"
   },
   {
    "duration": 20,
    "start_time": "2022-06-17T14:16:27.148Z"
   },
   {
    "duration": 20,
    "start_time": "2022-06-17T14:16:27.170Z"
   },
   {
    "duration": 28,
    "start_time": "2022-06-17T14:16:27.192Z"
   },
   {
    "duration": 20,
    "start_time": "2022-06-17T14:16:27.222Z"
   },
   {
    "duration": 26,
    "start_time": "2022-06-17T14:16:27.244Z"
   },
   {
    "duration": 327,
    "start_time": "2022-06-17T14:16:27.273Z"
   },
   {
    "duration": 13,
    "start_time": "2022-06-17T14:16:27.602Z"
   },
   {
    "duration": 26,
    "start_time": "2022-06-17T14:16:27.617Z"
   },
   {
    "duration": 210,
    "start_time": "2022-06-17T14:16:27.645Z"
   },
   {
    "duration": 188,
    "start_time": "2022-06-17T14:16:27.859Z"
   },
   {
    "duration": 321,
    "start_time": "2022-06-17T14:16:28.049Z"
   },
   {
    "duration": 15,
    "start_time": "2022-06-17T14:16:28.372Z"
   },
   {
    "duration": 231,
    "start_time": "2022-06-17T14:16:28.389Z"
   },
   {
    "duration": 21,
    "start_time": "2022-06-17T14:16:28.622Z"
   },
   {
    "duration": 204,
    "start_time": "2022-06-17T14:16:28.645Z"
   },
   {
    "duration": 4,
    "start_time": "2022-06-17T14:16:28.858Z"
   },
   {
    "duration": 319,
    "start_time": "2022-06-17T14:16:28.864Z"
   },
   {
    "duration": 161,
    "start_time": "2022-06-17T14:16:29.185Z"
   },
   {
    "duration": 225,
    "start_time": "2022-06-17T14:16:29.348Z"
   },
   {
    "duration": 145,
    "start_time": "2022-06-17T14:16:29.575Z"
   },
   {
    "duration": 4,
    "start_time": "2022-06-17T14:16:29.722Z"
   },
   {
    "duration": 159,
    "start_time": "2022-06-17T14:16:29.728Z"
   },
   {
    "duration": 160,
    "start_time": "2022-06-17T14:16:29.891Z"
   },
   {
    "duration": 8,
    "start_time": "2022-06-17T14:16:30.053Z"
   },
   {
    "duration": 17,
    "start_time": "2022-06-17T14:16:30.063Z"
   },
   {
    "duration": 20,
    "start_time": "2022-06-17T14:16:30.082Z"
   },
   {
    "duration": 27,
    "start_time": "2022-06-17T14:16:30.104Z"
   },
   {
    "duration": 198,
    "start_time": "2022-06-17T14:16:30.133Z"
   },
   {
    "duration": 8,
    "start_time": "2022-06-17T14:16:30.333Z"
   },
   {
    "duration": 200,
    "start_time": "2022-06-17T14:16:30.342Z"
   },
   {
    "duration": 304,
    "start_time": "2022-06-17T14:16:30.543Z"
   },
   {
    "duration": 22,
    "start_time": "2022-06-17T14:16:30.848Z"
   },
   {
    "duration": 20,
    "start_time": "2022-06-17T14:16:30.872Z"
   },
   {
    "duration": 12,
    "start_time": "2022-06-17T14:16:30.894Z"
   },
   {
    "duration": 11,
    "start_time": "2022-06-17T14:16:30.908Z"
   },
   {
    "duration": 191,
    "start_time": "2022-06-17T14:16:30.921Z"
   },
   {
    "duration": 7,
    "start_time": "2022-06-17T14:16:31.114Z"
   },
   {
    "duration": 24,
    "start_time": "2022-06-17T14:16:31.123Z"
   },
   {
    "duration": 21,
    "start_time": "2022-06-17T14:16:31.149Z"
   },
   {
    "duration": 20,
    "start_time": "2022-06-17T14:16:31.172Z"
   },
   {
    "duration": 52,
    "start_time": "2022-06-17T14:16:31.193Z"
   },
   {
    "duration": 153,
    "start_time": "2022-06-17T14:16:31.247Z"
   },
   {
    "duration": 6,
    "start_time": "2022-06-17T14:16:31.402Z"
   },
   {
    "duration": 64,
    "start_time": "2022-06-17T14:16:31.410Z"
   },
   {
    "duration": 27,
    "start_time": "2022-06-17T14:16:31.475Z"
   },
   {
    "duration": 27,
    "start_time": "2022-06-17T14:16:31.504Z"
   },
   {
    "duration": 68,
    "start_time": "2022-06-17T14:16:31.533Z"
   },
   {
    "duration": 0,
    "start_time": "2022-06-17T14:16:31.603Z"
   },
   {
    "duration": 0,
    "start_time": "2022-06-17T14:16:31.605Z"
   },
   {
    "duration": 0,
    "start_time": "2022-06-17T14:16:31.606Z"
   },
   {
    "duration": 0,
    "start_time": "2022-06-17T14:16:31.608Z"
   },
   {
    "duration": 0,
    "start_time": "2022-06-17T14:16:31.609Z"
   },
   {
    "duration": 0,
    "start_time": "2022-06-17T14:16:31.611Z"
   },
   {
    "duration": 0,
    "start_time": "2022-06-17T14:16:31.612Z"
   },
   {
    "duration": 0,
    "start_time": "2022-06-17T14:16:31.614Z"
   },
   {
    "duration": 0,
    "start_time": "2022-06-17T14:16:31.616Z"
   },
   {
    "duration": 0,
    "start_time": "2022-06-17T14:16:31.618Z"
   },
   {
    "duration": 0,
    "start_time": "2022-06-17T14:16:31.619Z"
   },
   {
    "duration": 1085,
    "start_time": "2022-06-23T05:57:16.514Z"
   },
   {
    "duration": 2,
    "start_time": "2022-06-23T05:57:17.601Z"
   },
   {
    "duration": 14,
    "start_time": "2022-06-23T05:57:17.605Z"
   },
   {
    "duration": 118,
    "start_time": "2022-06-23T05:57:17.620Z"
   },
   {
    "duration": 3,
    "start_time": "2022-06-23T05:57:17.741Z"
   },
   {
    "duration": 18,
    "start_time": "2022-06-23T05:57:17.746Z"
   },
   {
    "duration": 90,
    "start_time": "2022-06-23T05:57:17.765Z"
   },
   {
    "duration": 14,
    "start_time": "2022-06-23T05:57:17.857Z"
   },
   {
    "duration": 147,
    "start_time": "2022-06-23T05:57:17.872Z"
   },
   {
    "duration": 18,
    "start_time": "2022-06-23T05:57:18.021Z"
   },
   {
    "duration": 23,
    "start_time": "2022-06-23T05:57:18.041Z"
   },
   {
    "duration": 18,
    "start_time": "2022-06-23T05:57:18.065Z"
   },
   {
    "duration": 15,
    "start_time": "2022-06-23T05:57:18.084Z"
   },
   {
    "duration": 13,
    "start_time": "2022-06-23T05:57:18.103Z"
   },
   {
    "duration": 14,
    "start_time": "2022-06-23T05:57:18.117Z"
   },
   {
    "duration": 16,
    "start_time": "2022-06-23T05:57:18.132Z"
   },
   {
    "duration": 68,
    "start_time": "2022-06-23T05:57:18.149Z"
   },
   {
    "duration": 8,
    "start_time": "2022-06-23T05:57:18.218Z"
   },
   {
    "duration": 18,
    "start_time": "2022-06-23T05:57:18.228Z"
   },
   {
    "duration": 17,
    "start_time": "2022-06-23T05:57:18.247Z"
   },
   {
    "duration": 12,
    "start_time": "2022-06-23T05:57:18.267Z"
   },
   {
    "duration": 16,
    "start_time": "2022-06-23T05:57:18.281Z"
   },
   {
    "duration": 13,
    "start_time": "2022-06-23T05:57:18.298Z"
   },
   {
    "duration": 296,
    "start_time": "2022-06-23T05:57:18.313Z"
   },
   {
    "duration": 25,
    "start_time": "2022-06-23T05:57:18.611Z"
   },
   {
    "duration": 26,
    "start_time": "2022-06-23T05:57:18.638Z"
   },
   {
    "duration": 194,
    "start_time": "2022-06-23T05:57:18.666Z"
   },
   {
    "duration": 192,
    "start_time": "2022-06-23T05:57:18.861Z"
   },
   {
    "duration": 273,
    "start_time": "2022-06-23T05:57:19.055Z"
   },
   {
    "duration": 14,
    "start_time": "2022-06-23T05:57:19.330Z"
   },
   {
    "duration": 244,
    "start_time": "2022-06-23T05:57:19.345Z"
   },
   {
    "duration": 23,
    "start_time": "2022-06-23T05:57:19.591Z"
   },
   {
    "duration": 205,
    "start_time": "2022-06-23T05:57:19.616Z"
   },
   {
    "duration": 4,
    "start_time": "2022-06-23T05:57:19.826Z"
   },
   {
    "duration": 329,
    "start_time": "2022-06-23T05:57:19.832Z"
   },
   {
    "duration": 129,
    "start_time": "2022-06-23T05:57:20.163Z"
   },
   {
    "duration": 216,
    "start_time": "2022-06-23T05:57:20.293Z"
   },
   {
    "duration": 146,
    "start_time": "2022-06-23T05:57:20.511Z"
   },
   {
    "duration": 4,
    "start_time": "2022-06-23T05:57:20.659Z"
   },
   {
    "duration": 168,
    "start_time": "2022-06-23T05:57:20.664Z"
   },
   {
    "duration": 139,
    "start_time": "2022-06-23T05:57:20.836Z"
   },
   {
    "duration": 5,
    "start_time": "2022-06-23T05:57:20.976Z"
   },
   {
    "duration": 35,
    "start_time": "2022-06-23T05:57:20.982Z"
   },
   {
    "duration": 15,
    "start_time": "2022-06-23T05:57:21.019Z"
   },
   {
    "duration": 59,
    "start_time": "2022-06-23T05:57:21.036Z"
   },
   {
    "duration": 213,
    "start_time": "2022-06-23T05:57:21.097Z"
   },
   {
    "duration": 16,
    "start_time": "2022-06-23T05:57:21.311Z"
   },
   {
    "duration": 249,
    "start_time": "2022-06-23T05:57:21.328Z"
   },
   {
    "duration": 336,
    "start_time": "2022-06-23T05:57:21.579Z"
   },
   {
    "duration": 11,
    "start_time": "2022-06-23T05:57:21.917Z"
   },
   {
    "duration": 31,
    "start_time": "2022-06-23T05:57:21.930Z"
   },
   {
    "duration": 40,
    "start_time": "2022-06-23T05:57:21.963Z"
   },
   {
    "duration": 205,
    "start_time": "2022-06-23T05:57:22.005Z"
   },
   {
    "duration": 6,
    "start_time": "2022-06-23T05:57:22.212Z"
   },
   {
    "duration": 17,
    "start_time": "2022-06-23T05:57:22.220Z"
   },
   {
    "duration": 34,
    "start_time": "2022-06-23T05:57:22.238Z"
   },
   {
    "duration": 43,
    "start_time": "2022-06-23T05:57:22.274Z"
   },
   {
    "duration": 36,
    "start_time": "2022-06-23T05:57:22.318Z"
   },
   {
    "duration": 158,
    "start_time": "2022-06-23T05:57:22.356Z"
   },
   {
    "duration": 6,
    "start_time": "2022-06-23T05:57:22.516Z"
   },
   {
    "duration": 19,
    "start_time": "2022-06-23T05:57:22.526Z"
   },
   {
    "duration": 27,
    "start_time": "2022-06-23T05:57:22.546Z"
   },
   {
    "duration": 47,
    "start_time": "2022-06-23T05:57:22.574Z"
   },
   {
    "duration": 114,
    "start_time": "2022-06-23T05:57:22.623Z"
   },
   {
    "duration": 0,
    "start_time": "2022-06-23T05:57:22.739Z"
   },
   {
    "duration": 0,
    "start_time": "2022-06-23T05:57:22.740Z"
   },
   {
    "duration": 0,
    "start_time": "2022-06-23T05:57:22.741Z"
   },
   {
    "duration": 0,
    "start_time": "2022-06-23T05:57:22.742Z"
   },
   {
    "duration": 0,
    "start_time": "2022-06-23T05:57:22.744Z"
   },
   {
    "duration": 0,
    "start_time": "2022-06-23T05:57:22.745Z"
   },
   {
    "duration": 0,
    "start_time": "2022-06-23T05:57:22.746Z"
   },
   {
    "duration": 0,
    "start_time": "2022-06-23T05:57:22.748Z"
   },
   {
    "duration": 0,
    "start_time": "2022-06-23T05:57:22.749Z"
   },
   {
    "duration": 0,
    "start_time": "2022-06-23T05:57:22.751Z"
   },
   {
    "duration": 0,
    "start_time": "2022-06-23T05:57:22.753Z"
   }
  ],
  "kernelspec": {
   "display_name": "Python 3 (ipykernel)",
   "language": "python",
   "name": "python3"
  },
  "language_info": {
   "codemirror_mode": {
    "name": "ipython",
    "version": 3
   },
   "file_extension": ".py",
   "mimetype": "text/x-python",
   "name": "python",
   "nbconvert_exporter": "python",
   "pygments_lexer": "ipython3",
   "version": "3.9.12"
  },
  "toc": {
   "base_numbering": 1,
   "nav_menu": {},
   "number_sections": false,
   "sideBar": true,
   "skip_h1_title": false,
   "title_cell": "Table of Contents",
   "title_sidebar": "Contents",
   "toc_cell": false,
   "toc_position": {
    "height": "calc(100% - 180px)",
    "left": "10px",
    "top": "150px",
    "width": "302.391px"
   },
   "toc_section_display": true,
   "toc_window_display": true
  }
 },
 "nbformat": 4,
 "nbformat_minor": 4
}
